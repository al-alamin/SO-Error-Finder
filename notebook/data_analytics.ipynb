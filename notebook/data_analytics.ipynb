{
  "nbformat": 4,
  "nbformat_minor": 0,
  "metadata": {
    "colab": {
      "name": "data_analytics.ipynb",
      "provenance": [],
      "collapsed_sections": [],
      "toc_visible": true
    },
    "kernelspec": {
      "name": "python3",
      "display_name": "Python 3"
    },
    "language_info": {
      "name": "python"
    },
    "accelerator": "GPU",
    "widgets": {
      "application/vnd.jupyter.widget-state+json": {
        "4bebcc1eca06449cb28f47a8d237a39f": {
          "model_module": "@jupyter-widgets/controls",
          "model_name": "HBoxModel",
          "model_module_version": "1.5.0",
          "state": {
            "_dom_classes": [],
            "_model_module": "@jupyter-widgets/controls",
            "_model_module_version": "1.5.0",
            "_model_name": "HBoxModel",
            "_view_count": null,
            "_view_module": "@jupyter-widgets/controls",
            "_view_module_version": "1.5.0",
            "_view_name": "HBoxView",
            "box_style": "",
            "children": [
              "IPY_MODEL_26fdafdfee774ba9bf8c2387b68149f4",
              "IPY_MODEL_5ad31da1399c4c80aff2fa000d34022f",
              "IPY_MODEL_fe23a0a39a4146689a8418d58a9e728f"
            ],
            "layout": "IPY_MODEL_b79e2ddfe693472b8207f2502255fc3b"
          }
        },
        "26fdafdfee774ba9bf8c2387b68149f4": {
          "model_module": "@jupyter-widgets/controls",
          "model_name": "HTMLModel",
          "model_module_version": "1.5.0",
          "state": {
            "_dom_classes": [],
            "_model_module": "@jupyter-widgets/controls",
            "_model_module_version": "1.5.0",
            "_model_name": "HTMLModel",
            "_view_count": null,
            "_view_module": "@jupyter-widgets/controls",
            "_view_module_version": "1.5.0",
            "_view_name": "HTMLView",
            "description": "",
            "description_tooltip": null,
            "layout": "IPY_MODEL_664882ae16c34f4aae8353c3cd539eed",
            "placeholder": "​",
            "style": "IPY_MODEL_a4d2c30d6abf4862b3dcfa06bbe9ba18",
            "value": "Downloading: 100%"
          }
        },
        "5ad31da1399c4c80aff2fa000d34022f": {
          "model_module": "@jupyter-widgets/controls",
          "model_name": "FloatProgressModel",
          "model_module_version": "1.5.0",
          "state": {
            "_dom_classes": [],
            "_model_module": "@jupyter-widgets/controls",
            "_model_module_version": "1.5.0",
            "_model_name": "FloatProgressModel",
            "_view_count": null,
            "_view_module": "@jupyter-widgets/controls",
            "_view_module_version": "1.5.0",
            "_view_name": "ProgressView",
            "bar_style": "success",
            "description": "",
            "description_tooltip": null,
            "layout": "IPY_MODEL_806329627f9f49988297a75147823b70",
            "max": 571,
            "min": 0,
            "orientation": "horizontal",
            "style": "IPY_MODEL_f7ecccaf19074fc4bfb684b82fc12580",
            "value": 571
          }
        },
        "fe23a0a39a4146689a8418d58a9e728f": {
          "model_module": "@jupyter-widgets/controls",
          "model_name": "HTMLModel",
          "model_module_version": "1.5.0",
          "state": {
            "_dom_classes": [],
            "_model_module": "@jupyter-widgets/controls",
            "_model_module_version": "1.5.0",
            "_model_name": "HTMLModel",
            "_view_count": null,
            "_view_module": "@jupyter-widgets/controls",
            "_view_module_version": "1.5.0",
            "_view_name": "HTMLView",
            "description": "",
            "description_tooltip": null,
            "layout": "IPY_MODEL_bd4e954afab44fa08ff84051c8076019",
            "placeholder": "​",
            "style": "IPY_MODEL_40586c839c6043578a0ad90065d40462",
            "value": " 571/571 [00:00&lt;00:00, 10.4kB/s]"
          }
        },
        "b79e2ddfe693472b8207f2502255fc3b": {
          "model_module": "@jupyter-widgets/base",
          "model_name": "LayoutModel",
          "model_module_version": "1.2.0",
          "state": {
            "_model_module": "@jupyter-widgets/base",
            "_model_module_version": "1.2.0",
            "_model_name": "LayoutModel",
            "_view_count": null,
            "_view_module": "@jupyter-widgets/base",
            "_view_module_version": "1.2.0",
            "_view_name": "LayoutView",
            "align_content": null,
            "align_items": null,
            "align_self": null,
            "border": null,
            "bottom": null,
            "display": null,
            "flex": null,
            "flex_flow": null,
            "grid_area": null,
            "grid_auto_columns": null,
            "grid_auto_flow": null,
            "grid_auto_rows": null,
            "grid_column": null,
            "grid_gap": null,
            "grid_row": null,
            "grid_template_areas": null,
            "grid_template_columns": null,
            "grid_template_rows": null,
            "height": null,
            "justify_content": null,
            "justify_items": null,
            "left": null,
            "margin": null,
            "max_height": null,
            "max_width": null,
            "min_height": null,
            "min_width": null,
            "object_fit": null,
            "object_position": null,
            "order": null,
            "overflow": null,
            "overflow_x": null,
            "overflow_y": null,
            "padding": null,
            "right": null,
            "top": null,
            "visibility": null,
            "width": null
          }
        },
        "664882ae16c34f4aae8353c3cd539eed": {
          "model_module": "@jupyter-widgets/base",
          "model_name": "LayoutModel",
          "model_module_version": "1.2.0",
          "state": {
            "_model_module": "@jupyter-widgets/base",
            "_model_module_version": "1.2.0",
            "_model_name": "LayoutModel",
            "_view_count": null,
            "_view_module": "@jupyter-widgets/base",
            "_view_module_version": "1.2.0",
            "_view_name": "LayoutView",
            "align_content": null,
            "align_items": null,
            "align_self": null,
            "border": null,
            "bottom": null,
            "display": null,
            "flex": null,
            "flex_flow": null,
            "grid_area": null,
            "grid_auto_columns": null,
            "grid_auto_flow": null,
            "grid_auto_rows": null,
            "grid_column": null,
            "grid_gap": null,
            "grid_row": null,
            "grid_template_areas": null,
            "grid_template_columns": null,
            "grid_template_rows": null,
            "height": null,
            "justify_content": null,
            "justify_items": null,
            "left": null,
            "margin": null,
            "max_height": null,
            "max_width": null,
            "min_height": null,
            "min_width": null,
            "object_fit": null,
            "object_position": null,
            "order": null,
            "overflow": null,
            "overflow_x": null,
            "overflow_y": null,
            "padding": null,
            "right": null,
            "top": null,
            "visibility": null,
            "width": null
          }
        },
        "a4d2c30d6abf4862b3dcfa06bbe9ba18": {
          "model_module": "@jupyter-widgets/controls",
          "model_name": "DescriptionStyleModel",
          "model_module_version": "1.5.0",
          "state": {
            "_model_module": "@jupyter-widgets/controls",
            "_model_module_version": "1.5.0",
            "_model_name": "DescriptionStyleModel",
            "_view_count": null,
            "_view_module": "@jupyter-widgets/base",
            "_view_module_version": "1.2.0",
            "_view_name": "StyleView",
            "description_width": ""
          }
        },
        "806329627f9f49988297a75147823b70": {
          "model_module": "@jupyter-widgets/base",
          "model_name": "LayoutModel",
          "model_module_version": "1.2.0",
          "state": {
            "_model_module": "@jupyter-widgets/base",
            "_model_module_version": "1.2.0",
            "_model_name": "LayoutModel",
            "_view_count": null,
            "_view_module": "@jupyter-widgets/base",
            "_view_module_version": "1.2.0",
            "_view_name": "LayoutView",
            "align_content": null,
            "align_items": null,
            "align_self": null,
            "border": null,
            "bottom": null,
            "display": null,
            "flex": null,
            "flex_flow": null,
            "grid_area": null,
            "grid_auto_columns": null,
            "grid_auto_flow": null,
            "grid_auto_rows": null,
            "grid_column": null,
            "grid_gap": null,
            "grid_row": null,
            "grid_template_areas": null,
            "grid_template_columns": null,
            "grid_template_rows": null,
            "height": null,
            "justify_content": null,
            "justify_items": null,
            "left": null,
            "margin": null,
            "max_height": null,
            "max_width": null,
            "min_height": null,
            "min_width": null,
            "object_fit": null,
            "object_position": null,
            "order": null,
            "overflow": null,
            "overflow_x": null,
            "overflow_y": null,
            "padding": null,
            "right": null,
            "top": null,
            "visibility": null,
            "width": null
          }
        },
        "f7ecccaf19074fc4bfb684b82fc12580": {
          "model_module": "@jupyter-widgets/controls",
          "model_name": "ProgressStyleModel",
          "model_module_version": "1.5.0",
          "state": {
            "_model_module": "@jupyter-widgets/controls",
            "_model_module_version": "1.5.0",
            "_model_name": "ProgressStyleModel",
            "_view_count": null,
            "_view_module": "@jupyter-widgets/base",
            "_view_module_version": "1.2.0",
            "_view_name": "StyleView",
            "bar_color": null,
            "description_width": ""
          }
        },
        "bd4e954afab44fa08ff84051c8076019": {
          "model_module": "@jupyter-widgets/base",
          "model_name": "LayoutModel",
          "model_module_version": "1.2.0",
          "state": {
            "_model_module": "@jupyter-widgets/base",
            "_model_module_version": "1.2.0",
            "_model_name": "LayoutModel",
            "_view_count": null,
            "_view_module": "@jupyter-widgets/base",
            "_view_module_version": "1.2.0",
            "_view_name": "LayoutView",
            "align_content": null,
            "align_items": null,
            "align_self": null,
            "border": null,
            "bottom": null,
            "display": null,
            "flex": null,
            "flex_flow": null,
            "grid_area": null,
            "grid_auto_columns": null,
            "grid_auto_flow": null,
            "grid_auto_rows": null,
            "grid_column": null,
            "grid_gap": null,
            "grid_row": null,
            "grid_template_areas": null,
            "grid_template_columns": null,
            "grid_template_rows": null,
            "height": null,
            "justify_content": null,
            "justify_items": null,
            "left": null,
            "margin": null,
            "max_height": null,
            "max_width": null,
            "min_height": null,
            "min_width": null,
            "object_fit": null,
            "object_position": null,
            "order": null,
            "overflow": null,
            "overflow_x": null,
            "overflow_y": null,
            "padding": null,
            "right": null,
            "top": null,
            "visibility": null,
            "width": null
          }
        },
        "40586c839c6043578a0ad90065d40462": {
          "model_module": "@jupyter-widgets/controls",
          "model_name": "DescriptionStyleModel",
          "model_module_version": "1.5.0",
          "state": {
            "_model_module": "@jupyter-widgets/controls",
            "_model_module_version": "1.5.0",
            "_model_name": "DescriptionStyleModel",
            "_view_count": null,
            "_view_module": "@jupyter-widgets/base",
            "_view_module_version": "1.2.0",
            "_view_name": "StyleView",
            "description_width": ""
          }
        },
        "0f0583d077384f8b84615d8f30379c3b": {
          "model_module": "@jupyter-widgets/controls",
          "model_name": "HBoxModel",
          "model_module_version": "1.5.0",
          "state": {
            "_dom_classes": [],
            "_model_module": "@jupyter-widgets/controls",
            "_model_module_version": "1.5.0",
            "_model_name": "HBoxModel",
            "_view_count": null,
            "_view_module": "@jupyter-widgets/controls",
            "_view_module_version": "1.5.0",
            "_view_name": "HBoxView",
            "box_style": "",
            "children": [
              "IPY_MODEL_1f8f8465d55a4f29a181808e39250b1c",
              "IPY_MODEL_5115eeb56206491080d182f0b23e9cd4",
              "IPY_MODEL_429b330ada8845efa6fcfabd9426d464"
            ],
            "layout": "IPY_MODEL_2bebeb28762c4424af73fd6c8a0a42be"
          }
        },
        "1f8f8465d55a4f29a181808e39250b1c": {
          "model_module": "@jupyter-widgets/controls",
          "model_name": "HTMLModel",
          "model_module_version": "1.5.0",
          "state": {
            "_dom_classes": [],
            "_model_module": "@jupyter-widgets/controls",
            "_model_module_version": "1.5.0",
            "_model_name": "HTMLModel",
            "_view_count": null,
            "_view_module": "@jupyter-widgets/controls",
            "_view_module_version": "1.5.0",
            "_view_name": "HTMLView",
            "description": "",
            "description_tooltip": null,
            "layout": "IPY_MODEL_861b9e6458f447b596def3a7c700707d",
            "placeholder": "​",
            "style": "IPY_MODEL_95cd3acacc2f4807a6085380ac289f24",
            "value": "Downloading: 100%"
          }
        },
        "5115eeb56206491080d182f0b23e9cd4": {
          "model_module": "@jupyter-widgets/controls",
          "model_name": "FloatProgressModel",
          "model_module_version": "1.5.0",
          "state": {
            "_dom_classes": [],
            "_model_module": "@jupyter-widgets/controls",
            "_model_module_version": "1.5.0",
            "_model_name": "FloatProgressModel",
            "_view_count": null,
            "_view_module": "@jupyter-widgets/controls",
            "_view_module_version": "1.5.0",
            "_view_name": "ProgressView",
            "bar_style": "success",
            "description": "",
            "description_tooltip": null,
            "layout": "IPY_MODEL_d9cebbf293744bbda297a18c1379bb20",
            "max": 1344997306,
            "min": 0,
            "orientation": "horizontal",
            "style": "IPY_MODEL_7b01fd89c03845138ce6d73a25c81528",
            "value": 1344997306
          }
        },
        "429b330ada8845efa6fcfabd9426d464": {
          "model_module": "@jupyter-widgets/controls",
          "model_name": "HTMLModel",
          "model_module_version": "1.5.0",
          "state": {
            "_dom_classes": [],
            "_model_module": "@jupyter-widgets/controls",
            "_model_module_version": "1.5.0",
            "_model_name": "HTMLModel",
            "_view_count": null,
            "_view_module": "@jupyter-widgets/controls",
            "_view_module_version": "1.5.0",
            "_view_name": "HTMLView",
            "description": "",
            "description_tooltip": null,
            "layout": "IPY_MODEL_f016d5ddc18443c9b247ff5a32bd5474",
            "placeholder": "​",
            "style": "IPY_MODEL_d6f169b4cd2442d09771808ad8aad041",
            "value": " 1.25G/1.25G [00:34&lt;00:00, 39.3MB/s]"
          }
        },
        "2bebeb28762c4424af73fd6c8a0a42be": {
          "model_module": "@jupyter-widgets/base",
          "model_name": "LayoutModel",
          "model_module_version": "1.2.0",
          "state": {
            "_model_module": "@jupyter-widgets/base",
            "_model_module_version": "1.2.0",
            "_model_name": "LayoutModel",
            "_view_count": null,
            "_view_module": "@jupyter-widgets/base",
            "_view_module_version": "1.2.0",
            "_view_name": "LayoutView",
            "align_content": null,
            "align_items": null,
            "align_self": null,
            "border": null,
            "bottom": null,
            "display": null,
            "flex": null,
            "flex_flow": null,
            "grid_area": null,
            "grid_auto_columns": null,
            "grid_auto_flow": null,
            "grid_auto_rows": null,
            "grid_column": null,
            "grid_gap": null,
            "grid_row": null,
            "grid_template_areas": null,
            "grid_template_columns": null,
            "grid_template_rows": null,
            "height": null,
            "justify_content": null,
            "justify_items": null,
            "left": null,
            "margin": null,
            "max_height": null,
            "max_width": null,
            "min_height": null,
            "min_width": null,
            "object_fit": null,
            "object_position": null,
            "order": null,
            "overflow": null,
            "overflow_x": null,
            "overflow_y": null,
            "padding": null,
            "right": null,
            "top": null,
            "visibility": null,
            "width": null
          }
        },
        "861b9e6458f447b596def3a7c700707d": {
          "model_module": "@jupyter-widgets/base",
          "model_name": "LayoutModel",
          "model_module_version": "1.2.0",
          "state": {
            "_model_module": "@jupyter-widgets/base",
            "_model_module_version": "1.2.0",
            "_model_name": "LayoutModel",
            "_view_count": null,
            "_view_module": "@jupyter-widgets/base",
            "_view_module_version": "1.2.0",
            "_view_name": "LayoutView",
            "align_content": null,
            "align_items": null,
            "align_self": null,
            "border": null,
            "bottom": null,
            "display": null,
            "flex": null,
            "flex_flow": null,
            "grid_area": null,
            "grid_auto_columns": null,
            "grid_auto_flow": null,
            "grid_auto_rows": null,
            "grid_column": null,
            "grid_gap": null,
            "grid_row": null,
            "grid_template_areas": null,
            "grid_template_columns": null,
            "grid_template_rows": null,
            "height": null,
            "justify_content": null,
            "justify_items": null,
            "left": null,
            "margin": null,
            "max_height": null,
            "max_width": null,
            "min_height": null,
            "min_width": null,
            "object_fit": null,
            "object_position": null,
            "order": null,
            "overflow": null,
            "overflow_x": null,
            "overflow_y": null,
            "padding": null,
            "right": null,
            "top": null,
            "visibility": null,
            "width": null
          }
        },
        "95cd3acacc2f4807a6085380ac289f24": {
          "model_module": "@jupyter-widgets/controls",
          "model_name": "DescriptionStyleModel",
          "model_module_version": "1.5.0",
          "state": {
            "_model_module": "@jupyter-widgets/controls",
            "_model_module_version": "1.5.0",
            "_model_name": "DescriptionStyleModel",
            "_view_count": null,
            "_view_module": "@jupyter-widgets/base",
            "_view_module_version": "1.2.0",
            "_view_name": "StyleView",
            "description_width": ""
          }
        },
        "d9cebbf293744bbda297a18c1379bb20": {
          "model_module": "@jupyter-widgets/base",
          "model_name": "LayoutModel",
          "model_module_version": "1.2.0",
          "state": {
            "_model_module": "@jupyter-widgets/base",
            "_model_module_version": "1.2.0",
            "_model_name": "LayoutModel",
            "_view_count": null,
            "_view_module": "@jupyter-widgets/base",
            "_view_module_version": "1.2.0",
            "_view_name": "LayoutView",
            "align_content": null,
            "align_items": null,
            "align_self": null,
            "border": null,
            "bottom": null,
            "display": null,
            "flex": null,
            "flex_flow": null,
            "grid_area": null,
            "grid_auto_columns": null,
            "grid_auto_flow": null,
            "grid_auto_rows": null,
            "grid_column": null,
            "grid_gap": null,
            "grid_row": null,
            "grid_template_areas": null,
            "grid_template_columns": null,
            "grid_template_rows": null,
            "height": null,
            "justify_content": null,
            "justify_items": null,
            "left": null,
            "margin": null,
            "max_height": null,
            "max_width": null,
            "min_height": null,
            "min_width": null,
            "object_fit": null,
            "object_position": null,
            "order": null,
            "overflow": null,
            "overflow_x": null,
            "overflow_y": null,
            "padding": null,
            "right": null,
            "top": null,
            "visibility": null,
            "width": null
          }
        },
        "7b01fd89c03845138ce6d73a25c81528": {
          "model_module": "@jupyter-widgets/controls",
          "model_name": "ProgressStyleModel",
          "model_module_version": "1.5.0",
          "state": {
            "_model_module": "@jupyter-widgets/controls",
            "_model_module_version": "1.5.0",
            "_model_name": "ProgressStyleModel",
            "_view_count": null,
            "_view_module": "@jupyter-widgets/base",
            "_view_module_version": "1.2.0",
            "_view_name": "StyleView",
            "bar_color": null,
            "description_width": ""
          }
        },
        "f016d5ddc18443c9b247ff5a32bd5474": {
          "model_module": "@jupyter-widgets/base",
          "model_name": "LayoutModel",
          "model_module_version": "1.2.0",
          "state": {
            "_model_module": "@jupyter-widgets/base",
            "_model_module_version": "1.2.0",
            "_model_name": "LayoutModel",
            "_view_count": null,
            "_view_module": "@jupyter-widgets/base",
            "_view_module_version": "1.2.0",
            "_view_name": "LayoutView",
            "align_content": null,
            "align_items": null,
            "align_self": null,
            "border": null,
            "bottom": null,
            "display": null,
            "flex": null,
            "flex_flow": null,
            "grid_area": null,
            "grid_auto_columns": null,
            "grid_auto_flow": null,
            "grid_auto_rows": null,
            "grid_column": null,
            "grid_gap": null,
            "grid_row": null,
            "grid_template_areas": null,
            "grid_template_columns": null,
            "grid_template_rows": null,
            "height": null,
            "justify_content": null,
            "justify_items": null,
            "left": null,
            "margin": null,
            "max_height": null,
            "max_width": null,
            "min_height": null,
            "min_width": null,
            "object_fit": null,
            "object_position": null,
            "order": null,
            "overflow": null,
            "overflow_x": null,
            "overflow_y": null,
            "padding": null,
            "right": null,
            "top": null,
            "visibility": null,
            "width": null
          }
        },
        "d6f169b4cd2442d09771808ad8aad041": {
          "model_module": "@jupyter-widgets/controls",
          "model_name": "DescriptionStyleModel",
          "model_module_version": "1.5.0",
          "state": {
            "_model_module": "@jupyter-widgets/controls",
            "_model_module_version": "1.5.0",
            "_model_name": "DescriptionStyleModel",
            "_view_count": null,
            "_view_module": "@jupyter-widgets/base",
            "_view_module_version": "1.2.0",
            "_view_name": "StyleView",
            "description_width": ""
          }
        },
        "175da46e6d1444b3941d2453665995ef": {
          "model_module": "@jupyter-widgets/controls",
          "model_name": "HBoxModel",
          "model_module_version": "1.5.0",
          "state": {
            "_dom_classes": [],
            "_model_module": "@jupyter-widgets/controls",
            "_model_module_version": "1.5.0",
            "_model_name": "HBoxModel",
            "_view_count": null,
            "_view_module": "@jupyter-widgets/controls",
            "_view_module_version": "1.5.0",
            "_view_name": "HBoxView",
            "box_style": "",
            "children": [
              "IPY_MODEL_73e6ff6cde004cf3aaeff97f8964acb3",
              "IPY_MODEL_38c813c946ed4c21a185e7b354029622",
              "IPY_MODEL_d6fb1c71ba094b5385d943fb55e419df"
            ],
            "layout": "IPY_MODEL_6440aab4be634e60b8ab0c12f9191450"
          }
        },
        "73e6ff6cde004cf3aaeff97f8964acb3": {
          "model_module": "@jupyter-widgets/controls",
          "model_name": "HTMLModel",
          "model_module_version": "1.5.0",
          "state": {
            "_dom_classes": [],
            "_model_module": "@jupyter-widgets/controls",
            "_model_module_version": "1.5.0",
            "_model_name": "HTMLModel",
            "_view_count": null,
            "_view_module": "@jupyter-widgets/controls",
            "_view_module_version": "1.5.0",
            "_view_name": "HTMLView",
            "description": "",
            "description_tooltip": null,
            "layout": "IPY_MODEL_4c6472c9b1f8489ba0ae5acd0ff07e1a",
            "placeholder": "​",
            "style": "IPY_MODEL_c7382f5db69444e7bc07dcdce9d372dc",
            "value": "Downloading: 100%"
          }
        },
        "38c813c946ed4c21a185e7b354029622": {
          "model_module": "@jupyter-widgets/controls",
          "model_name": "FloatProgressModel",
          "model_module_version": "1.5.0",
          "state": {
            "_dom_classes": [],
            "_model_module": "@jupyter-widgets/controls",
            "_model_module_version": "1.5.0",
            "_model_name": "FloatProgressModel",
            "_view_count": null,
            "_view_module": "@jupyter-widgets/controls",
            "_view_module_version": "1.5.0",
            "_view_name": "ProgressView",
            "bar_style": "success",
            "description": "",
            "description_tooltip": null,
            "layout": "IPY_MODEL_dedce33f603e45ad822d35f61ef68279",
            "max": 231508,
            "min": 0,
            "orientation": "horizontal",
            "style": "IPY_MODEL_36035207f637467680f890706aff5f00",
            "value": 231508
          }
        },
        "d6fb1c71ba094b5385d943fb55e419df": {
          "model_module": "@jupyter-widgets/controls",
          "model_name": "HTMLModel",
          "model_module_version": "1.5.0",
          "state": {
            "_dom_classes": [],
            "_model_module": "@jupyter-widgets/controls",
            "_model_module_version": "1.5.0",
            "_model_name": "HTMLModel",
            "_view_count": null,
            "_view_module": "@jupyter-widgets/controls",
            "_view_module_version": "1.5.0",
            "_view_name": "HTMLView",
            "description": "",
            "description_tooltip": null,
            "layout": "IPY_MODEL_aebd402b4d80406b81b8edf8123615a9",
            "placeholder": "​",
            "style": "IPY_MODEL_d4a0f8a1a61a401a87d9e23437ff1a33",
            "value": " 226k/226k [00:00&lt;00:00, 1.02MB/s]"
          }
        },
        "6440aab4be634e60b8ab0c12f9191450": {
          "model_module": "@jupyter-widgets/base",
          "model_name": "LayoutModel",
          "model_module_version": "1.2.0",
          "state": {
            "_model_module": "@jupyter-widgets/base",
            "_model_module_version": "1.2.0",
            "_model_name": "LayoutModel",
            "_view_count": null,
            "_view_module": "@jupyter-widgets/base",
            "_view_module_version": "1.2.0",
            "_view_name": "LayoutView",
            "align_content": null,
            "align_items": null,
            "align_self": null,
            "border": null,
            "bottom": null,
            "display": null,
            "flex": null,
            "flex_flow": null,
            "grid_area": null,
            "grid_auto_columns": null,
            "grid_auto_flow": null,
            "grid_auto_rows": null,
            "grid_column": null,
            "grid_gap": null,
            "grid_row": null,
            "grid_template_areas": null,
            "grid_template_columns": null,
            "grid_template_rows": null,
            "height": null,
            "justify_content": null,
            "justify_items": null,
            "left": null,
            "margin": null,
            "max_height": null,
            "max_width": null,
            "min_height": null,
            "min_width": null,
            "object_fit": null,
            "object_position": null,
            "order": null,
            "overflow": null,
            "overflow_x": null,
            "overflow_y": null,
            "padding": null,
            "right": null,
            "top": null,
            "visibility": null,
            "width": null
          }
        },
        "4c6472c9b1f8489ba0ae5acd0ff07e1a": {
          "model_module": "@jupyter-widgets/base",
          "model_name": "LayoutModel",
          "model_module_version": "1.2.0",
          "state": {
            "_model_module": "@jupyter-widgets/base",
            "_model_module_version": "1.2.0",
            "_model_name": "LayoutModel",
            "_view_count": null,
            "_view_module": "@jupyter-widgets/base",
            "_view_module_version": "1.2.0",
            "_view_name": "LayoutView",
            "align_content": null,
            "align_items": null,
            "align_self": null,
            "border": null,
            "bottom": null,
            "display": null,
            "flex": null,
            "flex_flow": null,
            "grid_area": null,
            "grid_auto_columns": null,
            "grid_auto_flow": null,
            "grid_auto_rows": null,
            "grid_column": null,
            "grid_gap": null,
            "grid_row": null,
            "grid_template_areas": null,
            "grid_template_columns": null,
            "grid_template_rows": null,
            "height": null,
            "justify_content": null,
            "justify_items": null,
            "left": null,
            "margin": null,
            "max_height": null,
            "max_width": null,
            "min_height": null,
            "min_width": null,
            "object_fit": null,
            "object_position": null,
            "order": null,
            "overflow": null,
            "overflow_x": null,
            "overflow_y": null,
            "padding": null,
            "right": null,
            "top": null,
            "visibility": null,
            "width": null
          }
        },
        "c7382f5db69444e7bc07dcdce9d372dc": {
          "model_module": "@jupyter-widgets/controls",
          "model_name": "DescriptionStyleModel",
          "model_module_version": "1.5.0",
          "state": {
            "_model_module": "@jupyter-widgets/controls",
            "_model_module_version": "1.5.0",
            "_model_name": "DescriptionStyleModel",
            "_view_count": null,
            "_view_module": "@jupyter-widgets/base",
            "_view_module_version": "1.2.0",
            "_view_name": "StyleView",
            "description_width": ""
          }
        },
        "dedce33f603e45ad822d35f61ef68279": {
          "model_module": "@jupyter-widgets/base",
          "model_name": "LayoutModel",
          "model_module_version": "1.2.0",
          "state": {
            "_model_module": "@jupyter-widgets/base",
            "_model_module_version": "1.2.0",
            "_model_name": "LayoutModel",
            "_view_count": null,
            "_view_module": "@jupyter-widgets/base",
            "_view_module_version": "1.2.0",
            "_view_name": "LayoutView",
            "align_content": null,
            "align_items": null,
            "align_self": null,
            "border": null,
            "bottom": null,
            "display": null,
            "flex": null,
            "flex_flow": null,
            "grid_area": null,
            "grid_auto_columns": null,
            "grid_auto_flow": null,
            "grid_auto_rows": null,
            "grid_column": null,
            "grid_gap": null,
            "grid_row": null,
            "grid_template_areas": null,
            "grid_template_columns": null,
            "grid_template_rows": null,
            "height": null,
            "justify_content": null,
            "justify_items": null,
            "left": null,
            "margin": null,
            "max_height": null,
            "max_width": null,
            "min_height": null,
            "min_width": null,
            "object_fit": null,
            "object_position": null,
            "order": null,
            "overflow": null,
            "overflow_x": null,
            "overflow_y": null,
            "padding": null,
            "right": null,
            "top": null,
            "visibility": null,
            "width": null
          }
        },
        "36035207f637467680f890706aff5f00": {
          "model_module": "@jupyter-widgets/controls",
          "model_name": "ProgressStyleModel",
          "model_module_version": "1.5.0",
          "state": {
            "_model_module": "@jupyter-widgets/controls",
            "_model_module_version": "1.5.0",
            "_model_name": "ProgressStyleModel",
            "_view_count": null,
            "_view_module": "@jupyter-widgets/base",
            "_view_module_version": "1.2.0",
            "_view_name": "StyleView",
            "bar_color": null,
            "description_width": ""
          }
        },
        "aebd402b4d80406b81b8edf8123615a9": {
          "model_module": "@jupyter-widgets/base",
          "model_name": "LayoutModel",
          "model_module_version": "1.2.0",
          "state": {
            "_model_module": "@jupyter-widgets/base",
            "_model_module_version": "1.2.0",
            "_model_name": "LayoutModel",
            "_view_count": null,
            "_view_module": "@jupyter-widgets/base",
            "_view_module_version": "1.2.0",
            "_view_name": "LayoutView",
            "align_content": null,
            "align_items": null,
            "align_self": null,
            "border": null,
            "bottom": null,
            "display": null,
            "flex": null,
            "flex_flow": null,
            "grid_area": null,
            "grid_auto_columns": null,
            "grid_auto_flow": null,
            "grid_auto_rows": null,
            "grid_column": null,
            "grid_gap": null,
            "grid_row": null,
            "grid_template_areas": null,
            "grid_template_columns": null,
            "grid_template_rows": null,
            "height": null,
            "justify_content": null,
            "justify_items": null,
            "left": null,
            "margin": null,
            "max_height": null,
            "max_width": null,
            "min_height": null,
            "min_width": null,
            "object_fit": null,
            "object_position": null,
            "order": null,
            "overflow": null,
            "overflow_x": null,
            "overflow_y": null,
            "padding": null,
            "right": null,
            "top": null,
            "visibility": null,
            "width": null
          }
        },
        "d4a0f8a1a61a401a87d9e23437ff1a33": {
          "model_module": "@jupyter-widgets/controls",
          "model_name": "DescriptionStyleModel",
          "model_module_version": "1.5.0",
          "state": {
            "_model_module": "@jupyter-widgets/controls",
            "_model_module_version": "1.5.0",
            "_model_name": "DescriptionStyleModel",
            "_view_count": null,
            "_view_module": "@jupyter-widgets/base",
            "_view_module_version": "1.2.0",
            "_view_name": "StyleView",
            "description_width": ""
          }
        },
        "07f5ab050c5d40ddb5290dbaeb4119db": {
          "model_module": "@jupyter-widgets/controls",
          "model_name": "HBoxModel",
          "model_module_version": "1.5.0",
          "state": {
            "_dom_classes": [],
            "_model_module": "@jupyter-widgets/controls",
            "_model_module_version": "1.5.0",
            "_model_name": "HBoxModel",
            "_view_count": null,
            "_view_module": "@jupyter-widgets/controls",
            "_view_module_version": "1.5.0",
            "_view_name": "HBoxView",
            "box_style": "",
            "children": [
              "IPY_MODEL_fe821a1f26484e8c92a08dcdde5e5d16",
              "IPY_MODEL_f3dac3a799c34aad8bc3533f05e9e5c8",
              "IPY_MODEL_1f9042054bc143969ff396709946952b"
            ],
            "layout": "IPY_MODEL_47ec17ffe9c64fa29661a3cc331237d0"
          }
        },
        "fe821a1f26484e8c92a08dcdde5e5d16": {
          "model_module": "@jupyter-widgets/controls",
          "model_name": "HTMLModel",
          "model_module_version": "1.5.0",
          "state": {
            "_dom_classes": [],
            "_model_module": "@jupyter-widgets/controls",
            "_model_module_version": "1.5.0",
            "_model_name": "HTMLModel",
            "_view_count": null,
            "_view_module": "@jupyter-widgets/controls",
            "_view_module_version": "1.5.0",
            "_view_name": "HTMLView",
            "description": "",
            "description_tooltip": null,
            "layout": "IPY_MODEL_6e3c5d5268aa46bf971d16953b1adc94",
            "placeholder": "​",
            "style": "IPY_MODEL_f54506fa85fc4db18f467144854638c8",
            "value": "Downloading: 100%"
          }
        },
        "f3dac3a799c34aad8bc3533f05e9e5c8": {
          "model_module": "@jupyter-widgets/controls",
          "model_name": "FloatProgressModel",
          "model_module_version": "1.5.0",
          "state": {
            "_dom_classes": [],
            "_model_module": "@jupyter-widgets/controls",
            "_model_module_version": "1.5.0",
            "_model_name": "FloatProgressModel",
            "_view_count": null,
            "_view_module": "@jupyter-widgets/controls",
            "_view_module_version": "1.5.0",
            "_view_name": "ProgressView",
            "bar_style": "success",
            "description": "",
            "description_tooltip": null,
            "layout": "IPY_MODEL_628330674b1c45188ffe3b55c52d9b51",
            "max": 28,
            "min": 0,
            "orientation": "horizontal",
            "style": "IPY_MODEL_49b06f5ec14e4adbaeb29dd032d53a6d",
            "value": 28
          }
        },
        "1f9042054bc143969ff396709946952b": {
          "model_module": "@jupyter-widgets/controls",
          "model_name": "HTMLModel",
          "model_module_version": "1.5.0",
          "state": {
            "_dom_classes": [],
            "_model_module": "@jupyter-widgets/controls",
            "_model_module_version": "1.5.0",
            "_model_name": "HTMLModel",
            "_view_count": null,
            "_view_module": "@jupyter-widgets/controls",
            "_view_module_version": "1.5.0",
            "_view_name": "HTMLView",
            "description": "",
            "description_tooltip": null,
            "layout": "IPY_MODEL_78bdcfd15f634bbb8a663a5e771abba8",
            "placeholder": "​",
            "style": "IPY_MODEL_44b2d6caec6d4f2e8c98534eb157f799",
            "value": " 28.0/28.0 [00:00&lt;00:00, 507B/s]"
          }
        },
        "47ec17ffe9c64fa29661a3cc331237d0": {
          "model_module": "@jupyter-widgets/base",
          "model_name": "LayoutModel",
          "model_module_version": "1.2.0",
          "state": {
            "_model_module": "@jupyter-widgets/base",
            "_model_module_version": "1.2.0",
            "_model_name": "LayoutModel",
            "_view_count": null,
            "_view_module": "@jupyter-widgets/base",
            "_view_module_version": "1.2.0",
            "_view_name": "LayoutView",
            "align_content": null,
            "align_items": null,
            "align_self": null,
            "border": null,
            "bottom": null,
            "display": null,
            "flex": null,
            "flex_flow": null,
            "grid_area": null,
            "grid_auto_columns": null,
            "grid_auto_flow": null,
            "grid_auto_rows": null,
            "grid_column": null,
            "grid_gap": null,
            "grid_row": null,
            "grid_template_areas": null,
            "grid_template_columns": null,
            "grid_template_rows": null,
            "height": null,
            "justify_content": null,
            "justify_items": null,
            "left": null,
            "margin": null,
            "max_height": null,
            "max_width": null,
            "min_height": null,
            "min_width": null,
            "object_fit": null,
            "object_position": null,
            "order": null,
            "overflow": null,
            "overflow_x": null,
            "overflow_y": null,
            "padding": null,
            "right": null,
            "top": null,
            "visibility": null,
            "width": null
          }
        },
        "6e3c5d5268aa46bf971d16953b1adc94": {
          "model_module": "@jupyter-widgets/base",
          "model_name": "LayoutModel",
          "model_module_version": "1.2.0",
          "state": {
            "_model_module": "@jupyter-widgets/base",
            "_model_module_version": "1.2.0",
            "_model_name": "LayoutModel",
            "_view_count": null,
            "_view_module": "@jupyter-widgets/base",
            "_view_module_version": "1.2.0",
            "_view_name": "LayoutView",
            "align_content": null,
            "align_items": null,
            "align_self": null,
            "border": null,
            "bottom": null,
            "display": null,
            "flex": null,
            "flex_flow": null,
            "grid_area": null,
            "grid_auto_columns": null,
            "grid_auto_flow": null,
            "grid_auto_rows": null,
            "grid_column": null,
            "grid_gap": null,
            "grid_row": null,
            "grid_template_areas": null,
            "grid_template_columns": null,
            "grid_template_rows": null,
            "height": null,
            "justify_content": null,
            "justify_items": null,
            "left": null,
            "margin": null,
            "max_height": null,
            "max_width": null,
            "min_height": null,
            "min_width": null,
            "object_fit": null,
            "object_position": null,
            "order": null,
            "overflow": null,
            "overflow_x": null,
            "overflow_y": null,
            "padding": null,
            "right": null,
            "top": null,
            "visibility": null,
            "width": null
          }
        },
        "f54506fa85fc4db18f467144854638c8": {
          "model_module": "@jupyter-widgets/controls",
          "model_name": "DescriptionStyleModel",
          "model_module_version": "1.5.0",
          "state": {
            "_model_module": "@jupyter-widgets/controls",
            "_model_module_version": "1.5.0",
            "_model_name": "DescriptionStyleModel",
            "_view_count": null,
            "_view_module": "@jupyter-widgets/base",
            "_view_module_version": "1.2.0",
            "_view_name": "StyleView",
            "description_width": ""
          }
        },
        "628330674b1c45188ffe3b55c52d9b51": {
          "model_module": "@jupyter-widgets/base",
          "model_name": "LayoutModel",
          "model_module_version": "1.2.0",
          "state": {
            "_model_module": "@jupyter-widgets/base",
            "_model_module_version": "1.2.0",
            "_model_name": "LayoutModel",
            "_view_count": null,
            "_view_module": "@jupyter-widgets/base",
            "_view_module_version": "1.2.0",
            "_view_name": "LayoutView",
            "align_content": null,
            "align_items": null,
            "align_self": null,
            "border": null,
            "bottom": null,
            "display": null,
            "flex": null,
            "flex_flow": null,
            "grid_area": null,
            "grid_auto_columns": null,
            "grid_auto_flow": null,
            "grid_auto_rows": null,
            "grid_column": null,
            "grid_gap": null,
            "grid_row": null,
            "grid_template_areas": null,
            "grid_template_columns": null,
            "grid_template_rows": null,
            "height": null,
            "justify_content": null,
            "justify_items": null,
            "left": null,
            "margin": null,
            "max_height": null,
            "max_width": null,
            "min_height": null,
            "min_width": null,
            "object_fit": null,
            "object_position": null,
            "order": null,
            "overflow": null,
            "overflow_x": null,
            "overflow_y": null,
            "padding": null,
            "right": null,
            "top": null,
            "visibility": null,
            "width": null
          }
        },
        "49b06f5ec14e4adbaeb29dd032d53a6d": {
          "model_module": "@jupyter-widgets/controls",
          "model_name": "ProgressStyleModel",
          "model_module_version": "1.5.0",
          "state": {
            "_model_module": "@jupyter-widgets/controls",
            "_model_module_version": "1.5.0",
            "_model_name": "ProgressStyleModel",
            "_view_count": null,
            "_view_module": "@jupyter-widgets/base",
            "_view_module_version": "1.2.0",
            "_view_name": "StyleView",
            "bar_color": null,
            "description_width": ""
          }
        },
        "78bdcfd15f634bbb8a663a5e771abba8": {
          "model_module": "@jupyter-widgets/base",
          "model_name": "LayoutModel",
          "model_module_version": "1.2.0",
          "state": {
            "_model_module": "@jupyter-widgets/base",
            "_model_module_version": "1.2.0",
            "_model_name": "LayoutModel",
            "_view_count": null,
            "_view_module": "@jupyter-widgets/base",
            "_view_module_version": "1.2.0",
            "_view_name": "LayoutView",
            "align_content": null,
            "align_items": null,
            "align_self": null,
            "border": null,
            "bottom": null,
            "display": null,
            "flex": null,
            "flex_flow": null,
            "grid_area": null,
            "grid_auto_columns": null,
            "grid_auto_flow": null,
            "grid_auto_rows": null,
            "grid_column": null,
            "grid_gap": null,
            "grid_row": null,
            "grid_template_areas": null,
            "grid_template_columns": null,
            "grid_template_rows": null,
            "height": null,
            "justify_content": null,
            "justify_items": null,
            "left": null,
            "margin": null,
            "max_height": null,
            "max_width": null,
            "min_height": null,
            "min_width": null,
            "object_fit": null,
            "object_position": null,
            "order": null,
            "overflow": null,
            "overflow_x": null,
            "overflow_y": null,
            "padding": null,
            "right": null,
            "top": null,
            "visibility": null,
            "width": null
          }
        },
        "44b2d6caec6d4f2e8c98534eb157f799": {
          "model_module": "@jupyter-widgets/controls",
          "model_name": "DescriptionStyleModel",
          "model_module_version": "1.5.0",
          "state": {
            "_model_module": "@jupyter-widgets/controls",
            "_model_module_version": "1.5.0",
            "_model_name": "DescriptionStyleModel",
            "_view_count": null,
            "_view_module": "@jupyter-widgets/base",
            "_view_module_version": "1.2.0",
            "_view_name": "StyleView",
            "description_width": ""
          }
        },
        "97e24e6792514782a6607d09feb63f24": {
          "model_module": "@jupyter-widgets/controls",
          "model_name": "HBoxModel",
          "model_module_version": "1.5.0",
          "state": {
            "_dom_classes": [],
            "_model_module": "@jupyter-widgets/controls",
            "_model_module_version": "1.5.0",
            "_model_name": "HBoxModel",
            "_view_count": null,
            "_view_module": "@jupyter-widgets/controls",
            "_view_module_version": "1.5.0",
            "_view_name": "HBoxView",
            "box_style": "",
            "children": [
              "IPY_MODEL_31f72a7ee1044007b5343abbe0130d0b",
              "IPY_MODEL_840e995268f54762897d4e29db7616b4",
              "IPY_MODEL_ff60903ea9c94dcdad512d564f00ba16"
            ],
            "layout": "IPY_MODEL_92e23125ba694f5eb15412220e34993e"
          }
        },
        "31f72a7ee1044007b5343abbe0130d0b": {
          "model_module": "@jupyter-widgets/controls",
          "model_name": "HTMLModel",
          "model_module_version": "1.5.0",
          "state": {
            "_dom_classes": [],
            "_model_module": "@jupyter-widgets/controls",
            "_model_module_version": "1.5.0",
            "_model_name": "HTMLModel",
            "_view_count": null,
            "_view_module": "@jupyter-widgets/controls",
            "_view_module_version": "1.5.0",
            "_view_name": "HTMLView",
            "description": "",
            "description_tooltip": null,
            "layout": "IPY_MODEL_09a9221d74d142c3ad338b27e13700d4",
            "placeholder": "​",
            "style": "IPY_MODEL_72f9a6ada00545ea920a21d24e6b09bc",
            "value": "Downloading: 100%"
          }
        },
        "840e995268f54762897d4e29db7616b4": {
          "model_module": "@jupyter-widgets/controls",
          "model_name": "FloatProgressModel",
          "model_module_version": "1.5.0",
          "state": {
            "_dom_classes": [],
            "_model_module": "@jupyter-widgets/controls",
            "_model_module_version": "1.5.0",
            "_model_name": "FloatProgressModel",
            "_view_count": null,
            "_view_module": "@jupyter-widgets/controls",
            "_view_module_version": "1.5.0",
            "_view_name": "ProgressView",
            "bar_style": "success",
            "description": "",
            "description_tooltip": null,
            "layout": "IPY_MODEL_4d651a817daf4ea4a433ca6a35d12fcc",
            "max": 466062,
            "min": 0,
            "orientation": "horizontal",
            "style": "IPY_MODEL_d6fb2cab27cd43ebbbf800d6ac432718",
            "value": 466062
          }
        },
        "ff60903ea9c94dcdad512d564f00ba16": {
          "model_module": "@jupyter-widgets/controls",
          "model_name": "HTMLModel",
          "model_module_version": "1.5.0",
          "state": {
            "_dom_classes": [],
            "_model_module": "@jupyter-widgets/controls",
            "_model_module_version": "1.5.0",
            "_model_name": "HTMLModel",
            "_view_count": null,
            "_view_module": "@jupyter-widgets/controls",
            "_view_module_version": "1.5.0",
            "_view_name": "HTMLView",
            "description": "",
            "description_tooltip": null,
            "layout": "IPY_MODEL_ada749fd63d042d79c83702c7b073652",
            "placeholder": "​",
            "style": "IPY_MODEL_ea6d53a4ba6346eb9046814b3f96ad9d",
            "value": " 455k/455k [00:00&lt;00:00, 977kB/s]"
          }
        },
        "92e23125ba694f5eb15412220e34993e": {
          "model_module": "@jupyter-widgets/base",
          "model_name": "LayoutModel",
          "model_module_version": "1.2.0",
          "state": {
            "_model_module": "@jupyter-widgets/base",
            "_model_module_version": "1.2.0",
            "_model_name": "LayoutModel",
            "_view_count": null,
            "_view_module": "@jupyter-widgets/base",
            "_view_module_version": "1.2.0",
            "_view_name": "LayoutView",
            "align_content": null,
            "align_items": null,
            "align_self": null,
            "border": null,
            "bottom": null,
            "display": null,
            "flex": null,
            "flex_flow": null,
            "grid_area": null,
            "grid_auto_columns": null,
            "grid_auto_flow": null,
            "grid_auto_rows": null,
            "grid_column": null,
            "grid_gap": null,
            "grid_row": null,
            "grid_template_areas": null,
            "grid_template_columns": null,
            "grid_template_rows": null,
            "height": null,
            "justify_content": null,
            "justify_items": null,
            "left": null,
            "margin": null,
            "max_height": null,
            "max_width": null,
            "min_height": null,
            "min_width": null,
            "object_fit": null,
            "object_position": null,
            "order": null,
            "overflow": null,
            "overflow_x": null,
            "overflow_y": null,
            "padding": null,
            "right": null,
            "top": null,
            "visibility": null,
            "width": null
          }
        },
        "09a9221d74d142c3ad338b27e13700d4": {
          "model_module": "@jupyter-widgets/base",
          "model_name": "LayoutModel",
          "model_module_version": "1.2.0",
          "state": {
            "_model_module": "@jupyter-widgets/base",
            "_model_module_version": "1.2.0",
            "_model_name": "LayoutModel",
            "_view_count": null,
            "_view_module": "@jupyter-widgets/base",
            "_view_module_version": "1.2.0",
            "_view_name": "LayoutView",
            "align_content": null,
            "align_items": null,
            "align_self": null,
            "border": null,
            "bottom": null,
            "display": null,
            "flex": null,
            "flex_flow": null,
            "grid_area": null,
            "grid_auto_columns": null,
            "grid_auto_flow": null,
            "grid_auto_rows": null,
            "grid_column": null,
            "grid_gap": null,
            "grid_row": null,
            "grid_template_areas": null,
            "grid_template_columns": null,
            "grid_template_rows": null,
            "height": null,
            "justify_content": null,
            "justify_items": null,
            "left": null,
            "margin": null,
            "max_height": null,
            "max_width": null,
            "min_height": null,
            "min_width": null,
            "object_fit": null,
            "object_position": null,
            "order": null,
            "overflow": null,
            "overflow_x": null,
            "overflow_y": null,
            "padding": null,
            "right": null,
            "top": null,
            "visibility": null,
            "width": null
          }
        },
        "72f9a6ada00545ea920a21d24e6b09bc": {
          "model_module": "@jupyter-widgets/controls",
          "model_name": "DescriptionStyleModel",
          "model_module_version": "1.5.0",
          "state": {
            "_model_module": "@jupyter-widgets/controls",
            "_model_module_version": "1.5.0",
            "_model_name": "DescriptionStyleModel",
            "_view_count": null,
            "_view_module": "@jupyter-widgets/base",
            "_view_module_version": "1.2.0",
            "_view_name": "StyleView",
            "description_width": ""
          }
        },
        "4d651a817daf4ea4a433ca6a35d12fcc": {
          "model_module": "@jupyter-widgets/base",
          "model_name": "LayoutModel",
          "model_module_version": "1.2.0",
          "state": {
            "_model_module": "@jupyter-widgets/base",
            "_model_module_version": "1.2.0",
            "_model_name": "LayoutModel",
            "_view_count": null,
            "_view_module": "@jupyter-widgets/base",
            "_view_module_version": "1.2.0",
            "_view_name": "LayoutView",
            "align_content": null,
            "align_items": null,
            "align_self": null,
            "border": null,
            "bottom": null,
            "display": null,
            "flex": null,
            "flex_flow": null,
            "grid_area": null,
            "grid_auto_columns": null,
            "grid_auto_flow": null,
            "grid_auto_rows": null,
            "grid_column": null,
            "grid_gap": null,
            "grid_row": null,
            "grid_template_areas": null,
            "grid_template_columns": null,
            "grid_template_rows": null,
            "height": null,
            "justify_content": null,
            "justify_items": null,
            "left": null,
            "margin": null,
            "max_height": null,
            "max_width": null,
            "min_height": null,
            "min_width": null,
            "object_fit": null,
            "object_position": null,
            "order": null,
            "overflow": null,
            "overflow_x": null,
            "overflow_y": null,
            "padding": null,
            "right": null,
            "top": null,
            "visibility": null,
            "width": null
          }
        },
        "d6fb2cab27cd43ebbbf800d6ac432718": {
          "model_module": "@jupyter-widgets/controls",
          "model_name": "ProgressStyleModel",
          "model_module_version": "1.5.0",
          "state": {
            "_model_module": "@jupyter-widgets/controls",
            "_model_module_version": "1.5.0",
            "_model_name": "ProgressStyleModel",
            "_view_count": null,
            "_view_module": "@jupyter-widgets/base",
            "_view_module_version": "1.2.0",
            "_view_name": "StyleView",
            "bar_color": null,
            "description_width": ""
          }
        },
        "ada749fd63d042d79c83702c7b073652": {
          "model_module": "@jupyter-widgets/base",
          "model_name": "LayoutModel",
          "model_module_version": "1.2.0",
          "state": {
            "_model_module": "@jupyter-widgets/base",
            "_model_module_version": "1.2.0",
            "_model_name": "LayoutModel",
            "_view_count": null,
            "_view_module": "@jupyter-widgets/base",
            "_view_module_version": "1.2.0",
            "_view_name": "LayoutView",
            "align_content": null,
            "align_items": null,
            "align_self": null,
            "border": null,
            "bottom": null,
            "display": null,
            "flex": null,
            "flex_flow": null,
            "grid_area": null,
            "grid_auto_columns": null,
            "grid_auto_flow": null,
            "grid_auto_rows": null,
            "grid_column": null,
            "grid_gap": null,
            "grid_row": null,
            "grid_template_areas": null,
            "grid_template_columns": null,
            "grid_template_rows": null,
            "height": null,
            "justify_content": null,
            "justify_items": null,
            "left": null,
            "margin": null,
            "max_height": null,
            "max_width": null,
            "min_height": null,
            "min_width": null,
            "object_fit": null,
            "object_position": null,
            "order": null,
            "overflow": null,
            "overflow_x": null,
            "overflow_y": null,
            "padding": null,
            "right": null,
            "top": null,
            "visibility": null,
            "width": null
          }
        },
        "ea6d53a4ba6346eb9046814b3f96ad9d": {
          "model_module": "@jupyter-widgets/controls",
          "model_name": "DescriptionStyleModel",
          "model_module_version": "1.5.0",
          "state": {
            "_model_module": "@jupyter-widgets/controls",
            "_model_module_version": "1.5.0",
            "_model_name": "DescriptionStyleModel",
            "_view_count": null,
            "_view_module": "@jupyter-widgets/base",
            "_view_module_version": "1.2.0",
            "_view_name": "StyleView",
            "description_width": ""
          }
        },
        "ea4d5be3e07140df8861d5012f0c6f98": {
          "model_module": "@jupyter-widgets/controls",
          "model_name": "HBoxModel",
          "model_module_version": "1.5.0",
          "state": {
            "_dom_classes": [],
            "_model_module": "@jupyter-widgets/controls",
            "_model_module_version": "1.5.0",
            "_model_name": "HBoxModel",
            "_view_count": null,
            "_view_module": "@jupyter-widgets/controls",
            "_view_module_version": "1.5.0",
            "_view_name": "HBoxView",
            "box_style": "",
            "children": [
              "IPY_MODEL_f685d8682b514d47a0c943cf872ad4eb",
              "IPY_MODEL_7230674f91174693b1ca236a8194a6f5",
              "IPY_MODEL_2484d2cf8aaa4e998116d4fd5806c947"
            ],
            "layout": "IPY_MODEL_a8adcdabd782447ab7fae08da96c999e"
          }
        },
        "f685d8682b514d47a0c943cf872ad4eb": {
          "model_module": "@jupyter-widgets/controls",
          "model_name": "HTMLModel",
          "model_module_version": "1.5.0",
          "state": {
            "_dom_classes": [],
            "_model_module": "@jupyter-widgets/controls",
            "_model_module_version": "1.5.0",
            "_model_name": "HTMLModel",
            "_view_count": null,
            "_view_module": "@jupyter-widgets/controls",
            "_view_module_version": "1.5.0",
            "_view_name": "HTMLView",
            "description": "",
            "description_tooltip": null,
            "layout": "IPY_MODEL_d0f030f65f44422ebd64be1f3431fcdd",
            "placeholder": "​",
            "style": "IPY_MODEL_7afa581c3efc48309a9b762f6145b5c0",
            "value": "Downloading: 100%"
          }
        },
        "7230674f91174693b1ca236a8194a6f5": {
          "model_module": "@jupyter-widgets/controls",
          "model_name": "FloatProgressModel",
          "model_module_version": "1.5.0",
          "state": {
            "_dom_classes": [],
            "_model_module": "@jupyter-widgets/controls",
            "_model_module_version": "1.5.0",
            "_model_name": "FloatProgressModel",
            "_view_count": null,
            "_view_module": "@jupyter-widgets/controls",
            "_view_module_version": "1.5.0",
            "_view_name": "ProgressView",
            "bar_style": "success",
            "description": "",
            "description_tooltip": null,
            "layout": "IPY_MODEL_2a3f71b91fcf491198355ddaea270f79",
            "max": 718,
            "min": 0,
            "orientation": "horizontal",
            "style": "IPY_MODEL_c0fb8dd3603b42df978a638cd56cc998",
            "value": 718
          }
        },
        "2484d2cf8aaa4e998116d4fd5806c947": {
          "model_module": "@jupyter-widgets/controls",
          "model_name": "HTMLModel",
          "model_module_version": "1.5.0",
          "state": {
            "_dom_classes": [],
            "_model_module": "@jupyter-widgets/controls",
            "_model_module_version": "1.5.0",
            "_model_name": "HTMLModel",
            "_view_count": null,
            "_view_module": "@jupyter-widgets/controls",
            "_view_module_version": "1.5.0",
            "_view_name": "HTMLView",
            "description": "",
            "description_tooltip": null,
            "layout": "IPY_MODEL_20c65cd2ec1f4e6faa123b1c37ec39f4",
            "placeholder": "​",
            "style": "IPY_MODEL_4ee4dbd08b5d45aebdb01b9abd74f5e5",
            "value": " 718/718 [00:00&lt;00:00, 13.4kB/s]"
          }
        },
        "a8adcdabd782447ab7fae08da96c999e": {
          "model_module": "@jupyter-widgets/base",
          "model_name": "LayoutModel",
          "model_module_version": "1.2.0",
          "state": {
            "_model_module": "@jupyter-widgets/base",
            "_model_module_version": "1.2.0",
            "_model_name": "LayoutModel",
            "_view_count": null,
            "_view_module": "@jupyter-widgets/base",
            "_view_module_version": "1.2.0",
            "_view_name": "LayoutView",
            "align_content": null,
            "align_items": null,
            "align_self": null,
            "border": null,
            "bottom": null,
            "display": null,
            "flex": null,
            "flex_flow": null,
            "grid_area": null,
            "grid_auto_columns": null,
            "grid_auto_flow": null,
            "grid_auto_rows": null,
            "grid_column": null,
            "grid_gap": null,
            "grid_row": null,
            "grid_template_areas": null,
            "grid_template_columns": null,
            "grid_template_rows": null,
            "height": null,
            "justify_content": null,
            "justify_items": null,
            "left": null,
            "margin": null,
            "max_height": null,
            "max_width": null,
            "min_height": null,
            "min_width": null,
            "object_fit": null,
            "object_position": null,
            "order": null,
            "overflow": null,
            "overflow_x": null,
            "overflow_y": null,
            "padding": null,
            "right": null,
            "top": null,
            "visibility": null,
            "width": null
          }
        },
        "d0f030f65f44422ebd64be1f3431fcdd": {
          "model_module": "@jupyter-widgets/base",
          "model_name": "LayoutModel",
          "model_module_version": "1.2.0",
          "state": {
            "_model_module": "@jupyter-widgets/base",
            "_model_module_version": "1.2.0",
            "_model_name": "LayoutModel",
            "_view_count": null,
            "_view_module": "@jupyter-widgets/base",
            "_view_module_version": "1.2.0",
            "_view_name": "LayoutView",
            "align_content": null,
            "align_items": null,
            "align_self": null,
            "border": null,
            "bottom": null,
            "display": null,
            "flex": null,
            "flex_flow": null,
            "grid_area": null,
            "grid_auto_columns": null,
            "grid_auto_flow": null,
            "grid_auto_rows": null,
            "grid_column": null,
            "grid_gap": null,
            "grid_row": null,
            "grid_template_areas": null,
            "grid_template_columns": null,
            "grid_template_rows": null,
            "height": null,
            "justify_content": null,
            "justify_items": null,
            "left": null,
            "margin": null,
            "max_height": null,
            "max_width": null,
            "min_height": null,
            "min_width": null,
            "object_fit": null,
            "object_position": null,
            "order": null,
            "overflow": null,
            "overflow_x": null,
            "overflow_y": null,
            "padding": null,
            "right": null,
            "top": null,
            "visibility": null,
            "width": null
          }
        },
        "7afa581c3efc48309a9b762f6145b5c0": {
          "model_module": "@jupyter-widgets/controls",
          "model_name": "DescriptionStyleModel",
          "model_module_version": "1.5.0",
          "state": {
            "_model_module": "@jupyter-widgets/controls",
            "_model_module_version": "1.5.0",
            "_model_name": "DescriptionStyleModel",
            "_view_count": null,
            "_view_module": "@jupyter-widgets/base",
            "_view_module_version": "1.2.0",
            "_view_name": "StyleView",
            "description_width": ""
          }
        },
        "2a3f71b91fcf491198355ddaea270f79": {
          "model_module": "@jupyter-widgets/base",
          "model_name": "LayoutModel",
          "model_module_version": "1.2.0",
          "state": {
            "_model_module": "@jupyter-widgets/base",
            "_model_module_version": "1.2.0",
            "_model_name": "LayoutModel",
            "_view_count": null,
            "_view_module": "@jupyter-widgets/base",
            "_view_module_version": "1.2.0",
            "_view_name": "LayoutView",
            "align_content": null,
            "align_items": null,
            "align_self": null,
            "border": null,
            "bottom": null,
            "display": null,
            "flex": null,
            "flex_flow": null,
            "grid_area": null,
            "grid_auto_columns": null,
            "grid_auto_flow": null,
            "grid_auto_rows": null,
            "grid_column": null,
            "grid_gap": null,
            "grid_row": null,
            "grid_template_areas": null,
            "grid_template_columns": null,
            "grid_template_rows": null,
            "height": null,
            "justify_content": null,
            "justify_items": null,
            "left": null,
            "margin": null,
            "max_height": null,
            "max_width": null,
            "min_height": null,
            "min_width": null,
            "object_fit": null,
            "object_position": null,
            "order": null,
            "overflow": null,
            "overflow_x": null,
            "overflow_y": null,
            "padding": null,
            "right": null,
            "top": null,
            "visibility": null,
            "width": null
          }
        },
        "c0fb8dd3603b42df978a638cd56cc998": {
          "model_module": "@jupyter-widgets/controls",
          "model_name": "ProgressStyleModel",
          "model_module_version": "1.5.0",
          "state": {
            "_model_module": "@jupyter-widgets/controls",
            "_model_module_version": "1.5.0",
            "_model_name": "ProgressStyleModel",
            "_view_count": null,
            "_view_module": "@jupyter-widgets/base",
            "_view_module_version": "1.2.0",
            "_view_name": "StyleView",
            "bar_color": null,
            "description_width": ""
          }
        },
        "20c65cd2ec1f4e6faa123b1c37ec39f4": {
          "model_module": "@jupyter-widgets/base",
          "model_name": "LayoutModel",
          "model_module_version": "1.2.0",
          "state": {
            "_model_module": "@jupyter-widgets/base",
            "_model_module_version": "1.2.0",
            "_model_name": "LayoutModel",
            "_view_count": null,
            "_view_module": "@jupyter-widgets/base",
            "_view_module_version": "1.2.0",
            "_view_name": "LayoutView",
            "align_content": null,
            "align_items": null,
            "align_self": null,
            "border": null,
            "bottom": null,
            "display": null,
            "flex": null,
            "flex_flow": null,
            "grid_area": null,
            "grid_auto_columns": null,
            "grid_auto_flow": null,
            "grid_auto_rows": null,
            "grid_column": null,
            "grid_gap": null,
            "grid_row": null,
            "grid_template_areas": null,
            "grid_template_columns": null,
            "grid_template_rows": null,
            "height": null,
            "justify_content": null,
            "justify_items": null,
            "left": null,
            "margin": null,
            "max_height": null,
            "max_width": null,
            "min_height": null,
            "min_width": null,
            "object_fit": null,
            "object_position": null,
            "order": null,
            "overflow": null,
            "overflow_x": null,
            "overflow_y": null,
            "padding": null,
            "right": null,
            "top": null,
            "visibility": null,
            "width": null
          }
        },
        "4ee4dbd08b5d45aebdb01b9abd74f5e5": {
          "model_module": "@jupyter-widgets/controls",
          "model_name": "DescriptionStyleModel",
          "model_module_version": "1.5.0",
          "state": {
            "_model_module": "@jupyter-widgets/controls",
            "_model_module_version": "1.5.0",
            "_model_name": "DescriptionStyleModel",
            "_view_count": null,
            "_view_module": "@jupyter-widgets/base",
            "_view_module_version": "1.2.0",
            "_view_name": "StyleView",
            "description_width": ""
          }
        },
        "05760ff558384d3eabf523a21391d1c1": {
          "model_module": "@jupyter-widgets/controls",
          "model_name": "HBoxModel",
          "model_module_version": "1.5.0",
          "state": {
            "_dom_classes": [],
            "_model_module": "@jupyter-widgets/controls",
            "_model_module_version": "1.5.0",
            "_model_name": "HBoxModel",
            "_view_count": null,
            "_view_module": "@jupyter-widgets/controls",
            "_view_module_version": "1.5.0",
            "_view_name": "HBoxView",
            "box_style": "",
            "children": [
              "IPY_MODEL_02f5e6c8239640d9949677caf8741ae5",
              "IPY_MODEL_165118b8f01547f7a35340f8da78e710",
              "IPY_MODEL_c30fc261d3ee4c3cb088772c1b12c3c8"
            ],
            "layout": "IPY_MODEL_0bcaef1916b44eb9ad922dc9fe6ba164"
          }
        },
        "02f5e6c8239640d9949677caf8741ae5": {
          "model_module": "@jupyter-widgets/controls",
          "model_name": "HTMLModel",
          "model_module_version": "1.5.0",
          "state": {
            "_dom_classes": [],
            "_model_module": "@jupyter-widgets/controls",
            "_model_module_version": "1.5.0",
            "_model_name": "HTMLModel",
            "_view_count": null,
            "_view_module": "@jupyter-widgets/controls",
            "_view_module_version": "1.5.0",
            "_view_name": "HTMLView",
            "description": "",
            "description_tooltip": null,
            "layout": "IPY_MODEL_0ab4ff0e8d10425eb59a17a68596c37f",
            "placeholder": "​",
            "style": "IPY_MODEL_6b43e9b95a164ee3970ab888e0412622",
            "value": "Downloading: 100%"
          }
        },
        "165118b8f01547f7a35340f8da78e710": {
          "model_module": "@jupyter-widgets/controls",
          "model_name": "FloatProgressModel",
          "model_module_version": "1.5.0",
          "state": {
            "_dom_classes": [],
            "_model_module": "@jupyter-widgets/controls",
            "_model_module_version": "1.5.0",
            "_model_name": "FloatProgressModel",
            "_view_count": null,
            "_view_module": "@jupyter-widgets/controls",
            "_view_module_version": "1.5.0",
            "_view_name": "ProgressView",
            "bar_style": "success",
            "description": "",
            "description_tooltip": null,
            "layout": "IPY_MODEL_e4c2a502668a498887aa79a81015e0c4",
            "max": 1520013706,
            "min": 0,
            "orientation": "horizontal",
            "style": "IPY_MODEL_e0ddeb27213641dd8ab5d08be88a37b9",
            "value": 1520013706
          }
        },
        "c30fc261d3ee4c3cb088772c1b12c3c8": {
          "model_module": "@jupyter-widgets/controls",
          "model_name": "HTMLModel",
          "model_module_version": "1.5.0",
          "state": {
            "_dom_classes": [],
            "_model_module": "@jupyter-widgets/controls",
            "_model_module_version": "1.5.0",
            "_model_name": "HTMLModel",
            "_view_count": null,
            "_view_module": "@jupyter-widgets/controls",
            "_view_module_version": "1.5.0",
            "_view_name": "HTMLView",
            "description": "",
            "description_tooltip": null,
            "layout": "IPY_MODEL_f69bdcd952274f90b7a8e9182a74c073",
            "placeholder": "​",
            "style": "IPY_MODEL_912d01422ce64e83a77b08bbf122e336",
            "value": " 1.42G/1.42G [00:39&lt;00:00, 40.0MB/s]"
          }
        },
        "0bcaef1916b44eb9ad922dc9fe6ba164": {
          "model_module": "@jupyter-widgets/base",
          "model_name": "LayoutModel",
          "model_module_version": "1.2.0",
          "state": {
            "_model_module": "@jupyter-widgets/base",
            "_model_module_version": "1.2.0",
            "_model_name": "LayoutModel",
            "_view_count": null,
            "_view_module": "@jupyter-widgets/base",
            "_view_module_version": "1.2.0",
            "_view_name": "LayoutView",
            "align_content": null,
            "align_items": null,
            "align_self": null,
            "border": null,
            "bottom": null,
            "display": null,
            "flex": null,
            "flex_flow": null,
            "grid_area": null,
            "grid_auto_columns": null,
            "grid_auto_flow": null,
            "grid_auto_rows": null,
            "grid_column": null,
            "grid_gap": null,
            "grid_row": null,
            "grid_template_areas": null,
            "grid_template_columns": null,
            "grid_template_rows": null,
            "height": null,
            "justify_content": null,
            "justify_items": null,
            "left": null,
            "margin": null,
            "max_height": null,
            "max_width": null,
            "min_height": null,
            "min_width": null,
            "object_fit": null,
            "object_position": null,
            "order": null,
            "overflow": null,
            "overflow_x": null,
            "overflow_y": null,
            "padding": null,
            "right": null,
            "top": null,
            "visibility": null,
            "width": null
          }
        },
        "0ab4ff0e8d10425eb59a17a68596c37f": {
          "model_module": "@jupyter-widgets/base",
          "model_name": "LayoutModel",
          "model_module_version": "1.2.0",
          "state": {
            "_model_module": "@jupyter-widgets/base",
            "_model_module_version": "1.2.0",
            "_model_name": "LayoutModel",
            "_view_count": null,
            "_view_module": "@jupyter-widgets/base",
            "_view_module_version": "1.2.0",
            "_view_name": "LayoutView",
            "align_content": null,
            "align_items": null,
            "align_self": null,
            "border": null,
            "bottom": null,
            "display": null,
            "flex": null,
            "flex_flow": null,
            "grid_area": null,
            "grid_auto_columns": null,
            "grid_auto_flow": null,
            "grid_auto_rows": null,
            "grid_column": null,
            "grid_gap": null,
            "grid_row": null,
            "grid_template_areas": null,
            "grid_template_columns": null,
            "grid_template_rows": null,
            "height": null,
            "justify_content": null,
            "justify_items": null,
            "left": null,
            "margin": null,
            "max_height": null,
            "max_width": null,
            "min_height": null,
            "min_width": null,
            "object_fit": null,
            "object_position": null,
            "order": null,
            "overflow": null,
            "overflow_x": null,
            "overflow_y": null,
            "padding": null,
            "right": null,
            "top": null,
            "visibility": null,
            "width": null
          }
        },
        "6b43e9b95a164ee3970ab888e0412622": {
          "model_module": "@jupyter-widgets/controls",
          "model_name": "DescriptionStyleModel",
          "model_module_version": "1.5.0",
          "state": {
            "_model_module": "@jupyter-widgets/controls",
            "_model_module_version": "1.5.0",
            "_model_name": "DescriptionStyleModel",
            "_view_count": null,
            "_view_module": "@jupyter-widgets/base",
            "_view_module_version": "1.2.0",
            "_view_name": "StyleView",
            "description_width": ""
          }
        },
        "e4c2a502668a498887aa79a81015e0c4": {
          "model_module": "@jupyter-widgets/base",
          "model_name": "LayoutModel",
          "model_module_version": "1.2.0",
          "state": {
            "_model_module": "@jupyter-widgets/base",
            "_model_module_version": "1.2.0",
            "_model_name": "LayoutModel",
            "_view_count": null,
            "_view_module": "@jupyter-widgets/base",
            "_view_module_version": "1.2.0",
            "_view_name": "LayoutView",
            "align_content": null,
            "align_items": null,
            "align_self": null,
            "border": null,
            "bottom": null,
            "display": null,
            "flex": null,
            "flex_flow": null,
            "grid_area": null,
            "grid_auto_columns": null,
            "grid_auto_flow": null,
            "grid_auto_rows": null,
            "grid_column": null,
            "grid_gap": null,
            "grid_row": null,
            "grid_template_areas": null,
            "grid_template_columns": null,
            "grid_template_rows": null,
            "height": null,
            "justify_content": null,
            "justify_items": null,
            "left": null,
            "margin": null,
            "max_height": null,
            "max_width": null,
            "min_height": null,
            "min_width": null,
            "object_fit": null,
            "object_position": null,
            "order": null,
            "overflow": null,
            "overflow_x": null,
            "overflow_y": null,
            "padding": null,
            "right": null,
            "top": null,
            "visibility": null,
            "width": null
          }
        },
        "e0ddeb27213641dd8ab5d08be88a37b9": {
          "model_module": "@jupyter-widgets/controls",
          "model_name": "ProgressStyleModel",
          "model_module_version": "1.5.0",
          "state": {
            "_model_module": "@jupyter-widgets/controls",
            "_model_module_version": "1.5.0",
            "_model_name": "ProgressStyleModel",
            "_view_count": null,
            "_view_module": "@jupyter-widgets/base",
            "_view_module_version": "1.2.0",
            "_view_name": "StyleView",
            "bar_color": null,
            "description_width": ""
          }
        },
        "f69bdcd952274f90b7a8e9182a74c073": {
          "model_module": "@jupyter-widgets/base",
          "model_name": "LayoutModel",
          "model_module_version": "1.2.0",
          "state": {
            "_model_module": "@jupyter-widgets/base",
            "_model_module_version": "1.2.0",
            "_model_name": "LayoutModel",
            "_view_count": null,
            "_view_module": "@jupyter-widgets/base",
            "_view_module_version": "1.2.0",
            "_view_name": "LayoutView",
            "align_content": null,
            "align_items": null,
            "align_self": null,
            "border": null,
            "bottom": null,
            "display": null,
            "flex": null,
            "flex_flow": null,
            "grid_area": null,
            "grid_auto_columns": null,
            "grid_auto_flow": null,
            "grid_auto_rows": null,
            "grid_column": null,
            "grid_gap": null,
            "grid_row": null,
            "grid_template_areas": null,
            "grid_template_columns": null,
            "grid_template_rows": null,
            "height": null,
            "justify_content": null,
            "justify_items": null,
            "left": null,
            "margin": null,
            "max_height": null,
            "max_width": null,
            "min_height": null,
            "min_width": null,
            "object_fit": null,
            "object_position": null,
            "order": null,
            "overflow": null,
            "overflow_x": null,
            "overflow_y": null,
            "padding": null,
            "right": null,
            "top": null,
            "visibility": null,
            "width": null
          }
        },
        "912d01422ce64e83a77b08bbf122e336": {
          "model_module": "@jupyter-widgets/controls",
          "model_name": "DescriptionStyleModel",
          "model_module_version": "1.5.0",
          "state": {
            "_model_module": "@jupyter-widgets/controls",
            "_model_module_version": "1.5.0",
            "_model_name": "DescriptionStyleModel",
            "_view_count": null,
            "_view_module": "@jupyter-widgets/base",
            "_view_module_version": "1.2.0",
            "_view_name": "StyleView",
            "description_width": ""
          }
        },
        "6fce8b931d9a464fa7ce0ab2c181235d": {
          "model_module": "@jupyter-widgets/controls",
          "model_name": "HBoxModel",
          "model_module_version": "1.5.0",
          "state": {
            "_dom_classes": [],
            "_model_module": "@jupyter-widgets/controls",
            "_model_module_version": "1.5.0",
            "_model_name": "HBoxModel",
            "_view_count": null,
            "_view_module": "@jupyter-widgets/controls",
            "_view_module_version": "1.5.0",
            "_view_name": "HBoxView",
            "box_style": "",
            "children": [
              "IPY_MODEL_523041845d914d7c80374d0e2c80e553",
              "IPY_MODEL_ce02b9f1ae734573adfc12541d1e99c5",
              "IPY_MODEL_d395aea00fb7461498b31b7209eaf7e7"
            ],
            "layout": "IPY_MODEL_5b39b1069d3e4f9fa2fd314045340390"
          }
        },
        "523041845d914d7c80374d0e2c80e553": {
          "model_module": "@jupyter-widgets/controls",
          "model_name": "HTMLModel",
          "model_module_version": "1.5.0",
          "state": {
            "_dom_classes": [],
            "_model_module": "@jupyter-widgets/controls",
            "_model_module_version": "1.5.0",
            "_model_name": "HTMLModel",
            "_view_count": null,
            "_view_module": "@jupyter-widgets/controls",
            "_view_module_version": "1.5.0",
            "_view_name": "HTMLView",
            "description": "",
            "description_tooltip": null,
            "layout": "IPY_MODEL_b126a84c5e4141fea2590ad90135ace2",
            "placeholder": "​",
            "style": "IPY_MODEL_3c6217cc85af41e591de13e2fecda308",
            "value": "Downloading: 100%"
          }
        },
        "ce02b9f1ae734573adfc12541d1e99c5": {
          "model_module": "@jupyter-widgets/controls",
          "model_name": "FloatProgressModel",
          "model_module_version": "1.5.0",
          "state": {
            "_dom_classes": [],
            "_model_module": "@jupyter-widgets/controls",
            "_model_module_version": "1.5.0",
            "_model_name": "FloatProgressModel",
            "_view_count": null,
            "_view_module": "@jupyter-widgets/controls",
            "_view_module_version": "1.5.0",
            "_view_name": "ProgressView",
            "bar_style": "success",
            "description": "",
            "description_tooltip": null,
            "layout": "IPY_MODEL_a27425d8d23744bfaf9d4e6e6514e55e",
            "max": 1042301,
            "min": 0,
            "orientation": "horizontal",
            "style": "IPY_MODEL_ae7c5aa734f14f36809f6b7b41d2a4c0",
            "value": 1042301
          }
        },
        "d395aea00fb7461498b31b7209eaf7e7": {
          "model_module": "@jupyter-widgets/controls",
          "model_name": "HTMLModel",
          "model_module_version": "1.5.0",
          "state": {
            "_dom_classes": [],
            "_model_module": "@jupyter-widgets/controls",
            "_model_module_version": "1.5.0",
            "_model_name": "HTMLModel",
            "_view_count": null,
            "_view_module": "@jupyter-widgets/controls",
            "_view_module_version": "1.5.0",
            "_view_name": "HTMLView",
            "description": "",
            "description_tooltip": null,
            "layout": "IPY_MODEL_f8289049a305492b8de97dd04670f72b",
            "placeholder": "​",
            "style": "IPY_MODEL_a70d2933041f4016a9cb843dfb4245f3",
            "value": " 0.99M/0.99M [00:00&lt;00:00, 2.67MB/s]"
          }
        },
        "5b39b1069d3e4f9fa2fd314045340390": {
          "model_module": "@jupyter-widgets/base",
          "model_name": "LayoutModel",
          "model_module_version": "1.2.0",
          "state": {
            "_model_module": "@jupyter-widgets/base",
            "_model_module_version": "1.2.0",
            "_model_name": "LayoutModel",
            "_view_count": null,
            "_view_module": "@jupyter-widgets/base",
            "_view_module_version": "1.2.0",
            "_view_name": "LayoutView",
            "align_content": null,
            "align_items": null,
            "align_self": null,
            "border": null,
            "bottom": null,
            "display": null,
            "flex": null,
            "flex_flow": null,
            "grid_area": null,
            "grid_auto_columns": null,
            "grid_auto_flow": null,
            "grid_auto_rows": null,
            "grid_column": null,
            "grid_gap": null,
            "grid_row": null,
            "grid_template_areas": null,
            "grid_template_columns": null,
            "grid_template_rows": null,
            "height": null,
            "justify_content": null,
            "justify_items": null,
            "left": null,
            "margin": null,
            "max_height": null,
            "max_width": null,
            "min_height": null,
            "min_width": null,
            "object_fit": null,
            "object_position": null,
            "order": null,
            "overflow": null,
            "overflow_x": null,
            "overflow_y": null,
            "padding": null,
            "right": null,
            "top": null,
            "visibility": null,
            "width": null
          }
        },
        "b126a84c5e4141fea2590ad90135ace2": {
          "model_module": "@jupyter-widgets/base",
          "model_name": "LayoutModel",
          "model_module_version": "1.2.0",
          "state": {
            "_model_module": "@jupyter-widgets/base",
            "_model_module_version": "1.2.0",
            "_model_name": "LayoutModel",
            "_view_count": null,
            "_view_module": "@jupyter-widgets/base",
            "_view_module_version": "1.2.0",
            "_view_name": "LayoutView",
            "align_content": null,
            "align_items": null,
            "align_self": null,
            "border": null,
            "bottom": null,
            "display": null,
            "flex": null,
            "flex_flow": null,
            "grid_area": null,
            "grid_auto_columns": null,
            "grid_auto_flow": null,
            "grid_auto_rows": null,
            "grid_column": null,
            "grid_gap": null,
            "grid_row": null,
            "grid_template_areas": null,
            "grid_template_columns": null,
            "grid_template_rows": null,
            "height": null,
            "justify_content": null,
            "justify_items": null,
            "left": null,
            "margin": null,
            "max_height": null,
            "max_width": null,
            "min_height": null,
            "min_width": null,
            "object_fit": null,
            "object_position": null,
            "order": null,
            "overflow": null,
            "overflow_x": null,
            "overflow_y": null,
            "padding": null,
            "right": null,
            "top": null,
            "visibility": null,
            "width": null
          }
        },
        "3c6217cc85af41e591de13e2fecda308": {
          "model_module": "@jupyter-widgets/controls",
          "model_name": "DescriptionStyleModel",
          "model_module_version": "1.5.0",
          "state": {
            "_model_module": "@jupyter-widgets/controls",
            "_model_module_version": "1.5.0",
            "_model_name": "DescriptionStyleModel",
            "_view_count": null,
            "_view_module": "@jupyter-widgets/base",
            "_view_module_version": "1.2.0",
            "_view_name": "StyleView",
            "description_width": ""
          }
        },
        "a27425d8d23744bfaf9d4e6e6514e55e": {
          "model_module": "@jupyter-widgets/base",
          "model_name": "LayoutModel",
          "model_module_version": "1.2.0",
          "state": {
            "_model_module": "@jupyter-widgets/base",
            "_model_module_version": "1.2.0",
            "_model_name": "LayoutModel",
            "_view_count": null,
            "_view_module": "@jupyter-widgets/base",
            "_view_module_version": "1.2.0",
            "_view_name": "LayoutView",
            "align_content": null,
            "align_items": null,
            "align_self": null,
            "border": null,
            "bottom": null,
            "display": null,
            "flex": null,
            "flex_flow": null,
            "grid_area": null,
            "grid_auto_columns": null,
            "grid_auto_flow": null,
            "grid_auto_rows": null,
            "grid_column": null,
            "grid_gap": null,
            "grid_row": null,
            "grid_template_areas": null,
            "grid_template_columns": null,
            "grid_template_rows": null,
            "height": null,
            "justify_content": null,
            "justify_items": null,
            "left": null,
            "margin": null,
            "max_height": null,
            "max_width": null,
            "min_height": null,
            "min_width": null,
            "object_fit": null,
            "object_position": null,
            "order": null,
            "overflow": null,
            "overflow_x": null,
            "overflow_y": null,
            "padding": null,
            "right": null,
            "top": null,
            "visibility": null,
            "width": null
          }
        },
        "ae7c5aa734f14f36809f6b7b41d2a4c0": {
          "model_module": "@jupyter-widgets/controls",
          "model_name": "ProgressStyleModel",
          "model_module_version": "1.5.0",
          "state": {
            "_model_module": "@jupyter-widgets/controls",
            "_model_module_version": "1.5.0",
            "_model_name": "ProgressStyleModel",
            "_view_count": null,
            "_view_module": "@jupyter-widgets/base",
            "_view_module_version": "1.2.0",
            "_view_name": "StyleView",
            "bar_color": null,
            "description_width": ""
          }
        },
        "f8289049a305492b8de97dd04670f72b": {
          "model_module": "@jupyter-widgets/base",
          "model_name": "LayoutModel",
          "model_module_version": "1.2.0",
          "state": {
            "_model_module": "@jupyter-widgets/base",
            "_model_module_version": "1.2.0",
            "_model_name": "LayoutModel",
            "_view_count": null,
            "_view_module": "@jupyter-widgets/base",
            "_view_module_version": "1.2.0",
            "_view_name": "LayoutView",
            "align_content": null,
            "align_items": null,
            "align_self": null,
            "border": null,
            "bottom": null,
            "display": null,
            "flex": null,
            "flex_flow": null,
            "grid_area": null,
            "grid_auto_columns": null,
            "grid_auto_flow": null,
            "grid_auto_rows": null,
            "grid_column": null,
            "grid_gap": null,
            "grid_row": null,
            "grid_template_areas": null,
            "grid_template_columns": null,
            "grid_template_rows": null,
            "height": null,
            "justify_content": null,
            "justify_items": null,
            "left": null,
            "margin": null,
            "max_height": null,
            "max_width": null,
            "min_height": null,
            "min_width": null,
            "object_fit": null,
            "object_position": null,
            "order": null,
            "overflow": null,
            "overflow_x": null,
            "overflow_y": null,
            "padding": null,
            "right": null,
            "top": null,
            "visibility": null,
            "width": null
          }
        },
        "a70d2933041f4016a9cb843dfb4245f3": {
          "model_module": "@jupyter-widgets/controls",
          "model_name": "DescriptionStyleModel",
          "model_module_version": "1.5.0",
          "state": {
            "_model_module": "@jupyter-widgets/controls",
            "_model_module_version": "1.5.0",
            "_model_name": "DescriptionStyleModel",
            "_view_count": null,
            "_view_module": "@jupyter-widgets/base",
            "_view_module_version": "1.2.0",
            "_view_name": "StyleView",
            "description_width": ""
          }
        },
        "1d4ddde620d94aa480a26a56ccd7bf8d": {
          "model_module": "@jupyter-widgets/controls",
          "model_name": "HBoxModel",
          "model_module_version": "1.5.0",
          "state": {
            "_dom_classes": [],
            "_model_module": "@jupyter-widgets/controls",
            "_model_module_version": "1.5.0",
            "_model_name": "HBoxModel",
            "_view_count": null,
            "_view_module": "@jupyter-widgets/controls",
            "_view_module_version": "1.5.0",
            "_view_name": "HBoxView",
            "box_style": "",
            "children": [
              "IPY_MODEL_7209469e3c584503b27d5a2d3742ec2a",
              "IPY_MODEL_e1a242f78e1843499a7b033eade92e7e",
              "IPY_MODEL_344fd5e1acb94c189a645f7f0d2afd5f"
            ],
            "layout": "IPY_MODEL_2de0a65306674780a78ec2c2ee97a6d3"
          }
        },
        "7209469e3c584503b27d5a2d3742ec2a": {
          "model_module": "@jupyter-widgets/controls",
          "model_name": "HTMLModel",
          "model_module_version": "1.5.0",
          "state": {
            "_dom_classes": [],
            "_model_module": "@jupyter-widgets/controls",
            "_model_module_version": "1.5.0",
            "_model_name": "HTMLModel",
            "_view_count": null,
            "_view_module": "@jupyter-widgets/controls",
            "_view_module_version": "1.5.0",
            "_view_name": "HTMLView",
            "description": "",
            "description_tooltip": null,
            "layout": "IPY_MODEL_25b61cf80c504848b3302cc0fdf079f7",
            "placeholder": "​",
            "style": "IPY_MODEL_f855edb4ebf042a58ec9c85186668bec",
            "value": "Downloading: 100%"
          }
        },
        "e1a242f78e1843499a7b033eade92e7e": {
          "model_module": "@jupyter-widgets/controls",
          "model_name": "FloatProgressModel",
          "model_module_version": "1.5.0",
          "state": {
            "_dom_classes": [],
            "_model_module": "@jupyter-widgets/controls",
            "_model_module_version": "1.5.0",
            "_model_name": "FloatProgressModel",
            "_view_count": null,
            "_view_module": "@jupyter-widgets/controls",
            "_view_module_version": "1.5.0",
            "_view_name": "ProgressView",
            "bar_style": "success",
            "description": "",
            "description_tooltip": null,
            "layout": "IPY_MODEL_232615f0c1b14fc2b0640700105d5a46",
            "max": 456318,
            "min": 0,
            "orientation": "horizontal",
            "style": "IPY_MODEL_9efe9bbd769041e1ba46c5e2d6891c17",
            "value": 456318
          }
        },
        "344fd5e1acb94c189a645f7f0d2afd5f": {
          "model_module": "@jupyter-widgets/controls",
          "model_name": "HTMLModel",
          "model_module_version": "1.5.0",
          "state": {
            "_dom_classes": [],
            "_model_module": "@jupyter-widgets/controls",
            "_model_module_version": "1.5.0",
            "_model_name": "HTMLModel",
            "_view_count": null,
            "_view_module": "@jupyter-widgets/controls",
            "_view_module_version": "1.5.0",
            "_view_name": "HTMLView",
            "description": "",
            "description_tooltip": null,
            "layout": "IPY_MODEL_854e0c1fd11f4cab8400cb07d3f19adc",
            "placeholder": "​",
            "style": "IPY_MODEL_824a17036d42467788c527ad6e2a0f12",
            "value": " 446k/446k [00:00&lt;00:00, 1.00MB/s]"
          }
        },
        "2de0a65306674780a78ec2c2ee97a6d3": {
          "model_module": "@jupyter-widgets/base",
          "model_name": "LayoutModel",
          "model_module_version": "1.2.0",
          "state": {
            "_model_module": "@jupyter-widgets/base",
            "_model_module_version": "1.2.0",
            "_model_name": "LayoutModel",
            "_view_count": null,
            "_view_module": "@jupyter-widgets/base",
            "_view_module_version": "1.2.0",
            "_view_name": "LayoutView",
            "align_content": null,
            "align_items": null,
            "align_self": null,
            "border": null,
            "bottom": null,
            "display": null,
            "flex": null,
            "flex_flow": null,
            "grid_area": null,
            "grid_auto_columns": null,
            "grid_auto_flow": null,
            "grid_auto_rows": null,
            "grid_column": null,
            "grid_gap": null,
            "grid_row": null,
            "grid_template_areas": null,
            "grid_template_columns": null,
            "grid_template_rows": null,
            "height": null,
            "justify_content": null,
            "justify_items": null,
            "left": null,
            "margin": null,
            "max_height": null,
            "max_width": null,
            "min_height": null,
            "min_width": null,
            "object_fit": null,
            "object_position": null,
            "order": null,
            "overflow": null,
            "overflow_x": null,
            "overflow_y": null,
            "padding": null,
            "right": null,
            "top": null,
            "visibility": null,
            "width": null
          }
        },
        "25b61cf80c504848b3302cc0fdf079f7": {
          "model_module": "@jupyter-widgets/base",
          "model_name": "LayoutModel",
          "model_module_version": "1.2.0",
          "state": {
            "_model_module": "@jupyter-widgets/base",
            "_model_module_version": "1.2.0",
            "_model_name": "LayoutModel",
            "_view_count": null,
            "_view_module": "@jupyter-widgets/base",
            "_view_module_version": "1.2.0",
            "_view_name": "LayoutView",
            "align_content": null,
            "align_items": null,
            "align_self": null,
            "border": null,
            "bottom": null,
            "display": null,
            "flex": null,
            "flex_flow": null,
            "grid_area": null,
            "grid_auto_columns": null,
            "grid_auto_flow": null,
            "grid_auto_rows": null,
            "grid_column": null,
            "grid_gap": null,
            "grid_row": null,
            "grid_template_areas": null,
            "grid_template_columns": null,
            "grid_template_rows": null,
            "height": null,
            "justify_content": null,
            "justify_items": null,
            "left": null,
            "margin": null,
            "max_height": null,
            "max_width": null,
            "min_height": null,
            "min_width": null,
            "object_fit": null,
            "object_position": null,
            "order": null,
            "overflow": null,
            "overflow_x": null,
            "overflow_y": null,
            "padding": null,
            "right": null,
            "top": null,
            "visibility": null,
            "width": null
          }
        },
        "f855edb4ebf042a58ec9c85186668bec": {
          "model_module": "@jupyter-widgets/controls",
          "model_name": "DescriptionStyleModel",
          "model_module_version": "1.5.0",
          "state": {
            "_model_module": "@jupyter-widgets/controls",
            "_model_module_version": "1.5.0",
            "_model_name": "DescriptionStyleModel",
            "_view_count": null,
            "_view_module": "@jupyter-widgets/base",
            "_view_module_version": "1.2.0",
            "_view_name": "StyleView",
            "description_width": ""
          }
        },
        "232615f0c1b14fc2b0640700105d5a46": {
          "model_module": "@jupyter-widgets/base",
          "model_name": "LayoutModel",
          "model_module_version": "1.2.0",
          "state": {
            "_model_module": "@jupyter-widgets/base",
            "_model_module_version": "1.2.0",
            "_model_name": "LayoutModel",
            "_view_count": null,
            "_view_module": "@jupyter-widgets/base",
            "_view_module_version": "1.2.0",
            "_view_name": "LayoutView",
            "align_content": null,
            "align_items": null,
            "align_self": null,
            "border": null,
            "bottom": null,
            "display": null,
            "flex": null,
            "flex_flow": null,
            "grid_area": null,
            "grid_auto_columns": null,
            "grid_auto_flow": null,
            "grid_auto_rows": null,
            "grid_column": null,
            "grid_gap": null,
            "grid_row": null,
            "grid_template_areas": null,
            "grid_template_columns": null,
            "grid_template_rows": null,
            "height": null,
            "justify_content": null,
            "justify_items": null,
            "left": null,
            "margin": null,
            "max_height": null,
            "max_width": null,
            "min_height": null,
            "min_width": null,
            "object_fit": null,
            "object_position": null,
            "order": null,
            "overflow": null,
            "overflow_x": null,
            "overflow_y": null,
            "padding": null,
            "right": null,
            "top": null,
            "visibility": null,
            "width": null
          }
        },
        "9efe9bbd769041e1ba46c5e2d6891c17": {
          "model_module": "@jupyter-widgets/controls",
          "model_name": "ProgressStyleModel",
          "model_module_version": "1.5.0",
          "state": {
            "_model_module": "@jupyter-widgets/controls",
            "_model_module_version": "1.5.0",
            "_model_name": "ProgressStyleModel",
            "_view_count": null,
            "_view_module": "@jupyter-widgets/base",
            "_view_module_version": "1.2.0",
            "_view_name": "StyleView",
            "bar_color": null,
            "description_width": ""
          }
        },
        "854e0c1fd11f4cab8400cb07d3f19adc": {
          "model_module": "@jupyter-widgets/base",
          "model_name": "LayoutModel",
          "model_module_version": "1.2.0",
          "state": {
            "_model_module": "@jupyter-widgets/base",
            "_model_module_version": "1.2.0",
            "_model_name": "LayoutModel",
            "_view_count": null,
            "_view_module": "@jupyter-widgets/base",
            "_view_module_version": "1.2.0",
            "_view_name": "LayoutView",
            "align_content": null,
            "align_items": null,
            "align_self": null,
            "border": null,
            "bottom": null,
            "display": null,
            "flex": null,
            "flex_flow": null,
            "grid_area": null,
            "grid_auto_columns": null,
            "grid_auto_flow": null,
            "grid_auto_rows": null,
            "grid_column": null,
            "grid_gap": null,
            "grid_row": null,
            "grid_template_areas": null,
            "grid_template_columns": null,
            "grid_template_rows": null,
            "height": null,
            "justify_content": null,
            "justify_items": null,
            "left": null,
            "margin": null,
            "max_height": null,
            "max_width": null,
            "min_height": null,
            "min_width": null,
            "object_fit": null,
            "object_position": null,
            "order": null,
            "overflow": null,
            "overflow_x": null,
            "overflow_y": null,
            "padding": null,
            "right": null,
            "top": null,
            "visibility": null,
            "width": null
          }
        },
        "824a17036d42467788c527ad6e2a0f12": {
          "model_module": "@jupyter-widgets/controls",
          "model_name": "DescriptionStyleModel",
          "model_module_version": "1.5.0",
          "state": {
            "_model_module": "@jupyter-widgets/controls",
            "_model_module_version": "1.5.0",
            "_model_name": "DescriptionStyleModel",
            "_view_count": null,
            "_view_module": "@jupyter-widgets/base",
            "_view_module_version": "1.2.0",
            "_view_name": "StyleView",
            "description_width": ""
          }
        },
        "7d5177ac139d40e6a6e1d3890213d118": {
          "model_module": "@jupyter-widgets/controls",
          "model_name": "HBoxModel",
          "model_module_version": "1.5.0",
          "state": {
            "_dom_classes": [],
            "_model_module": "@jupyter-widgets/controls",
            "_model_module_version": "1.5.0",
            "_model_name": "HBoxModel",
            "_view_count": null,
            "_view_module": "@jupyter-widgets/controls",
            "_view_module_version": "1.5.0",
            "_view_name": "HBoxView",
            "box_style": "",
            "children": [
              "IPY_MODEL_fb1b83d297b94268b4b9ed541861f891",
              "IPY_MODEL_17c5d647974c407ba5a4b3d0f3bccad1",
              "IPY_MODEL_061f0d4de50249b79897558592feb0a9"
            ],
            "layout": "IPY_MODEL_bc99239818ec4a4b86276f2ddb85aac4"
          }
        },
        "fb1b83d297b94268b4b9ed541861f891": {
          "model_module": "@jupyter-widgets/controls",
          "model_name": "HTMLModel",
          "model_module_version": "1.5.0",
          "state": {
            "_dom_classes": [],
            "_model_module": "@jupyter-widgets/controls",
            "_model_module_version": "1.5.0",
            "_model_name": "HTMLModel",
            "_view_count": null,
            "_view_module": "@jupyter-widgets/controls",
            "_view_module_version": "1.5.0",
            "_view_name": "HTMLView",
            "description": "",
            "description_tooltip": null,
            "layout": "IPY_MODEL_95dda3d435684b61a398439aced5f64c",
            "placeholder": "​",
            "style": "IPY_MODEL_fbbd810c3a0a4f80836d2a5c71fc1b6d",
            "value": "Downloading: 100%"
          }
        },
        "17c5d647974c407ba5a4b3d0f3bccad1": {
          "model_module": "@jupyter-widgets/controls",
          "model_name": "FloatProgressModel",
          "model_module_version": "1.5.0",
          "state": {
            "_dom_classes": [],
            "_model_module": "@jupyter-widgets/controls",
            "_model_module_version": "1.5.0",
            "_model_name": "FloatProgressModel",
            "_view_count": null,
            "_view_module": "@jupyter-widgets/controls",
            "_view_module_version": "1.5.0",
            "_view_name": "ProgressView",
            "bar_style": "success",
            "description": "",
            "description_tooltip": null,
            "layout": "IPY_MODEL_6e89228014bd4083899da75b4cd7a6fb",
            "max": 1355256,
            "min": 0,
            "orientation": "horizontal",
            "style": "IPY_MODEL_592742edecfa4aeaa2eebfd3cf5db2c5",
            "value": 1355256
          }
        },
        "061f0d4de50249b79897558592feb0a9": {
          "model_module": "@jupyter-widgets/controls",
          "model_name": "HTMLModel",
          "model_module_version": "1.5.0",
          "state": {
            "_dom_classes": [],
            "_model_module": "@jupyter-widgets/controls",
            "_model_module_version": "1.5.0",
            "_model_name": "HTMLModel",
            "_view_count": null,
            "_view_module": "@jupyter-widgets/controls",
            "_view_module_version": "1.5.0",
            "_view_name": "HTMLView",
            "description": "",
            "description_tooltip": null,
            "layout": "IPY_MODEL_fbfeae8ba58b49fa8bd5d335b943f708",
            "placeholder": "​",
            "style": "IPY_MODEL_6ecd31145ad34d3da4532f051f033ac7",
            "value": " 1.29M/1.29M [00:00&lt;00:00, 3.07MB/s]"
          }
        },
        "bc99239818ec4a4b86276f2ddb85aac4": {
          "model_module": "@jupyter-widgets/base",
          "model_name": "LayoutModel",
          "model_module_version": "1.2.0",
          "state": {
            "_model_module": "@jupyter-widgets/base",
            "_model_module_version": "1.2.0",
            "_model_name": "LayoutModel",
            "_view_count": null,
            "_view_module": "@jupyter-widgets/base",
            "_view_module_version": "1.2.0",
            "_view_name": "LayoutView",
            "align_content": null,
            "align_items": null,
            "align_self": null,
            "border": null,
            "bottom": null,
            "display": null,
            "flex": null,
            "flex_flow": null,
            "grid_area": null,
            "grid_auto_columns": null,
            "grid_auto_flow": null,
            "grid_auto_rows": null,
            "grid_column": null,
            "grid_gap": null,
            "grid_row": null,
            "grid_template_areas": null,
            "grid_template_columns": null,
            "grid_template_rows": null,
            "height": null,
            "justify_content": null,
            "justify_items": null,
            "left": null,
            "margin": null,
            "max_height": null,
            "max_width": null,
            "min_height": null,
            "min_width": null,
            "object_fit": null,
            "object_position": null,
            "order": null,
            "overflow": null,
            "overflow_x": null,
            "overflow_y": null,
            "padding": null,
            "right": null,
            "top": null,
            "visibility": null,
            "width": null
          }
        },
        "95dda3d435684b61a398439aced5f64c": {
          "model_module": "@jupyter-widgets/base",
          "model_name": "LayoutModel",
          "model_module_version": "1.2.0",
          "state": {
            "_model_module": "@jupyter-widgets/base",
            "_model_module_version": "1.2.0",
            "_model_name": "LayoutModel",
            "_view_count": null,
            "_view_module": "@jupyter-widgets/base",
            "_view_module_version": "1.2.0",
            "_view_name": "LayoutView",
            "align_content": null,
            "align_items": null,
            "align_self": null,
            "border": null,
            "bottom": null,
            "display": null,
            "flex": null,
            "flex_flow": null,
            "grid_area": null,
            "grid_auto_columns": null,
            "grid_auto_flow": null,
            "grid_auto_rows": null,
            "grid_column": null,
            "grid_gap": null,
            "grid_row": null,
            "grid_template_areas": null,
            "grid_template_columns": null,
            "grid_template_rows": null,
            "height": null,
            "justify_content": null,
            "justify_items": null,
            "left": null,
            "margin": null,
            "max_height": null,
            "max_width": null,
            "min_height": null,
            "min_width": null,
            "object_fit": null,
            "object_position": null,
            "order": null,
            "overflow": null,
            "overflow_x": null,
            "overflow_y": null,
            "padding": null,
            "right": null,
            "top": null,
            "visibility": null,
            "width": null
          }
        },
        "fbbd810c3a0a4f80836d2a5c71fc1b6d": {
          "model_module": "@jupyter-widgets/controls",
          "model_name": "DescriptionStyleModel",
          "model_module_version": "1.5.0",
          "state": {
            "_model_module": "@jupyter-widgets/controls",
            "_model_module_version": "1.5.0",
            "_model_name": "DescriptionStyleModel",
            "_view_count": null,
            "_view_module": "@jupyter-widgets/base",
            "_view_module_version": "1.2.0",
            "_view_name": "StyleView",
            "description_width": ""
          }
        },
        "6e89228014bd4083899da75b4cd7a6fb": {
          "model_module": "@jupyter-widgets/base",
          "model_name": "LayoutModel",
          "model_module_version": "1.2.0",
          "state": {
            "_model_module": "@jupyter-widgets/base",
            "_model_module_version": "1.2.0",
            "_model_name": "LayoutModel",
            "_view_count": null,
            "_view_module": "@jupyter-widgets/base",
            "_view_module_version": "1.2.0",
            "_view_name": "LayoutView",
            "align_content": null,
            "align_items": null,
            "align_self": null,
            "border": null,
            "bottom": null,
            "display": null,
            "flex": null,
            "flex_flow": null,
            "grid_area": null,
            "grid_auto_columns": null,
            "grid_auto_flow": null,
            "grid_auto_rows": null,
            "grid_column": null,
            "grid_gap": null,
            "grid_row": null,
            "grid_template_areas": null,
            "grid_template_columns": null,
            "grid_template_rows": null,
            "height": null,
            "justify_content": null,
            "justify_items": null,
            "left": null,
            "margin": null,
            "max_height": null,
            "max_width": null,
            "min_height": null,
            "min_width": null,
            "object_fit": null,
            "object_position": null,
            "order": null,
            "overflow": null,
            "overflow_x": null,
            "overflow_y": null,
            "padding": null,
            "right": null,
            "top": null,
            "visibility": null,
            "width": null
          }
        },
        "592742edecfa4aeaa2eebfd3cf5db2c5": {
          "model_module": "@jupyter-widgets/controls",
          "model_name": "ProgressStyleModel",
          "model_module_version": "1.5.0",
          "state": {
            "_model_module": "@jupyter-widgets/controls",
            "_model_module_version": "1.5.0",
            "_model_name": "ProgressStyleModel",
            "_view_count": null,
            "_view_module": "@jupyter-widgets/base",
            "_view_module_version": "1.2.0",
            "_view_name": "StyleView",
            "bar_color": null,
            "description_width": ""
          }
        },
        "fbfeae8ba58b49fa8bd5d335b943f708": {
          "model_module": "@jupyter-widgets/base",
          "model_name": "LayoutModel",
          "model_module_version": "1.2.0",
          "state": {
            "_model_module": "@jupyter-widgets/base",
            "_model_module_version": "1.2.0",
            "_model_name": "LayoutModel",
            "_view_count": null,
            "_view_module": "@jupyter-widgets/base",
            "_view_module_version": "1.2.0",
            "_view_name": "LayoutView",
            "align_content": null,
            "align_items": null,
            "align_self": null,
            "border": null,
            "bottom": null,
            "display": null,
            "flex": null,
            "flex_flow": null,
            "grid_area": null,
            "grid_auto_columns": null,
            "grid_auto_flow": null,
            "grid_auto_rows": null,
            "grid_column": null,
            "grid_gap": null,
            "grid_row": null,
            "grid_template_areas": null,
            "grid_template_columns": null,
            "grid_template_rows": null,
            "height": null,
            "justify_content": null,
            "justify_items": null,
            "left": null,
            "margin": null,
            "max_height": null,
            "max_width": null,
            "min_height": null,
            "min_width": null,
            "object_fit": null,
            "object_position": null,
            "order": null,
            "overflow": null,
            "overflow_x": null,
            "overflow_y": null,
            "padding": null,
            "right": null,
            "top": null,
            "visibility": null,
            "width": null
          }
        },
        "6ecd31145ad34d3da4532f051f033ac7": {
          "model_module": "@jupyter-widgets/controls",
          "model_name": "DescriptionStyleModel",
          "model_module_version": "1.5.0",
          "state": {
            "_model_module": "@jupyter-widgets/controls",
            "_model_module_version": "1.5.0",
            "_model_name": "DescriptionStyleModel",
            "_view_count": null,
            "_view_module": "@jupyter-widgets/base",
            "_view_module_version": "1.2.0",
            "_view_name": "StyleView",
            "description_width": ""
          }
        }
      }
    }
  },
  "cells": [
    {
      "cell_type": "markdown",
      "metadata": {
        "id": "SZmfFdh16ML3"
      },
      "source": [
        "## Startup code"
      ]
    },
    {
      "cell_type": "code",
      "metadata": {
        "id": "gM-DpnKf6Cmp"
      },
      "source": [
        "%load_ext autotime\n",
        "import warnings\n",
        "warnings.filterwarnings('always')\n",
        "warnings.simplefilter('always')\n",
        "import warnings\n",
        "warnings.simplefilter(action='ignore', category=FutureWarning)\n",
        "warnings.simplefilter(action='ignore', category=DeprecationWarning)\n",
        "warnings.filterwarnings(\"ignore\", category=DeprecationWarning)\n",
        "warnings.filterwarnings(\"ignore\", message=\"numpy.dtype size changed\")\n",
        "warnings.filterwarnings(\"ignore\", message=\"numpy.ufunc size changed\")\n",
        "import glob, os, sys\n",
        "# import matplotlib.pylab as plt\n",
        "# from matplotlib import pyplot\n",
        "import numpy as np\n",
        "from sklearn.model_selection import StratifiedKFold\n",
        "import tensorflow as tf\n",
        "print(tf.__version__)\n",
        "import pandas as pd\n",
        "pd.options.mode.chained_assignment = None\n",
        "import csv\n",
        "import xml.etree.ElementTree as ET\n",
        "import pickle\n",
        "import math\n",
        "# import matplotlib.pyplot as plt\n",
        "%config Completer.use_jedi = False\n",
        "from bs4 import BeautifulSoup\n",
        "import nltk\n",
        "import shutil\n",
        "\n",
        "import nltk\n",
        "from nltk.tokenize import word_tokenize, sent_tokenize\n",
        "import gensim\n",
        "import pprint"
      ],
      "execution_count": null,
      "outputs": []
    },
    {
      "cell_type": "code",
      "metadata": {
        "id": "uT2LokRlFsWW"
      },
      "source": [
        ""
      ],
      "execution_count": null,
      "outputs": []
    },
    {
      "cell_type": "markdown",
      "metadata": {
        "id": "6J1BEhc2L4zo"
      },
      "source": [
        "## Helper methods"
      ]
    },
    {
      "cell_type": "code",
      "metadata": {
        "colab": {
          "base_uri": "https://localhost:8080/"
        },
        "id": "ZEMppbomL6_J",
        "outputId": "5e2929db-d08e-4a12-8171-dd4a2d235e26"
      },
      "source": [
        "def save_df(df, file_name, append=False):\n",
        "    if append:\n",
        "        df.to_csv(file_name, index=False, quotechar='\"', quoting=csv.QUOTE_NONNUMERIC, mode=\"a\", header=False)\n",
        "    else:\n",
        "        df.to_csv(file_name, index=False, quotechar='\"', quoting=csv.QUOTE_NONNUMERIC)\n",
        "\n",
        "\n",
        "def load_obj(base_dir, name):\n",
        "    file_path = os.path.join(base_dir, \"pickle\", name + \".pkl\")\n",
        "    with open(file_path, 'rb') as f:\n",
        "        return pickle.load(f)\n",
        "\n",
        "def save_obj(obj, base_dir, name):\n",
        "    dir_path = os.path.join(base_dir, \"pickle\")\n",
        "    create_director(dir_path)\n",
        "    file_path = os.path.join(dir_path, name + \".pkl\")\n",
        "    with open(file_path, 'wb') as f:\n",
        "        pickle.dump(obj, f, pickle.HIGHEST_PROTOCOL)\n",
        "    print(\"Saved object to a file: %s\" % (str(file_path)))\n",
        "\n",
        "def save_df(df, base_dir, file_name):\n",
        "    file_name = os.path.join(base_dir, file_name)\n",
        "    df.to_csv(file_name, index=False, quotechar='\"', quoting=csv.QUOTE_NONNUMERIC)\n",
        "\n",
        "def remove_directory(path):\n",
        "    if os.path.exists(path):\n",
        "        print(\"%s path exists and removing it.\" % path)\n",
        "        shutil.rmtree(path)\n",
        "\n",
        "def remove_file(file_name):\n",
        "    if (os.path.isfile(file_name)):\n",
        "        print(\"Output file %s exists and removing it.\" % file_name)\n",
        "        os.remove(file_name)\n",
        "\n",
        "def create_director(dir):\n",
        "    if(not os.path.exists(dir)):\n",
        "        print(\"Creating directory %s.\" % dir)\n",
        "        os.makedirs(dir)\n",
        "    else:\n",
        "        print(\"Directory %s already exists and so returning.\" % dir)\n"
      ],
      "execution_count": null,
      "outputs": [
        {
          "output_type": "stream",
          "name": "stdout",
          "text": [
            "time: 1.91 ms\n"
          ]
        }
      ]
    },
    {
      "cell_type": "markdown",
      "metadata": {
        "id": "vieEZDgO2FKM"
      },
      "source": [
        "## Tasks"
      ]
    },
    {
      "cell_type": "markdown",
      "metadata": {
        "id": "HtQGU9oZu0K7"
      },
      "source": [
        "### Data exploration"
      ]
    },
    {
      "cell_type": "markdown",
      "metadata": {
        "id": "4hnmgKuh_Zhm"
      },
      "source": [
        "#### Pandas"
      ]
    },
    {
      "cell_type": "code",
      "metadata": {
        "colab": {
          "base_uri": "https://localhost:8080/"
        },
        "id": "BTakT-Pbu2MO",
        "outputId": "93842a9e-aa7f-405b-b7fe-5efd46569598"
      },
      "source": [
        "file_name = \"/work/disa_lab/Alamin/SOTorrent/SO/Posts.csv\"\n",
        "file_name = \"/work/disa_lab/Alamin/SOTorrent/serverfault/Posts.csv\"\n",
        "# df = pd.read_csv(file_name)\n",
        "# print(len(df))"
      ],
      "execution_count": null,
      "outputs": [
        {
          "output_type": "stream",
          "name": "stdout",
          "text": [
            "time: 307 µs (started: 2021-10-25 10:48:49 -06:00)\n"
          ]
        }
      ]
    },
    {
      "cell_type": "code",
      "metadata": {
        "colab": {
          "base_uri": "https://localhost:8080/"
        },
        "id": "-522AahJV06w",
        "outputId": "b9a278e0-11a7-4e68-afa1-734aadb66cf8"
      },
      "source": [
        "df2 = pd.read_csv(file_name, usecols=[\"Id\", \"PostTypeId\"])\n",
        "print(len(df2))"
      ],
      "execution_count": null,
      "outputs": [
        {
          "output_type": "stream",
          "name": "stdout",
          "text": [
            "45444575\n",
            "time: 9min 9s (started: 2021-10-25 10:48:54 -06:00)\n"
          ]
        }
      ]
    },
    {
      "cell_type": "code",
      "metadata": {
        "id": "4cY_mr69Y5Ng"
      },
      "source": [
        ""
      ],
      "execution_count": null,
      "outputs": []
    },
    {
      "cell_type": "code",
      "metadata": {
        "colab": {
          "base_uri": "https://localhost:8080/"
        },
        "id": "xY_FkFN6WQ4C",
        "outputId": "7ab3a104-f8ae-4320-e35c-dfdd03377999"
      },
      "source": [
        "print(df2.info(memory_usage=\"deep\"))"
      ],
      "execution_count": null,
      "outputs": [
        {
          "output_type": "stream",
          "name": "stdout",
          "text": [
            "<class 'pandas.core.frame.DataFrame'>\n",
            "RangeIndex: 45444575 entries, 0 to 45444574\n",
            "Data columns (total 2 columns):\n",
            " #   Column      Dtype\n",
            "---  ------      -----\n",
            " 0   Id          int64\n",
            " 1   PostTypeId  int64\n",
            "dtypes: int64(2)\n",
            "memory usage: 693.4 MB\n",
            "None\n",
            "time: 4.32 ms (started: 2021-10-25 10:58:28 -06:00)\n"
          ]
        }
      ]
    },
    {
      "cell_type": "code",
      "metadata": {
        "colab": {
          "base_uri": "https://localhost:8080/"
        },
        "id": "1fw5UydYVsf2",
        "outputId": "35272e76-58c4-4438-ed08-4186a82722bb"
      },
      "source": [
        "print(df.info(memory_usage=\"deep\"))"
      ],
      "execution_count": null,
      "outputs": [
        {
          "output_type": "stream",
          "name": "stdout",
          "text": [
            "<class 'pandas.core.frame.DataFrame'>\n",
            "RangeIndex: 791818 entries, 0 to 791817\n",
            "Data columns (total 23 columns):\n",
            " #   Column                 Non-Null Count   Dtype  \n",
            "---  ------                 --------------   -----  \n",
            " 0   Id                     791818 non-null  int64  \n",
            " 1   PostTypeId             791818 non-null  int64  \n",
            " 2   AcceptedAnswerId       145148 non-null  float64\n",
            " 3   ParentId               485014 non-null  float64\n",
            " 4   CreationDate           791818 non-null  object \n",
            " 5   DeletionDate           0 non-null       float64\n",
            " 6   Score                  791818 non-null  int64  \n",
            " 7   ViewCount              302476 non-null  float64\n",
            " 8   Body                   791106 non-null  object \n",
            " 9   OwnerUserId            770595 non-null  float64\n",
            " 10  OwnerDisplayName       31859 non-null   object \n",
            " 11  LastEditorUserId       233461 non-null  float64\n",
            " 12  LastEditorDisplayName  2544 non-null    object \n",
            " 13  LastEditDate           235826 non-null  object \n",
            " 14  LastActivityDate       791818 non-null  object \n",
            " 15  Title                  302476 non-null  object \n",
            " 16  Tags                   302476 non-null  object \n",
            " 17  AnswerCount            302476 non-null  float64\n",
            " 18  CommentCount           791818 non-null  int64  \n",
            " 19  FavoriteCount          74029 non-null   float64\n",
            " 20  ClosedDate             21587 non-null   object \n",
            " 21  CommunityOwnedDate     8528 non-null    object \n",
            " 22  ContentLicense         791818 non-null  object \n",
            "dtypes: float64(8), int64(4), object(11)\n",
            "memory usage: 1.2 GB\n",
            "None\n",
            "time: 1.12 s (started: 2021-10-25 10:44:53 -06:00)\n"
          ]
        }
      ]
    },
    {
      "cell_type": "code",
      "metadata": {
        "colab": {
          "base_uri": "https://localhost:8080/"
        },
        "id": "J0n6E2FYu6tS",
        "outputId": "1819cd9d-412a-4e00-d3d3-8ac29bde3b20"
      },
      "source": [
        "post = df[df['Id'] == 449564].iloc[0]\n",
        "print(post['Body'])"
      ],
      "execution_count": null,
      "outputs": [
        {
          "output_type": "stream",
          "name": "stdout",
          "text": [
            "<p>Say I want all requests to example.com to redirect to abc.com.</p>\n",
            "\n",
            "<p>How can I make everything redirect to the root of abc.com and not include any paths or parameters included in example.com?</p>\n",
            "\n",
            "<p>For example</p>\n",
            "\n",
            "<pre><code>example.com/index.py?var=1 should go to abc.com\n",
            "</code></pre>\n",
            "\n",
            "<p>I tried this in my .htaccess</p>\n",
            "\n",
            "<pre><code>RedirectPermanent / http://www.abc.com\n",
            "</code></pre>\n",
            "\n",
            "<p>But it does this:</p>\n",
            "\n",
            "<pre><code>example.com/index.py?var=1 goes to abc.com/index.py?var=1\n",
            "</code></pre>\n",
            "\n",
            "time: 2.95 ms (started: 2021-10-25 09:44:47 -06:00)\n"
          ]
        }
      ]
    },
    {
      "cell_type": "markdown",
      "metadata": {
        "id": "6xw0G4HJ_dvV"
      },
      "source": [
        "#### Dask"
      ]
    },
    {
      "cell_type": "code",
      "metadata": {
        "id": "Eo6nLyLF5L7q",
        "colab": {
          "base_uri": "https://localhost:8080/"
        },
        "outputId": "ae1b1ee0-e882-4ef8-b89b-1490710481f1"
      },
      "source": [
        "\n",
        "from dask.distributed import Client\n",
        "client = Client(n_workers=4)"
      ],
      "execution_count": null,
      "outputs": [
        {
          "output_type": "stream",
          "name": "stdout",
          "text": [
            "time: 4.18 s (started: 2021-10-25 12:53:59 -06:00)\n"
          ]
        }
      ]
    },
    {
      "cell_type": "code",
      "metadata": {
        "colab": {
          "base_uri": "https://localhost:8080/"
        },
        "id": "oEDkzOsmCRSm",
        "outputId": "1688ac30-b20e-45dc-a010-075cc2477302"
      },
      "source": [
        "print(client.status)"
      ],
      "execution_count": null,
      "outputs": [
        {
          "output_type": "stream",
          "name": "stdout",
          "text": [
            "running\n",
            "time: 621 µs (started: 2021-10-25 12:54:03 -06:00)\n"
          ]
        }
      ]
    },
    {
      "cell_type": "code",
      "metadata": {
        "colab": {
          "base_uri": "https://localhost:8080/"
        },
        "id": "59vsfquaZm_l",
        "outputId": "9479a061-70c6-4a1a-9b84-ddc54d6736e0"
      },
      "source": [
        "import dask.dataframe as dd"
      ],
      "execution_count": null,
      "outputs": [
        {
          "output_type": "stream",
          "name": "stdout",
          "text": [
            "time: 1.32 s (started: 2021-10-25 12:54:04 -06:00)\n"
          ]
        }
      ]
    },
    {
      "cell_type": "code",
      "metadata": {
        "colab": {
          "base_uri": "https://localhost:8080/"
        },
        "id": "R9xkvq5j3aAQ",
        "outputId": "b6feb0e1-5746-48fc-e8c6-e137e3c70f97"
      },
      "source": [
        "file_name = \"/work/disa_lab/Alamin/SOTorrent/serverfault/Posts.csv\"\n",
        "df  = dd.read_csv(file_name,  dtype={\"Id\": \"Int64\"}, quoting=csv.QUOTE_NONE, encoding='utf-8', blocksize=None, error_bad_lines=False)\n",
        "# print(df.head)\n",
        "# print(len(df))"
      ],
      "execution_count": null,
      "outputs": [
        {
          "output_type": "stream",
          "name": "stdout",
          "text": [
            "time: 12.3 ms (started: 2021-10-25 12:57:23 -06:00)\n"
          ]
        }
      ]
    },
    {
      "cell_type": "code",
      "metadata": {
        "colab": {
          "base_uri": "https://localhost:8080/",
          "height": 1000
        },
        "id": "D8HZ--SdHMPn",
        "outputId": "a89b60b5-4cae-44e9-b5c3-922b13e07d1d"
      },
      "source": [
        "print(len(df))"
      ],
      "execution_count": null,
      "outputs": [
        {
          "output_type": "stream",
          "name": "stderr",
          "text": [
            "/home/mdabdullahal.alamin/.conda/envs/latest/lib/python3.7/site-packages/dask/dataframe/io/csv.py:134: FutureWarning: The error_bad_lines argument has been deprecated and will be removed in a future version.\n",
            "\n",
            "\n",
            "  path_info,\n",
            "b'Skipping line 6966: expected 23 fields, saw 27\\nSkipping line 6979: expected 23 fields, saw 27\\nSkipping line 28910: expected 23 fields, saw 35\\n'\n",
            "b'Skipping line 48286: expected 23 fields, saw 25\\n'\n",
            "b'Skipping line 104634: expected 23 fields, saw 24\\n'\n",
            "b'Skipping line 164024: expected 23 fields, saw 28\\n'\n",
            "b'Skipping line 179453: expected 23 fields, saw 26\\nSkipping line 179454: expected 23 fields, saw 26\\nSkipping line 179458: expected 23 fields, saw 26\\nSkipping line 179459: expected 23 fields, saw 26\\nSkipping line 179462: expected 23 fields, saw 26\\nSkipping line 179463: expected 23 fields, saw 26\\nSkipping line 179467: expected 23 fields, saw 24\\nSkipping line 179468: expected 23 fields, saw 26\\nSkipping line 179469: expected 23 fields, saw 26\\nSkipping line 179472: expected 23 fields, saw 26\\nSkipping line 179473: expected 23 fields, saw 26\\nSkipping line 179476: expected 23 fields, saw 26\\nSkipping line 179477: expected 23 fields, saw 26\\nSkipping line 199283: expected 23 fields, saw 25\\n'\n",
            "b'Skipping line 255210: expected 23 fields, saw 25\\nSkipping line 260097: expected 23 fields, saw 24\\n'\n",
            "b'Skipping line 267193: expected 23 fields, saw 27\\n'\n",
            "b'Skipping line 333765: expected 23 fields, saw 51\\n'\n",
            "b'Skipping line 355292: expected 23 fields, saw 31\\n'\n",
            "b'Skipping line 402568: expected 23 fields, saw 44\\nSkipping line 402595: expected 23 fields, saw 25\\nSkipping line 402601: expected 23 fields, saw 25\\nSkipping line 402628: expected 23 fields, saw 25\\nSkipping line 402631: expected 23 fields, saw 25\\nSkipping line 402634: expected 23 fields, saw 25\\nSkipping line 402646: expected 23 fields, saw 25\\nSkipping line 402649: expected 23 fields, saw 25\\nSkipping line 422004: expected 23 fields, saw 32\\nSkipping line 425306: expected 23 fields, saw 25\\n'\n",
            "b'Skipping line 499830: expected 23 fields, saw 39\\n'\n",
            "b'Skipping line 634689: expected 23 fields, saw 25\\nSkipping line 641895: expected 23 fields, saw 36\\nSkipping line 641896: expected 23 fields, saw 30\\n'\n",
            "b'Skipping line 664885: expected 23 fields, saw 31\\nSkipping line 669336: expected 23 fields, saw 24\\nSkipping line 690068: expected 23 fields, saw 26\\nSkipping line 698889: expected 23 fields, saw 31\\n'\n",
            "b'Skipping line 824569: expected 23 fields, saw 24\\n'\n",
            "b'Skipping line 847397: expected 23 fields, saw 132\\nSkipping line 856800: expected 23 fields, saw 40\\nSkipping line 859604: expected 23 fields, saw 36\\n'\n",
            "b'Skipping line 988846: expected 23 fields, saw 31\\nSkipping line 997525: expected 23 fields, saw 24\\nSkipping line 997527: expected 23 fields, saw 24\\n'\n",
            "b'Skipping line 1024635: expected 23 fields, saw 24\\nSkipping line 1027834: expected 23 fields, saw 30\\nSkipping line 1051981: expected 23 fields, saw 27\\nSkipping line 1060325: expected 23 fields, saw 24\\n'\n",
            "b'Skipping line 1083575: expected 23 fields, saw 24\\n'\n",
            "b'Skipping line 1107654: expected 23 fields, saw 28\\nSkipping line 1141621: expected 23 fields, saw 24\\nSkipping line 1144327: expected 23 fields, saw 34\\n'\n",
            "b'Skipping line 1158052: expected 23 fields, saw 30\\n'\n",
            "b'Skipping line 1203921: expected 23 fields, saw 24\\n'\n",
            "b'Skipping line 1239761: expected 23 fields, saw 27\\n'\n",
            "b'Skipping line 1290739: expected 23 fields, saw 51\\nSkipping line 1290742: expected 23 fields, saw 49\\nSkipping line 1290744: expected 23 fields, saw 45\\nSkipping line 1316999: expected 23 fields, saw 34\\n'\n",
            "b'Skipping line 1365897: expected 23 fields, saw 33\\n'\n",
            "b'Skipping line 1377076: expected 23 fields, saw 42\\n'\n",
            "b'Skipping line 1444640: expected 23 fields, saw 26\\nSkipping line 1452302: expected 23 fields, saw 25\\nSkipping line 1455262: expected 23 fields, saw 25\\n'\n",
            "b'Skipping line 1464185: expected 23 fields, saw 37\\nSkipping line 1478312: expected 23 fields, saw 26\\nSkipping line 1479604: expected 23 fields, saw 28\\nSkipping line 1493405: expected 23 fields, saw 24\\n'\n",
            "b'Skipping line 1503885: expected 23 fields, saw 42\\nSkipping line 1514185: expected 23 fields, saw 25\\nSkipping line 1516576: expected 23 fields, saw 30\\nSkipping line 1528926: expected 23 fields, saw 37\\nSkipping line 1544638: expected 23 fields, saw 27\\n'\n",
            "b'Skipping line 1560549: expected 23 fields, saw 27\\n'\n",
            "b'Skipping line 1614354: expected 23 fields, saw 37\\nSkipping line 1614355: expected 23 fields, saw 37\\nSkipping line 1614583: expected 23 fields, saw 25\\n'\n",
            "b'Skipping line 1663090: expected 23 fields, saw 32\\n'\n",
            "b'Skipping line 1709646: expected 23 fields, saw 30\\nSkipping line 1720403: expected 23 fields, saw 32\\n'\n",
            "b'Skipping line 1754392: expected 23 fields, saw 47\\nSkipping line 1754393: expected 23 fields, saw 47\\n'\n",
            "b'Skipping line 1821658: expected 23 fields, saw 28\\nSkipping line 1848056: expected 23 fields, saw 36\\nSkipping line 1851408: expected 23 fields, saw 24\\n'\n",
            "b'Skipping line 1861303: expected 23 fields, saw 33\\nSkipping line 1863746: expected 23 fields, saw 37\\nSkipping line 1864416: expected 23 fields, saw 27\\nSkipping line 1864430: expected 23 fields, saw 27\\nSkipping line 1864444: expected 23 fields, saw 27\\nSkipping line 1892424: expected 23 fields, saw 26\\n'\n",
            "b'Skipping line 1899618: expected 23 fields, saw 24\\nSkipping line 1903134: expected 23 fields, saw 24\\nSkipping line 1916802: expected 23 fields, saw 46\\nSkipping line 1918879: expected 23 fields, saw 27\\nSkipping line 1918891: expected 23 fields, saw 27\\nSkipping line 1930747: expected 23 fields, saw 26\\nSkipping line 1935509: expected 23 fields, saw 26\\nSkipping line 1937068: expected 23 fields, saw 24\\nSkipping line 1942029: expected 23 fields, saw 26\\n'\n",
            "b'Skipping line 1946725: expected 23 fields, saw 28\\nSkipping line 1947855: expected 23 fields, saw 25\\nSkipping line 1954714: expected 23 fields, saw 24\\nSkipping line 1961368: expected 23 fields, saw 38\\nSkipping line 1966903: expected 23 fields, saw 27\\nSkipping line 1966962: expected 23 fields, saw 25\\nSkipping line 1967032: expected 23 fields, saw 24\\nSkipping line 1967689: expected 23 fields, saw 33\\nSkipping line 1968760: expected 23 fields, saw 25\\nSkipping line 1979520: expected 23 fields, saw 26\\nSkipping line 1981869: expected 23 fields, saw 24\\nSkipping line 1981920: expected 23 fields, saw 25\\nSkipping line 1981925: expected 23 fields, saw 29\\nSkipping line 1982708: expected 23 fields, saw 31\\nSkipping line 1982716: expected 23 fields, saw 28\\nSkipping line 1982721: expected 23 fields, saw 25\\nSkipping line 1982755: expected 23 fields, saw 27\\nSkipping line 1985194: expected 23 fields, saw 24\\nSkipping line 1986550: expected 23 fields, saw 25\\n'\n",
            "b'Skipping line 1986856: expected 23 fields, saw 24\\nSkipping line 1988202: expected 23 fields, saw 24\\nSkipping line 2000223: expected 23 fields, saw 40\\nSkipping line 2000436: expected 23 fields, saw 27\\nSkipping line 2000442: expected 23 fields, saw 24\\nSkipping line 2000449: expected 23 fields, saw 24\\nSkipping line 2002949: expected 23 fields, saw 24\\nSkipping line 2002970: expected 23 fields, saw 24\\nSkipping line 2003016: expected 23 fields, saw 29\\nSkipping line 2003053: expected 23 fields, saw 25\\nSkipping line 2003057: expected 23 fields, saw 26\\nSkipping line 2003120: expected 23 fields, saw 33\\nSkipping line 2003266: expected 23 fields, saw 27\\nSkipping line 2003268: expected 23 fields, saw 24\\nSkipping line 2003270: expected 23 fields, saw 24\\nSkipping line 2003309: expected 23 fields, saw 24\\nSkipping line 2003393: expected 23 fields, saw 30\\nSkipping line 2011946: expected 23 fields, saw 25\\nSkipping line 2015580: expected 23 fields, saw 24\\nSkipping line 2015619: expected 23 fields, saw 24\\nSkipping line 2015627: expected 23 fields, saw 25\\nSkipping line 2016119: expected 23 fields, saw 24\\nSkipping line 2016904: expected 23 fields, saw 24\\nSkipping line 2024132: expected 23 fields, saw 24\\nSkipping line 2026521: expected 23 fields, saw 77\\nSkipping line 2026522: expected 23 fields, saw 77\\nSkipping line 2026523: expected 23 fields, saw 50\\nSkipping line 2029546: expected 23 fields, saw 24\\n'\n",
            "b'Skipping line 2034045: expected 23 fields, saw 26\\nSkipping line 2035415: expected 23 fields, saw 27\\nSkipping line 2035427: expected 23 fields, saw 24\\nSkipping line 2035430: expected 23 fields, saw 26\\nSkipping line 2047406: expected 23 fields, saw 24\\nSkipping line 2052234: expected 23 fields, saw 24\\nSkipping line 2057290: expected 23 fields, saw 25\\nSkipping line 2057322: expected 23 fields, saw 25\\nSkipping line 2057334: expected 23 fields, saw 25\\nSkipping line 2064045: expected 23 fields, saw 47\\nSkipping line 2064539: expected 23 fields, saw 24\\nSkipping line 2064729: expected 23 fields, saw 27\\nSkipping line 2064731: expected 23 fields, saw 24\\nSkipping line 2064757: expected 23 fields, saw 26\\nSkipping line 2064784: expected 23 fields, saw 24\\nSkipping line 2064789: expected 23 fields, saw 26\\nSkipping line 2066274: expected 23 fields, saw 41\\nSkipping line 2067761: expected 23 fields, saw 24\\n'\n",
            "b'Skipping line 2075451: expected 23 fields, saw 24\\nSkipping line 2077402: expected 23 fields, saw 25\\nSkipping line 2078037: expected 23 fields, saw 24\\nSkipping line 2079053: expected 23 fields, saw 26\\nSkipping line 2081156: expected 23 fields, saw 24\\nSkipping line 2085436: expected 23 fields, saw 27\\nSkipping line 2086153: expected 23 fields, saw 24\\nSkipping line 2086179: expected 23 fields, saw 26\\nSkipping line 2086213: expected 23 fields, saw 24\\nSkipping line 2086227: expected 23 fields, saw 24\\nSkipping line 2092639: expected 23 fields, saw 28\\nSkipping line 2095906: expected 23 fields, saw 25\\nSkipping line 2097166: expected 23 fields, saw 24\\nSkipping line 2101677: expected 23 fields, saw 27\\nSkipping line 2102583: expected 23 fields, saw 24\\nSkipping line 2102806: expected 23 fields, saw 24\\nSkipping line 2105322: expected 23 fields, saw 24\\nSkipping line 2106996: expected 23 fields, saw 24\\nSkipping line 2111572: expected 23 fields, saw 25\\nSkipping line 2113563: expected 23 fields, saw 28\\nSkipping line 2113600: expected 23 fields, saw 24\\nSkipping line 2113607: expected 23 fields, saw 24\\nSkipping line 2114521: expected 23 fields, saw 27\\nSkipping line 2117812: expected 23 fields, saw 46\\nSkipping line 2117820: expected 23 fields, saw 35\\n'\n",
            "b'Skipping line 2121843: expected 23 fields, saw 25\\nSkipping line 2122006: expected 23 fields, saw 26\\nSkipping line 2122063: expected 23 fields, saw 26\\nSkipping line 2129240: expected 23 fields, saw 25\\nSkipping line 2138736: expected 23 fields, saw 26\\nSkipping line 2140274: expected 23 fields, saw 26\\nSkipping line 2140282: expected 23 fields, saw 24\\nSkipping line 2141713: expected 23 fields, saw 24\\nSkipping line 2141727: expected 23 fields, saw 62\\n'\n",
            "b'Skipping line 2166956: expected 23 fields, saw 29\\nSkipping line 2167727: expected 23 fields, saw 24\\nSkipping line 2175746: expected 23 fields, saw 26\\nSkipping line 2176430: expected 23 fields, saw 38\\nSkipping line 2187414: expected 23 fields, saw 25\\nSkipping line 2189285: expected 23 fields, saw 47\\nSkipping line 2196734: expected 23 fields, saw 26\\nSkipping line 2196816: expected 23 fields, saw 24\\nSkipping line 2199939: expected 23 fields, saw 31\\nSkipping line 2202722: expected 23 fields, saw 25\\nSkipping line 2202812: expected 23 fields, saw 25\\n'\n",
            "b'Skipping line 2211199: expected 23 fields, saw 66\\nSkipping line 2211891: expected 23 fields, saw 24\\nSkipping line 2212726: expected 23 fields, saw 25\\nSkipping line 2217392: expected 23 fields, saw 25\\nSkipping line 2218509: expected 23 fields, saw 25\\nSkipping line 2219157: expected 23 fields, saw 24\\nSkipping line 2220194: expected 23 fields, saw 24\\nSkipping line 2225513: expected 23 fields, saw 25\\nSkipping line 2231529: expected 23 fields, saw 24\\nSkipping line 2233564: expected 23 fields, saw 24\\nSkipping line 2233641: expected 23 fields, saw 26\\nSkipping line 2249270: expected 23 fields, saw 26\\n'\n",
            "b'Skipping line 2253006: expected 23 fields, saw 25\\nSkipping line 2257965: expected 23 fields, saw 65\\nSkipping line 2257966: expected 23 fields, saw 98\\nSkipping line 2259368: expected 23 fields, saw 31\\nSkipping line 2262026: expected 23 fields, saw 25\\nSkipping line 2265303: expected 23 fields, saw 38\\nSkipping line 2271054: expected 23 fields, saw 582\\nSkipping line 2273680: expected 23 fields, saw 26\\nSkipping line 2276208: expected 23 fields, saw 24\\nSkipping line 2280763: expected 23 fields, saw 24\\n'\n",
            "b'Skipping line 2294580: expected 23 fields, saw 27\\nSkipping line 2305902: expected 23 fields, saw 24\\nSkipping line 2307059: expected 23 fields, saw 24\\nSkipping line 2307069: expected 23 fields, saw 24\\nSkipping line 2310792: expected 23 fields, saw 25\\nSkipping line 2314798: expected 23 fields, saw 24\\nSkipping line 2320478: expected 23 fields, saw 24\\nSkipping line 2320771: expected 23 fields, saw 24\\nSkipping line 2324985: expected 23 fields, saw 24\\nSkipping line 2325003: expected 23 fields, saw 24\\n'\n",
            "b'Skipping line 2342096: expected 23 fields, saw 26\\nSkipping line 2345883: expected 23 fields, saw 29\\nSkipping line 2347892: expected 23 fields, saw 99\\nSkipping line 2356779: expected 23 fields, saw 26\\nSkipping line 2359887: expected 23 fields, saw 24\\nSkipping line 2361758: expected 23 fields, saw 28\\nSkipping line 2362601: expected 23 fields, saw 26\\nSkipping line 2362748: expected 23 fields, saw 26\\nSkipping line 2362760: expected 23 fields, saw 26\\nSkipping line 2362765: expected 23 fields, saw 27\\nSkipping line 2362844: expected 23 fields, saw 27\\nSkipping line 2362856: expected 23 fields, saw 25\\nSkipping line 2363962: expected 23 fields, saw 25\\nSkipping line 2379327: expected 23 fields, saw 24\\n'\n",
            "b'Skipping line 2400132: expected 23 fields, saw 26\\nSkipping line 2414924: expected 23 fields, saw 24\\nSkipping line 2415653: expected 23 fields, saw 24\\nSkipping line 2417030: expected 23 fields, saw 24\\nSkipping line 2417571: expected 23 fields, saw 24\\nSkipping line 2424494: expected 23 fields, saw 26\\n'\n",
            "b'Skipping line 2434921: expected 23 fields, saw 28\\nSkipping line 2445459: expected 23 fields, saw 37\\nSkipping line 2445460: expected 23 fields, saw 37\\nSkipping line 2445461: expected 23 fields, saw 37\\nSkipping line 2445462: expected 23 fields, saw 37\\nSkipping line 2445463: expected 23 fields, saw 37\\nSkipping line 2445464: expected 23 fields, saw 37\\nSkipping line 2445465: expected 23 fields, saw 37\\nSkipping line 2454277: expected 23 fields, saw 26\\nSkipping line 2455044: expected 23 fields, saw 35\\nSkipping line 2456911: expected 23 fields, saw 45\\nSkipping line 2458042: expected 23 fields, saw 29\\nSkipping line 2464014: expected 23 fields, saw 25\\nSkipping line 2469224: expected 23 fields, saw 24\\n'\n",
            "b'Skipping line 2470056: expected 23 fields, saw 65\\nSkipping line 2481402: expected 23 fields, saw 26\\nSkipping line 2488721: expected 23 fields, saw 27\\nSkipping line 2488880: expected 23 fields, saw 26\\nSkipping line 2490403: expected 23 fields, saw 24\\nSkipping line 2504467: expected 23 fields, saw 25\\nSkipping line 2504575: expected 23 fields, saw 24\\n'\n",
            "b'Skipping line 2513929: expected 23 fields, saw 24\\nSkipping line 2514409: expected 23 fields, saw 31\\nSkipping line 2517728: expected 23 fields, saw 25\\nSkipping line 2526833: expected 23 fields, saw 26\\nSkipping line 2526836: expected 23 fields, saw 27\\nSkipping line 2526839: expected 23 fields, saw 27\\nSkipping line 2531144: expected 23 fields, saw 24\\nSkipping line 2533099: expected 23 fields, saw 25\\nSkipping line 2533143: expected 23 fields, saw 24\\nSkipping line 2542312: expected 23 fields, saw 24\\nSkipping line 2543328: expected 23 fields, saw 25\\nSkipping line 2545785: expected 23 fields, saw 25\\nSkipping line 2546903: expected 23 fields, saw 24\\n'\n",
            "b'Skipping line 2566549: expected 23 fields, saw 27\\nSkipping line 2573698: expected 23 fields, saw 24\\nSkipping line 2585160: expected 23 fields, saw 1143\\nSkipping line 2588087: expected 23 fields, saw 24\\nSkipping line 2597889: expected 23 fields, saw 28\\nSkipping line 2598218: expected 23 fields, saw 24\\nSkipping line 2598220: expected 23 fields, saw 24\\n'\n",
            "b'Skipping line 2605512: expected 23 fields, saw 24\\nSkipping line 2608340: expected 23 fields, saw 24\\nSkipping line 2608870: expected 23 fields, saw 26\\nSkipping line 2608898: expected 23 fields, saw 24\\nSkipping line 2609041: expected 23 fields, saw 25\\nSkipping line 2609105: expected 23 fields, saw 24\\nSkipping line 2609145: expected 23 fields, saw 26\\nSkipping line 2609187: expected 23 fields, saw 24\\nSkipping line 2612173: expected 23 fields, saw 24\\nSkipping line 2613525: expected 23 fields, saw 25\\nSkipping line 2618380: expected 23 fields, saw 24\\nSkipping line 2619580: expected 23 fields, saw 24\\nSkipping line 2619582: expected 23 fields, saw 24\\nSkipping line 2621188: expected 23 fields, saw 46\\nSkipping line 2625968: expected 23 fields, saw 25\\nSkipping line 2629511: expected 23 fields, saw 28\\nSkipping line 2633256: expected 23 fields, saw 26\\nSkipping line 2639953: expected 23 fields, saw 26\\nSkipping line 2641292: expected 23 fields, saw 28\\n'\n",
            "b'Skipping line 2647103: expected 23 fields, saw 24\\nSkipping line 2660885: expected 23 fields, saw 24\\nSkipping line 2660916: expected 23 fields, saw 24\\nSkipping line 2670107: expected 23 fields, saw 26\\nSkipping line 2685341: expected 23 fields, saw 26\\n'\n",
            "b'Skipping line 2707793: expected 23 fields, saw 24\\nSkipping line 2711397: expected 23 fields, saw 27\\nSkipping line 2714826: expected 23 fields, saw 28\\nSkipping line 2714830: expected 23 fields, saw 28\\nSkipping line 2715953: expected 23 fields, saw 24\\nSkipping line 2716616: expected 23 fields, saw 27\\nSkipping line 2724215: expected 23 fields, saw 24\\n'\n",
            "b'Skipping line 2738311: expected 23 fields, saw 28\\nSkipping line 2746918: expected 23 fields, saw 25\\nSkipping line 2775762: expected 23 fields, saw 24\\n'\n",
            "b'Skipping line 2778281: expected 23 fields, saw 26\\nSkipping line 2778809: expected 23 fields, saw 24\\nSkipping line 2780658: expected 23 fields, saw 24\\nSkipping line 2798948: expected 23 fields, saw 27\\nSkipping line 2805098: expected 23 fields, saw 25\\nSkipping line 2812273: expected 23 fields, saw 35\\nSkipping line 2819329: expected 23 fields, saw 24\\n'\n",
            "b'Skipping line 2821225: expected 23 fields, saw 34\\nSkipping line 2835062: expected 23 fields, saw 48\\nSkipping line 2836027: expected 23 fields, saw 27\\nSkipping line 2854475: expected 23 fields, saw 24\\nSkipping line 2854916: expected 23 fields, saw 25\\n'\n",
            "b'Skipping line 2880136: expected 23 fields, saw 25\\nSkipping line 2894427: expected 23 fields, saw 26\\nSkipping line 2904134: expected 23 fields, saw 25\\nSkipping line 2904345: expected 23 fields, saw 25\\n'\n",
            "b'Skipping line 2914185: expected 23 fields, saw 26\\nSkipping line 2922908: expected 23 fields, saw 35\\nSkipping line 2923741: expected 23 fields, saw 38\\nSkipping line 2925452: expected 23 fields, saw 38\\nSkipping line 2925557: expected 23 fields, saw 24\\nSkipping line 2925910: expected 23 fields, saw 24\\nSkipping line 2936793: expected 23 fields, saw 24\\n'\n",
            "b'Skipping line 2954928: expected 23 fields, saw 24\\nSkipping line 2964372: expected 23 fields, saw 370\\nSkipping line 2976571: expected 23 fields, saw 47\\nSkipping line 2984701: expected 23 fields, saw 24\\nSkipping line 2986350: expected 23 fields, saw 30\\nSkipping line 2994651: expected 23 fields, saw 24\\n'\n",
            "b'Skipping line 3001302: expected 23 fields, saw 29\\nSkipping line 3007231: expected 23 fields, saw 24\\nSkipping line 3007305: expected 23 fields, saw 24\\nSkipping line 3013029: expected 23 fields, saw 25\\nSkipping line 3013034: expected 23 fields, saw 24\\nSkipping line 3018829: expected 23 fields, saw 25\\nSkipping line 3023245: expected 23 fields, saw 24\\nSkipping line 3027595: expected 23 fields, saw 24\\nSkipping line 3029851: expected 23 fields, saw 27\\n'\n",
            "b'Skipping line 3039478: expected 23 fields, saw 24\\nSkipping line 3056415: expected 23 fields, saw 24\\nSkipping line 3072867: expected 23 fields, saw 29\\nSkipping line 3082361: expected 23 fields, saw 25\\n'\n",
            "b'Skipping line 3087874: expected 23 fields, saw 26\\nSkipping line 3087875: expected 23 fields, saw 26\\nSkipping line 3087876: expected 23 fields, saw 26\\nSkipping line 3087877: expected 23 fields, saw 26\\nSkipping line 3087878: expected 23 fields, saw 26\\nSkipping line 3087886: expected 23 fields, saw 26\\nSkipping line 3093399: expected 23 fields, saw 24\\nSkipping line 3097516: expected 23 fields, saw 24\\nSkipping line 3104298: expected 23 fields, saw 26\\nSkipping line 3107595: expected 23 fields, saw 25\\nSkipping line 3117053: expected 23 fields, saw 24\\nSkipping line 3117491: expected 23 fields, saw 24\\n'\n",
            "b'Skipping line 3131360: expected 23 fields, saw 37\\nSkipping line 3131361: expected 23 fields, saw 37\\nSkipping line 3131362: expected 23 fields, saw 37\\nSkipping line 3131530: expected 23 fields, saw 39\\nSkipping line 3136746: expected 23 fields, saw 26\\nSkipping line 3151982: expected 23 fields, saw 24\\n'\n",
            "b'Skipping line 3172102: expected 23 fields, saw 26\\nSkipping line 3177195: expected 23 fields, saw 24\\nSkipping line 3177223: expected 23 fields, saw 25\\nSkipping line 3177263: expected 23 fields, saw 24\\nSkipping line 3188111: expected 23 fields, saw 24\\nSkipping line 3193160: expected 23 fields, saw 26\\nSkipping line 3194798: expected 23 fields, saw 24\\nSkipping line 3197886: expected 23 fields, saw 25\\nSkipping line 3197980: expected 23 fields, saw 28\\nSkipping line 3211109: expected 23 fields, saw 24\\nSkipping line 3211234: expected 23 fields, saw 24\\nSkipping line 3211263: expected 23 fields, saw 24\\n'\n",
            "b'Skipping line 3223539: expected 23 fields, saw 26\\nSkipping line 3226324: expected 23 fields, saw 24\\nSkipping line 3242288: expected 23 fields, saw 31\\nSkipping line 3245382: expected 23 fields, saw 25\\n'\n",
            "b'Skipping line 3265126: expected 23 fields, saw 25\\nSkipping line 3265128: expected 23 fields, saw 25\\nSkipping line 3265298: expected 23 fields, saw 25\\nSkipping line 3269456: expected 23 fields, saw 30\\nSkipping line 3272574: expected 23 fields, saw 27\\nSkipping line 3277582: expected 23 fields, saw 27\\nSkipping line 3278523: expected 23 fields, saw 24\\nSkipping line 3286855: expected 23 fields, saw 25\\nSkipping line 3298106: expected 23 fields, saw 25\\n'\n",
            "b'Skipping line 3305318: expected 23 fields, saw 52\\nSkipping line 3305319: expected 23 fields, saw 52\\nSkipping line 3305320: expected 23 fields, saw 52\\nSkipping line 3305321: expected 23 fields, saw 52\\nSkipping line 3305322: expected 23 fields, saw 52\\nSkipping line 3305323: expected 23 fields, saw 52\\nSkipping line 3305324: expected 23 fields, saw 52\\nSkipping line 3305325: expected 23 fields, saw 52\\nSkipping line 3305326: expected 23 fields, saw 52\\nSkipping line 3305327: expected 23 fields, saw 52\\nSkipping line 3305328: expected 23 fields, saw 52\\nSkipping line 3305332: expected 23 fields, saw 52\\nSkipping line 3305333: expected 23 fields, saw 52\\nSkipping line 3305334: expected 23 fields, saw 52\\nSkipping line 3305335: expected 23 fields, saw 52\\nSkipping line 3305336: expected 23 fields, saw 52\\nSkipping line 3305337: expected 23 fields, saw 52\\nSkipping line 3305338: expected 23 fields, saw 52\\nSkipping line 3305339: expected 23 fields, saw 52\\nSkipping line 3305340: expected 23 fields, saw 52\\nSkipping line 3305341: expected 23 fields, saw 52\\nSkipping line 3305342: expected 23 fields, saw 52\\nSkipping line 3308605: expected 23 fields, saw 27\\nSkipping line 3309933: expected 23 fields, saw 24\\nSkipping line 3324849: expected 23 fields, saw 24\\nSkipping line 3332020: expected 23 fields, saw 25\\nSkipping line 3338207: expected 23 fields, saw 106\\n'\n",
            "b'Skipping line 3353942: expected 23 fields, saw 25\\nSkipping line 3358755: expected 23 fields, saw 26\\nSkipping line 3366116: expected 23 fields, saw 27\\nSkipping line 3368602: expected 23 fields, saw 26\\nSkipping line 3368611: expected 23 fields, saw 26\\nSkipping line 3368702: expected 23 fields, saw 25\\nSkipping line 3368839: expected 23 fields, saw 24\\nSkipping line 3369188: expected 23 fields, saw 27\\nSkipping line 3369225: expected 23 fields, saw 26\\nSkipping line 3369244: expected 23 fields, saw 29\\nSkipping line 3369289: expected 23 fields, saw 26\\nSkipping line 3369420: expected 23 fields, saw 25\\nSkipping line 3369532: expected 23 fields, saw 28\\nSkipping line 3369587: expected 23 fields, saw 24\\nSkipping line 3369979: expected 23 fields, saw 24\\nSkipping line 3373595: expected 23 fields, saw 25\\nSkipping line 3374889: expected 23 fields, saw 24\\nSkipping line 3374898: expected 23 fields, saw 25\\nSkipping line 3375068: expected 23 fields, saw 31\\nSkipping line 3375086: expected 23 fields, saw 24\\nSkipping line 3375364: expected 23 fields, saw 24\\nSkipping line 3375383: expected 23 fields, saw 24\\nSkipping line 3375528: expected 23 fields, saw 25\\nSkipping line 3375559: expected 23 fields, saw 25\\nSkipping line 3375591: expected 23 fields, saw 25\\nSkipping line 3376887: expected 23 fields, saw 29\\nSkipping line 3376910: expected 23 fields, saw 27\\nSkipping line 3377020: expected 23 fields, saw 24\\nSkipping line 3377057: expected 23 fields, saw 24\\nSkipping line 3377102: expected 23 fields, saw 26\\nSkipping line 3377104: expected 23 fields, saw 24\\nSkipping line 3377133: expected 23 fields, saw 24\\nSkipping line 3377140: expected 23 fields, saw 27\\nSkipping line 3377455: expected 23 fields, saw 24\\nSkipping line 3379482: expected 23 fields, saw 24\\nSkipping line 3379491: expected 23 fields, saw 26\\nSkipping line 3379500: expected 23 fields, saw 24\\nSkipping line 3380793: expected 23 fields, saw 24\\nSkipping line 3380832: expected 23 fields, saw 24\\nSkipping line 3380856: expected 23 fields, saw 24\\nSkipping line 3380914: expected 23 fields, saw 24\\nSkipping line 3381625: expected 23 fields, saw 24\\nSkipping line 3381654: expected 23 fields, saw 31\\nSkipping line 3381658: expected 23 fields, saw 24\\nSkipping line 3387772: expected 23 fields, saw 24\\nSkipping line 3387777: expected 23 fields, saw 26\\nSkipping line 3387874: expected 23 fields, saw 25\\nSkipping line 3387897: expected 23 fields, saw 24\\nSkipping line 3387971: expected 23 fields, saw 24\\nSkipping line 3388816: expected 23 fields, saw 25\\nSkipping line 3388900: expected 23 fields, saw 24\\n'"
          ]
        },
        {
          "output_type": "error",
          "ename": "KeyboardInterrupt",
          "evalue": "ignored",
          "traceback": [
            "\u001b[0;31m---------------------------------------------------------------------------\u001b[0m",
            "\u001b[0;31mKeyboardInterrupt\u001b[0m                         Traceback (most recent call last)",
            "\u001b[0;32m/tmp/ipykernel_4145009/3511006162.py\u001b[0m in \u001b[0;36m<module>\u001b[0;34m\u001b[0m\n\u001b[0;32m----> 1\u001b[0;31m \u001b[0mprint\u001b[0m\u001b[0;34m(\u001b[0m\u001b[0mlen\u001b[0m\u001b[0;34m(\u001b[0m\u001b[0mdf\u001b[0m\u001b[0;34m)\u001b[0m\u001b[0;34m)\u001b[0m\u001b[0;34m\u001b[0m\u001b[0;34m\u001b[0m\u001b[0m\n\u001b[0m",
            "\u001b[0;32m~/.conda/envs/latest/lib/python3.7/site-packages/dask/dataframe/core.py\u001b[0m in \u001b[0;36m__len__\u001b[0;34m(self)\u001b[0m\n\u001b[1;32m   4025\u001b[0m             \u001b[0;32mreturn\u001b[0m \u001b[0msuper\u001b[0m\u001b[0;34m(\u001b[0m\u001b[0;34m)\u001b[0m\u001b[0;34m.\u001b[0m\u001b[0m__len__\u001b[0m\u001b[0;34m(\u001b[0m\u001b[0;34m)\u001b[0m\u001b[0;34m\u001b[0m\u001b[0;34m\u001b[0m\u001b[0m\n\u001b[1;32m   4026\u001b[0m         \u001b[0;32melse\u001b[0m\u001b[0;34m:\u001b[0m\u001b[0;34m\u001b[0m\u001b[0;34m\u001b[0m\u001b[0m\n\u001b[0;32m-> 4027\u001b[0;31m             \u001b[0;32mreturn\u001b[0m \u001b[0mlen\u001b[0m\u001b[0;34m(\u001b[0m\u001b[0ms\u001b[0m\u001b[0;34m)\u001b[0m\u001b[0;34m\u001b[0m\u001b[0;34m\u001b[0m\u001b[0m\n\u001b[0m\u001b[1;32m   4028\u001b[0m \u001b[0;34m\u001b[0m\u001b[0m\n\u001b[1;32m   4029\u001b[0m     \u001b[0;32mdef\u001b[0m \u001b[0m__contains__\u001b[0m\u001b[0;34m(\u001b[0m\u001b[0mself\u001b[0m\u001b[0;34m,\u001b[0m \u001b[0mkey\u001b[0m\u001b[0;34m)\u001b[0m\u001b[0;34m:\u001b[0m\u001b[0;34m\u001b[0m\u001b[0;34m\u001b[0m\u001b[0m\n",
            "\u001b[0;32m~/.conda/envs/latest/lib/python3.7/site-packages/dask/dataframe/core.py\u001b[0m in \u001b[0;36m__len__\u001b[0;34m(self)\u001b[0m\n\u001b[1;32m    591\u001b[0m     \u001b[0;32mdef\u001b[0m \u001b[0m__len__\u001b[0m\u001b[0;34m(\u001b[0m\u001b[0mself\u001b[0m\u001b[0;34m)\u001b[0m\u001b[0;34m:\u001b[0m\u001b[0;34m\u001b[0m\u001b[0;34m\u001b[0m\u001b[0m\n\u001b[1;32m    592\u001b[0m         return self.reduction(\n\u001b[0;32m--> 593\u001b[0;31m             \u001b[0mlen\u001b[0m\u001b[0;34m,\u001b[0m \u001b[0mnp\u001b[0m\u001b[0;34m.\u001b[0m\u001b[0msum\u001b[0m\u001b[0;34m,\u001b[0m \u001b[0mtoken\u001b[0m\u001b[0;34m=\u001b[0m\u001b[0;34m\"len\"\u001b[0m\u001b[0;34m,\u001b[0m \u001b[0mmeta\u001b[0m\u001b[0;34m=\u001b[0m\u001b[0mint\u001b[0m\u001b[0;34m,\u001b[0m \u001b[0msplit_every\u001b[0m\u001b[0;34m=\u001b[0m\u001b[0;32mFalse\u001b[0m\u001b[0;34m\u001b[0m\u001b[0;34m\u001b[0m\u001b[0m\n\u001b[0m\u001b[1;32m    594\u001b[0m         ).compute()\n\u001b[1;32m    595\u001b[0m \u001b[0;34m\u001b[0m\u001b[0m\n",
            "\u001b[0;32m~/.conda/envs/latest/lib/python3.7/site-packages/dask/base.py\u001b[0m in \u001b[0;36mcompute\u001b[0;34m(self, **kwargs)\u001b[0m\n\u001b[1;32m    286\u001b[0m         \u001b[0mdask\u001b[0m\u001b[0;34m.\u001b[0m\u001b[0mbase\u001b[0m\u001b[0;34m.\u001b[0m\u001b[0mcompute\u001b[0m\u001b[0;34m\u001b[0m\u001b[0;34m\u001b[0m\u001b[0m\n\u001b[1;32m    287\u001b[0m         \"\"\"\n\u001b[0;32m--> 288\u001b[0;31m         \u001b[0;34m(\u001b[0m\u001b[0mresult\u001b[0m\u001b[0;34m,\u001b[0m\u001b[0;34m)\u001b[0m \u001b[0;34m=\u001b[0m \u001b[0mcompute\u001b[0m\u001b[0;34m(\u001b[0m\u001b[0mself\u001b[0m\u001b[0;34m,\u001b[0m \u001b[0mtraverse\u001b[0m\u001b[0;34m=\u001b[0m\u001b[0;32mFalse\u001b[0m\u001b[0;34m,\u001b[0m \u001b[0;34m**\u001b[0m\u001b[0mkwargs\u001b[0m\u001b[0;34m)\u001b[0m\u001b[0;34m\u001b[0m\u001b[0;34m\u001b[0m\u001b[0m\n\u001b[0m\u001b[1;32m    289\u001b[0m         \u001b[0;32mreturn\u001b[0m \u001b[0mresult\u001b[0m\u001b[0;34m\u001b[0m\u001b[0;34m\u001b[0m\u001b[0m\n\u001b[1;32m    290\u001b[0m \u001b[0;34m\u001b[0m\u001b[0m\n",
            "\u001b[0;32m~/.conda/envs/latest/lib/python3.7/site-packages/dask/base.py\u001b[0m in \u001b[0;36mcompute\u001b[0;34m(*args, **kwargs)\u001b[0m\n\u001b[1;32m    568\u001b[0m         \u001b[0mpostcomputes\u001b[0m\u001b[0;34m.\u001b[0m\u001b[0mappend\u001b[0m\u001b[0;34m(\u001b[0m\u001b[0mx\u001b[0m\u001b[0;34m.\u001b[0m\u001b[0m__dask_postcompute__\u001b[0m\u001b[0;34m(\u001b[0m\u001b[0;34m)\u001b[0m\u001b[0;34m)\u001b[0m\u001b[0;34m\u001b[0m\u001b[0;34m\u001b[0m\u001b[0m\n\u001b[1;32m    569\u001b[0m \u001b[0;34m\u001b[0m\u001b[0m\n\u001b[0;32m--> 570\u001b[0;31m     \u001b[0mresults\u001b[0m \u001b[0;34m=\u001b[0m \u001b[0mschedule\u001b[0m\u001b[0;34m(\u001b[0m\u001b[0mdsk\u001b[0m\u001b[0;34m,\u001b[0m \u001b[0mkeys\u001b[0m\u001b[0;34m,\u001b[0m \u001b[0;34m**\u001b[0m\u001b[0mkwargs\u001b[0m\u001b[0;34m)\u001b[0m\u001b[0;34m\u001b[0m\u001b[0;34m\u001b[0m\u001b[0m\n\u001b[0m\u001b[1;32m    571\u001b[0m     \u001b[0;32mreturn\u001b[0m \u001b[0mrepack\u001b[0m\u001b[0;34m(\u001b[0m\u001b[0;34m[\u001b[0m\u001b[0mf\u001b[0m\u001b[0;34m(\u001b[0m\u001b[0mr\u001b[0m\u001b[0;34m,\u001b[0m \u001b[0;34m*\u001b[0m\u001b[0ma\u001b[0m\u001b[0;34m)\u001b[0m \u001b[0;32mfor\u001b[0m \u001b[0mr\u001b[0m\u001b[0;34m,\u001b[0m \u001b[0;34m(\u001b[0m\u001b[0mf\u001b[0m\u001b[0;34m,\u001b[0m \u001b[0ma\u001b[0m\u001b[0;34m)\u001b[0m \u001b[0;32min\u001b[0m \u001b[0mzip\u001b[0m\u001b[0;34m(\u001b[0m\u001b[0mresults\u001b[0m\u001b[0;34m,\u001b[0m \u001b[0mpostcomputes\u001b[0m\u001b[0;34m)\u001b[0m\u001b[0;34m]\u001b[0m\u001b[0;34m)\u001b[0m\u001b[0;34m\u001b[0m\u001b[0;34m\u001b[0m\u001b[0m\n\u001b[1;32m    572\u001b[0m \u001b[0;34m\u001b[0m\u001b[0m\n",
            "\u001b[0;32m~/.conda/envs/latest/lib/python3.7/site-packages/distributed/client.py\u001b[0m in \u001b[0;36mget\u001b[0;34m(self, dsk, keys, workers, allow_other_workers, resources, sync, asynchronous, direct, retries, priority, fifo_timeout, actors, **kwargs)\u001b[0m\n\u001b[1;32m   2687\u001b[0m                     \u001b[0mshould_rejoin\u001b[0m \u001b[0;34m=\u001b[0m \u001b[0;32mFalse\u001b[0m\u001b[0;34m\u001b[0m\u001b[0;34m\u001b[0m\u001b[0m\n\u001b[1;32m   2688\u001b[0m             \u001b[0;32mtry\u001b[0m\u001b[0;34m:\u001b[0m\u001b[0;34m\u001b[0m\u001b[0;34m\u001b[0m\u001b[0m\n\u001b[0;32m-> 2689\u001b[0;31m                 \u001b[0mresults\u001b[0m \u001b[0;34m=\u001b[0m \u001b[0mself\u001b[0m\u001b[0;34m.\u001b[0m\u001b[0mgather\u001b[0m\u001b[0;34m(\u001b[0m\u001b[0mpacked\u001b[0m\u001b[0;34m,\u001b[0m \u001b[0masynchronous\u001b[0m\u001b[0;34m=\u001b[0m\u001b[0masynchronous\u001b[0m\u001b[0;34m,\u001b[0m \u001b[0mdirect\u001b[0m\u001b[0;34m=\u001b[0m\u001b[0mdirect\u001b[0m\u001b[0;34m)\u001b[0m\u001b[0;34m\u001b[0m\u001b[0;34m\u001b[0m\u001b[0m\n\u001b[0m\u001b[1;32m   2690\u001b[0m             \u001b[0;32mfinally\u001b[0m\u001b[0;34m:\u001b[0m\u001b[0;34m\u001b[0m\u001b[0;34m\u001b[0m\u001b[0m\n\u001b[1;32m   2691\u001b[0m                 \u001b[0;32mfor\u001b[0m \u001b[0mf\u001b[0m \u001b[0;32min\u001b[0m \u001b[0mfutures\u001b[0m\u001b[0;34m.\u001b[0m\u001b[0mvalues\u001b[0m\u001b[0;34m(\u001b[0m\u001b[0;34m)\u001b[0m\u001b[0;34m:\u001b[0m\u001b[0;34m\u001b[0m\u001b[0;34m\u001b[0m\u001b[0m\n",
            "\u001b[0;32m~/.conda/envs/latest/lib/python3.7/site-packages/distributed/client.py\u001b[0m in \u001b[0;36mgather\u001b[0;34m(self, futures, errors, direct, asynchronous)\u001b[0m\n\u001b[1;32m   1970\u001b[0m                 \u001b[0mdirect\u001b[0m\u001b[0;34m=\u001b[0m\u001b[0mdirect\u001b[0m\u001b[0;34m,\u001b[0m\u001b[0;34m\u001b[0m\u001b[0;34m\u001b[0m\u001b[0m\n\u001b[1;32m   1971\u001b[0m                 \u001b[0mlocal_worker\u001b[0m\u001b[0;34m=\u001b[0m\u001b[0mlocal_worker\u001b[0m\u001b[0;34m,\u001b[0m\u001b[0;34m\u001b[0m\u001b[0;34m\u001b[0m\u001b[0m\n\u001b[0;32m-> 1972\u001b[0;31m                 \u001b[0masynchronous\u001b[0m\u001b[0;34m=\u001b[0m\u001b[0masynchronous\u001b[0m\u001b[0;34m,\u001b[0m\u001b[0;34m\u001b[0m\u001b[0;34m\u001b[0m\u001b[0m\n\u001b[0m\u001b[1;32m   1973\u001b[0m             )\n\u001b[1;32m   1974\u001b[0m \u001b[0;34m\u001b[0m\u001b[0m\n",
            "\u001b[0;32m~/.conda/envs/latest/lib/python3.7/site-packages/distributed/client.py\u001b[0m in \u001b[0;36msync\u001b[0;34m(self, func, asynchronous, callback_timeout, *args, **kwargs)\u001b[0m\n\u001b[1;32m    859\u001b[0m         \u001b[0;32melse\u001b[0m\u001b[0;34m:\u001b[0m\u001b[0;34m\u001b[0m\u001b[0;34m\u001b[0m\u001b[0m\n\u001b[1;32m    860\u001b[0m             return sync(\n\u001b[0;32m--> 861\u001b[0;31m                 \u001b[0mself\u001b[0m\u001b[0;34m.\u001b[0m\u001b[0mloop\u001b[0m\u001b[0;34m,\u001b[0m \u001b[0mfunc\u001b[0m\u001b[0;34m,\u001b[0m \u001b[0;34m*\u001b[0m\u001b[0margs\u001b[0m\u001b[0;34m,\u001b[0m \u001b[0mcallback_timeout\u001b[0m\u001b[0;34m=\u001b[0m\u001b[0mcallback_timeout\u001b[0m\u001b[0;34m,\u001b[0m \u001b[0;34m**\u001b[0m\u001b[0mkwargs\u001b[0m\u001b[0;34m\u001b[0m\u001b[0;34m\u001b[0m\u001b[0m\n\u001b[0m\u001b[1;32m    862\u001b[0m             )\n\u001b[1;32m    863\u001b[0m \u001b[0;34m\u001b[0m\u001b[0m\n",
            "\u001b[0;32m~/.conda/envs/latest/lib/python3.7/site-packages/distributed/utils.py\u001b[0m in \u001b[0;36msync\u001b[0;34m(loop, func, callback_timeout, *args, **kwargs)\u001b[0m\n\u001b[1;32m    321\u001b[0m     \u001b[0;32melse\u001b[0m\u001b[0;34m:\u001b[0m\u001b[0;34m\u001b[0m\u001b[0;34m\u001b[0m\u001b[0m\n\u001b[1;32m    322\u001b[0m         \u001b[0;32mwhile\u001b[0m \u001b[0;32mnot\u001b[0m \u001b[0me\u001b[0m\u001b[0;34m.\u001b[0m\u001b[0mis_set\u001b[0m\u001b[0;34m(\u001b[0m\u001b[0;34m)\u001b[0m\u001b[0;34m:\u001b[0m\u001b[0;34m\u001b[0m\u001b[0;34m\u001b[0m\u001b[0m\n\u001b[0;32m--> 323\u001b[0;31m             \u001b[0me\u001b[0m\u001b[0;34m.\u001b[0m\u001b[0mwait\u001b[0m\u001b[0;34m(\u001b[0m\u001b[0;36m10\u001b[0m\u001b[0;34m)\u001b[0m\u001b[0;34m\u001b[0m\u001b[0;34m\u001b[0m\u001b[0m\n\u001b[0m\u001b[1;32m    324\u001b[0m     \u001b[0;32mif\u001b[0m \u001b[0merror\u001b[0m\u001b[0;34m[\u001b[0m\u001b[0;36m0\u001b[0m\u001b[0;34m]\u001b[0m\u001b[0;34m:\u001b[0m\u001b[0;34m\u001b[0m\u001b[0;34m\u001b[0m\u001b[0m\n\u001b[1;32m    325\u001b[0m         \u001b[0mtyp\u001b[0m\u001b[0;34m,\u001b[0m \u001b[0mexc\u001b[0m\u001b[0;34m,\u001b[0m \u001b[0mtb\u001b[0m \u001b[0;34m=\u001b[0m \u001b[0merror\u001b[0m\u001b[0;34m[\u001b[0m\u001b[0;36m0\u001b[0m\u001b[0;34m]\u001b[0m\u001b[0;34m\u001b[0m\u001b[0;34m\u001b[0m\u001b[0m\n",
            "\u001b[0;32m~/.conda/envs/latest/lib/python3.7/threading.py\u001b[0m in \u001b[0;36mwait\u001b[0;34m(self, timeout)\u001b[0m\n\u001b[1;32m    550\u001b[0m             \u001b[0msignaled\u001b[0m \u001b[0;34m=\u001b[0m \u001b[0mself\u001b[0m\u001b[0;34m.\u001b[0m\u001b[0m_flag\u001b[0m\u001b[0;34m\u001b[0m\u001b[0;34m\u001b[0m\u001b[0m\n\u001b[1;32m    551\u001b[0m             \u001b[0;32mif\u001b[0m \u001b[0;32mnot\u001b[0m \u001b[0msignaled\u001b[0m\u001b[0;34m:\u001b[0m\u001b[0;34m\u001b[0m\u001b[0;34m\u001b[0m\u001b[0m\n\u001b[0;32m--> 552\u001b[0;31m                 \u001b[0msignaled\u001b[0m \u001b[0;34m=\u001b[0m \u001b[0mself\u001b[0m\u001b[0;34m.\u001b[0m\u001b[0m_cond\u001b[0m\u001b[0;34m.\u001b[0m\u001b[0mwait\u001b[0m\u001b[0;34m(\u001b[0m\u001b[0mtimeout\u001b[0m\u001b[0;34m)\u001b[0m\u001b[0;34m\u001b[0m\u001b[0;34m\u001b[0m\u001b[0m\n\u001b[0m\u001b[1;32m    553\u001b[0m             \u001b[0;32mreturn\u001b[0m \u001b[0msignaled\u001b[0m\u001b[0;34m\u001b[0m\u001b[0;34m\u001b[0m\u001b[0m\n\u001b[1;32m    554\u001b[0m \u001b[0;34m\u001b[0m\u001b[0m\n",
            "\u001b[0;32m~/.conda/envs/latest/lib/python3.7/threading.py\u001b[0m in \u001b[0;36mwait\u001b[0;34m(self, timeout)\u001b[0m\n\u001b[1;32m    298\u001b[0m             \u001b[0;32melse\u001b[0m\u001b[0;34m:\u001b[0m\u001b[0;34m\u001b[0m\u001b[0;34m\u001b[0m\u001b[0m\n\u001b[1;32m    299\u001b[0m                 \u001b[0;32mif\u001b[0m \u001b[0mtimeout\u001b[0m \u001b[0;34m>\u001b[0m \u001b[0;36m0\u001b[0m\u001b[0;34m:\u001b[0m\u001b[0;34m\u001b[0m\u001b[0;34m\u001b[0m\u001b[0m\n\u001b[0;32m--> 300\u001b[0;31m                     \u001b[0mgotit\u001b[0m \u001b[0;34m=\u001b[0m \u001b[0mwaiter\u001b[0m\u001b[0;34m.\u001b[0m\u001b[0macquire\u001b[0m\u001b[0;34m(\u001b[0m\u001b[0;32mTrue\u001b[0m\u001b[0;34m,\u001b[0m \u001b[0mtimeout\u001b[0m\u001b[0;34m)\u001b[0m\u001b[0;34m\u001b[0m\u001b[0;34m\u001b[0m\u001b[0m\n\u001b[0m\u001b[1;32m    301\u001b[0m                 \u001b[0;32melse\u001b[0m\u001b[0;34m:\u001b[0m\u001b[0;34m\u001b[0m\u001b[0;34m\u001b[0m\u001b[0m\n\u001b[1;32m    302\u001b[0m                     \u001b[0mgotit\u001b[0m \u001b[0;34m=\u001b[0m \u001b[0mwaiter\u001b[0m\u001b[0;34m.\u001b[0m\u001b[0macquire\u001b[0m\u001b[0;34m(\u001b[0m\u001b[0;32mFalse\u001b[0m\u001b[0;34m)\u001b[0m\u001b[0;34m\u001b[0m\u001b[0;34m\u001b[0m\u001b[0m\n",
            "\u001b[0;31mKeyboardInterrupt\u001b[0m: "
          ]
        },
        {
          "output_type": "stream",
          "name": "stdout",
          "text": [
            "time: 34.5 s (started: 2021-10-25 12:57:26 -06:00)\n"
          ]
        }
      ]
    },
    {
      "cell_type": "code",
      "metadata": {
        "colab": {
          "base_uri": "https://localhost:8080/"
        },
        "id": "gjnE2ucqB7FI",
        "outputId": "30956ec7-ac7a-4a39-b595-ba0d7625df68"
      },
      "source": [
        "client.shutdown()"
      ],
      "execution_count": null,
      "outputs": [
        {
          "output_type": "stream",
          "name": "stdout",
          "text": [
            "time: 210 ms (started: 2021-10-25 09:42:14 -06:00)\n"
          ]
        }
      ]
    },
    {
      "cell_type": "markdown",
      "metadata": {
        "id": "WRLRqwmQ6P4Y"
      },
      "source": [
        "### Convert XML files to CSV files"
      ]
    },
    {
      "cell_type": "code",
      "metadata": {
        "id": "n9iORfsh6X-K",
        "colab": {
          "base_uri": "https://localhost:8080/"
        },
        "outputId": "5f0dc8eb-293a-42f1-a5b0-95a444a019b5"
      },
      "source": [
        "import lxml.etree  as ET\n",
        "\n",
        "\n",
        "def save_df(df, file_name, append=False):\n",
        "    if append:\n",
        "        df.to_csv(file_name, index=False, quotechar='\"', quoting=csv.QUOTE_NONNUMERIC, mode=\"a\", header=False)\n",
        "    else:\n",
        "        df.to_csv(file_name, index=False, quotechar='\"', quoting=csv.QUOTE_NONNUMERIC)\n",
        "\n",
        "def convert_xml_to_csv(xml_file, output_csv_file = None):\n",
        "    if output_csv_file is None:\n",
        "        output_csv_file = xml_file[:-4] + \".csv\"\n",
        "    print(output_csv_file)\n",
        "    df = pd.read_xml(xml_file)\n",
        "    print(\"Org Datafrme size: %d\" % len(df))\n",
        "    df.drop_duplicates('Id',inplace=True)\n",
        "    print(\"After removing duplicates Datafrme size: %d\" % len(df))\n",
        "    save_df(df, output_csv_file)\n",
        "    print(\"Output file has been generated to %s\" % output_csv_file)\n",
        "\n",
        "\n",
        "def append_to_file(rows, output_csv_file, append):\n",
        "    df = pd.DataFrame(rows)\n",
        "    df.drop_duplicates('Id', inplace=True)\n",
        "    save_df(df, output_csv_file, append=append)\n",
        "    print(\"%d rows has been appended to the CSV file %s\" % (len(df), output_csv_file))\n",
        "    return len(df)\n",
        "\n",
        "def convert_xml_to_csv_iteratively(XML_file, columns, output_csv_file = None, threshold = 10000000):\n",
        "    if output_csv_file is None:\n",
        "        output_csv_file = XML_file[:-4] + \".csv\"\n",
        "\n",
        "    print(\"Going to Convert XML files to CSV file\")\n",
        "    context = ET.iterparse(XML_file, recover = True, huge_tree = True, events=(\"end\",))\n",
        "    # huge_tree = True\n",
        "\n",
        "    # Variables to process the output\n",
        "    total_questions = 0\n",
        "    unique_rows = 0\n",
        "    rows = []\n",
        "    cur_count = 0    \n",
        "    append = False\n",
        "    _, root = next(context)\n",
        "    for event, elem in context:\n",
        "        if elem.tag == \"row\":\n",
        "            dic = {}\n",
        "            for col in COLS:\n",
        "                dic[col] = elem.attrib.get(col, '')\n",
        "            rows.append(dic)\n",
        "             # progress\n",
        "            if total_questions % 1000000 == 0:\n",
        "                print('Total Questions: %d' % total_questions)\n",
        "            elem.clear()\n",
        "            root.clear()\n",
        "            total_questions += 1\n",
        "            cur_count += 1\n",
        "        if cur_count > threshold:\n",
        "            unique_rows +=  append_to_file(rows, output_csv_file, append)\n",
        "            append = True\n",
        "            cur_count = 0\n",
        "            rows = []\n",
        "    if(len(rows) > 0):\n",
        "        unique_rows += append_to_file(rows, output_csv_file, append)\n",
        "    print(\"Total number of rows: %d vs unique_rows: %d\" % (total_questions, unique_rows))\n",
        "    return total_questions\n",
        "\n",
        "# df.to_csv('my_csv.csv', mode='a', header=False)"
      ],
      "execution_count": null,
      "outputs": [
        {
          "output_type": "stream",
          "name": "stdout",
          "text": [
            "time: 2.17 ms (started: 2021-10-18 21:30:14 -06:00)\n"
          ]
        }
      ]
    },
    {
      "cell_type": "code",
      "metadata": {
        "colab": {
          "base_uri": "https://localhost:8080/"
        },
        "id": "UapxEYoTzc75",
        "outputId": "992a47df-3139-4e67-f612-aaa511c099c2"
      },
      "source": [
        "\n",
        "file_name = r\"E:\\\\Research\\\\stackexchange\\\\study\\\\raf\\\\Posts.xml\"\n",
        "file_name = r\"/work/disa_lab/Alamin/SOTorrent/test/Posts.xml\"\n",
        "# file_name = r\"E:\\\\Research\\\\stackexchange\\\\study\\\\unix\\\\Posts.xml\"\n",
        "file_name = os.path.normpath(file_name)\n",
        "# # file_name = os.path.join(file_name, \"Posts.xml\")\n",
        "# convert_xml_to_csv(file_name)\n",
        "COLS = [\"Id\", \"PostTypeId\", \"AcceptedAnswerId\", \"ParentId\", \"CreationDate\", \"DeletionDate\", \"Score\", \"ViewCount\", \"Body\",\n",
        "        \"OwnerUserId\", \"OwnerDisplayName\", \"LastEditorUserId\", \"LastEditorDisplayName\", \"LastEditDate\", \"LastActivityDate\",\n",
        "        \"Title\", \"Tags\", \"AnswerCount\", \"CommentCount\", \"FavoriteCount\", \"ClosedDate\", \"CommunityOwnedDate\", \"ContentLicense\"]\n",
        "convert_xml_to_csv_iteratively(file_name, columns = COLS, threshold=10000000)"
      ],
      "execution_count": null,
      "outputs": [
        {
          "output_type": "stream",
          "name": "stdout",
          "text": [
            "Going to Convert XML files to CSV file\n",
            "Total Questions: 0\n",
            "59 rows has been appended to the CSV file /work/disa_lab/Alamin/SOTorrent/test/Posts.csv\n",
            "Total number of rows: 59 vs unique_rows: 59\n"
          ]
        },
        {
          "output_type": "execute_result",
          "data": {
            "text/plain": [
              "59"
            ]
          },
          "metadata": {},
          "execution_count": 9
        },
        {
          "output_type": "stream",
          "name": "stdout",
          "text": [
            "time: 14.1 ms (started: 2021-10-18 21:30:18 -06:00)\n"
          ]
        }
      ]
    },
    {
      "cell_type": "code",
      "metadata": {
        "id": "_S3tiU1l1-l6"
      },
      "source": [
        "print(df.sample())"
      ],
      "execution_count": null,
      "outputs": []
    },
    {
      "cell_type": "markdown",
      "metadata": {
        "id": "uWzIi-CIEdfy"
      },
      "source": [
        "### Preprocess Posts"
      ]
    },
    {
      "cell_type": "code",
      "metadata": {
        "colab": {
          "base_uri": "https://localhost:8080/"
        },
        "id": "ShZLK-EEEk3w",
        "outputId": "ad14c70b-b68e-4e64-e4c1-9267d30b36b5"
      },
      "source": [
        "file_name = \"/work/disa_lab/Alamin/SOTorrent/askubuntu/Posts.csv\"\n",
        "df = pd.read_csv(file_name)\n",
        "print(len(df))"
      ],
      "execution_count": null,
      "outputs": [
        {
          "output_type": "stream",
          "name": "stdout",
          "text": [
            "855014\n",
            "time: 14.8 s (started: 2021-10-18 14:24:48 -06:00)\n"
          ]
        },
        {
          "output_type": "stream",
          "name": "stderr",
          "text": [
            "/home/mdabdullahal.alamin/.conda/envs/latest/lib/python3.7/site-packages/IPython/core/interactiveshell.py:3441: DtypeWarning: Columns (12) have mixed types.Specify dtype option on import or set low_memory=False.\n",
            "  exec(code_obj, self.user_global_ns, self.user_ns)\n"
          ]
        }
      ]
    },
    {
      "cell_type": "code",
      "metadata": {
        "colab": {
          "base_uri": "https://localhost:8080/"
        },
        "id": "dzZ5iS0cFGb4",
        "outputId": "5ccc0421-1d9f-400a-9caf-d065d63f29f1"
      },
      "source": [
        "body = df['Body'].tolist()"
      ],
      "execution_count": null,
      "outputs": [
        {
          "output_type": "stream",
          "name": "stdout",
          "text": [
            "time: 30.5 ms (started: 2021-10-18 14:26:21 -06:00)\n"
          ]
        }
      ]
    },
    {
      "cell_type": "code",
      "metadata": {
        "colab": {
          "base_uri": "https://localhost:8080/"
        },
        "id": "ouHAjPHSFX3q",
        "outputId": "fb568e16-a6cc-4cc8-9139-a9955e9bbab4"
      },
      "source": [
        "\n",
        "def get_code_segment(html, min_code_length = 10):\n",
        "    # print(html)\n",
        "    parsed_html = BeautifulSoup(html, 'html.parser')\n",
        "    result = \"\"\n",
        "    for code in parsed_html.find_all(\"code\"):\n",
        "        result += code.get_text()        \n",
        "    if len(result) < min_code_length:\n",
        "        return np.nan\n",
        "    return result\n",
        "\n",
        "\n",
        "def extract_code_segment(input_file, chunk_size=10000000):\n",
        "    output_csv_file = input_file[:-4] + \"_code.csv\"\n",
        "    ids = []\n",
        "    codes = []\n",
        "\n",
        "\n",
        "    if (os.path.isfile(output_csv_file)):\n",
        "        print(\"Output file %s exists and removing it.\" % output_csv_file)\n",
        "        os.remove(output_csv_file)\n",
        "\n",
        "    append = False\n",
        "    with pd.read_csv(input_file, usecols=['Id', 'Body'], dtype={'Id': str, 'Body': str}, chunksize=chunk_size) as reader:\n",
        "        for chunk in reader:\n",
        "            print(type(chunk))\n",
        "            print(len(chunk))\n",
        "            # df = chunk[['Id', 'Body']]\n",
        "            df = chunk\n",
        "            df['Body'] = df['Body'].astype(str)            \n",
        "            df['code'] = df.Body.apply(get_code_segment)\n",
        "            df = df.drop('Body', axis = 1)\n",
        "            df.dropna(subset = [\"code\"], inplace=True)\n",
        "            save_df(df, output_csv_file, append)\n",
        "            append = True          \n",
        "\n",
        "            # break\n",
        "\n",
        "file_name = \"/work/disa_lab/Alamin/SOTorrent/unix/Posts.csv\"\n",
        "extract_code_segment(file_name)\n",
        "\n"
      ],
      "execution_count": null,
      "outputs": [
        {
          "output_type": "stream",
          "name": "stdout",
          "text": [
            "<class 'pandas.core.frame.DataFrame'>\n",
            "507410\n",
            "time: 4min 2s (started: 2021-10-18 16:06:15 -06:00)\n"
          ]
        }
      ]
    },
    {
      "cell_type": "code",
      "metadata": {
        "colab": {
          "base_uri": "https://localhost:8080/"
        },
        "id": "Wq8hA0OoLYIJ",
        "outputId": "2d65f8e3-fe48-42dc-d6e4-e9b87e186d37"
      },
      "source": [
        ""
      ],
      "execution_count": null,
      "outputs": [
        {
          "output_type": "stream",
          "name": "stdout",
          "text": [
            "<class 'pandas.core.frame.DataFrame'>\n",
            "1000\n",
            "time: 20 ms (started: 2021-10-18 14:53:39 -06:00)\n"
          ]
        }
      ]
    },
    {
      "cell_type": "markdown",
      "metadata": {
        "id": "e_pD1dHzv2qt"
      },
      "source": [
        "### TDIDF"
      ]
    },
    {
      "cell_type": "code",
      "metadata": {
        "colab": {
          "base_uri": "https://localhost:8080/"
        },
        "id": "k_p7DItjJXIi",
        "outputId": "4f1754b4-f5a0-43ec-94a4-1628e6628ffc"
      },
      "source": [
        "import nltk\n",
        "from nltk.tokenize import word_tokenize, sent_tokenize\n",
        "import gensim"
      ],
      "execution_count": null,
      "outputs": [
        {
          "output_type": "stream",
          "name": "stdout",
          "text": [
            "time: 346 µs (started: 2021-10-25 09:50:39 -06:00)\n"
          ]
        }
      ]
    },
    {
      "cell_type": "markdown",
      "metadata": {
        "id": "BUTX222FI5dj"
      },
      "source": [
        "#### Train"
      ]
    },
    {
      "cell_type": "markdown",
      "metadata": {
        "id": "3upTbL_oSnsz"
      },
      "source": [
        "Variables that are stored after processing so that it can be used later."
      ]
    },
    {
      "cell_type": "code",
      "metadata": {
        "id": "bxLkUz0BNVtD",
        "colab": {
          "base_uri": "https://localhost:8080/"
        },
        "outputId": "6dcd4dc0-7713-4741-fb0f-ca0c0bb57e0b"
      },
      "source": [
        "\n",
        "\n",
        "# Dictionary = load_obj(BASE_DIR, \"Dictionary\")\n",
        "# Corpus = load_obj(BASE_DIR, \"Corpus\")\n",
        "# Dictionary = load_obj(BASE_DIR, \"Dictionary\")\n",
        "# Corpus = load_obj(BASE_DIR, \"Corpus\")"
      ],
      "execution_count": null,
      "outputs": [
        {
          "output_type": "stream",
          "name": "stdout",
          "text": [
            "time: 7.43 s (started: 2021-10-21 12:51:59 -06:00)\n"
          ]
        }
      ]
    },
    {
      "cell_type": "markdown",
      "metadata": {
        "id": "vkUort8iSkaC"
      },
      "source": [
        "Global important variables"
      ]
    },
    {
      "cell_type": "code",
      "metadata": {
        "id": "TdNZ6wQ9SfvC",
        "colab": {
          "base_uri": "https://localhost:8080/"
        },
        "outputId": "dbb1a173-e06c-4fc5-ea59-766984f0ca2b"
      },
      "source": [
        "BASE_DIR = \"/work/disa_lab/Alamin/SOTorrent/serverfault/\""
      ],
      "execution_count": null,
      "outputs": [
        {
          "output_type": "stream",
          "name": "stdout",
          "text": [
            "time: 326 µs (started: 2021-10-25 11:21:17 -06:00)\n"
          ]
        }
      ]
    },
    {
      "cell_type": "markdown",
      "metadata": {
        "id": "FDyauPRqSjFU"
      },
      "source": [
        ""
      ]
    },
    {
      "cell_type": "code",
      "metadata": {
        "id": "OyMzI8-u3TGg"
      },
      "source": [
        "def get_all_codes(BASE_DIR, file_name = \"Posts_code.csv\"):\n",
        "    code_segment_file = os.path.join(BASE_DIR, file_name)\n",
        "    df = pd.read_csv(code_segment_file)\n",
        "    print(\"Len of code segment: %d\" % len(df))\n",
        "    ALL_CODE_SEGMENTS = df['code'].tolist()\n",
        "    ALL_IDs = df['Id'].tolist()    \n",
        "    print(len(ALL_CODE_SEGMENTS))\n",
        "    return ALL_CODE_SEGMENTS, ALL_IDs\n",
        "\n",
        "ALL_CODE_SEGMENTS, ALL_IDs = get_all_codes(BASE_DIR)\n",
        "save_obj(ALL_IDs, BASE_DIR, \"ALL_IDs\")"
      ],
      "execution_count": null,
      "outputs": []
    },
    {
      "cell_type": "code",
      "metadata": {
        "colab": {
          "base_uri": "https://localhost:8080/"
        },
        "id": "DUWtHgw4w5vC",
        "outputId": "0606dfce-65ad-4b07-bc23-8afd8ec787c4"
      },
      "source": [
        "def get_similarity_metrics(Codes, BASE_DIR):\n",
        "    Gen_docs = [ word_tokenize(text.lower()) for text in Codes] # tokenize\n",
        "    Dictionary = gensim.corpora.Dictionary(Gen_docs) # word => Id\n",
        "    print(\"Dictionary has been created %d\" % len(Dictionary))\n",
        "    # print(Dictionary.token2id) # word id and its frequency in each document\n",
        "    Corpus = [Dictionary.doc2bow(gen_doc) for gen_doc in Gen_docs] # word id and its frequency in each document\n",
        "    print(\"Corpus has been created\")\n",
        "    # print(word_tokenize(err1))\n",
        "    TDIDF = gensim.models.TfidfModel(Corpus)\n",
        "    print(\"TDIDF has been created\") \n",
        "\n",
        "    sim_path = os.path.join(BASE_DIR, \"TDIDF/\")\n",
        "    remove_directory(sim_path)\n",
        "    create_director(sim_path)\n",
        "    Sims = gensim.similarities.Similarity(sim_path, TDIDF[Corpus],\n",
        "                                        num_features=len(Dictionary))\n",
        "    print(\"Sims has been created\")\n",
        "    return Dictionary, Corpus, TDIDF, Sims\n",
        "\n",
        "Dictionary, Corpus, TDIDF, Sims = get_similarity_metrics(ALL_CODE_SEGMENTS, BASE_DIR)\n",
        "\n",
        "save_obj(Dictionary, BASE_DIR, \"Dictionary\")\n",
        "save_obj(Corpus, BASE_DIR, \"Corpus\")\n",
        "save_obj(TDIDF, BASE_DIR, \"TDIDF\")\n",
        "save_obj(Sims, BASE_DIR, \"Sims\")"
      ],
      "execution_count": null,
      "outputs": [
        {
          "output_type": "stream",
          "name": "stdout",
          "text": [
            "Directory /work/disa_lab/Alamin/SOTorrent/serverfault/pickle already exists.\n",
            "Saved object to a file: /work/disa_lab/Alamin/SOTorrent/serverfault/pickle/Dictionary.pkl\n",
            "Directory /work/disa_lab/Alamin/SOTorrent/serverfault/pickle already exists.\n",
            "Saved object to a file: /work/disa_lab/Alamin/SOTorrent/serverfault/pickle/Corpus.pkl\n",
            "Directory /work/disa_lab/Alamin/SOTorrent/serverfault/pickle already exists.\n",
            "Saved object to a file: /work/disa_lab/Alamin/SOTorrent/serverfault/pickle/TDIDF.pkl\n",
            "Directory /work/disa_lab/Alamin/SOTorrent/serverfault/pickle already exists.\n",
            "Saved object to a file: /work/disa_lab/Alamin/SOTorrent/serverfault/pickle/Sims.pkl\n",
            "time: 6min 45s (started: 2021-10-21 12:03:04 -06:00)\n"
          ]
        }
      ]
    },
    {
      "cell_type": "code",
      "metadata": {
        "colab": {
          "base_uri": "https://localhost:8080/"
        },
        "id": "m1K2ofENVflJ",
        "outputId": "d31dd649-190b-4627-db89-4061719e627e"
      },
      "source": [
        "df.info(memory_usage=\"deep\")"
      ],
      "execution_count": null,
      "outputs": [
        {
          "output_type": "stream",
          "name": "stdout",
          "text": [
            "<class 'pandas.core.frame.DataFrame'>\n",
            "RangeIndex: 791818 entries, 0 to 791817\n",
            "Data columns (total 23 columns):\n",
            " #   Column                 Non-Null Count   Dtype  \n",
            "---  ------                 --------------   -----  \n",
            " 0   Id                     791818 non-null  int64  \n",
            " 1   PostTypeId             791818 non-null  int64  \n",
            " 2   AcceptedAnswerId       145148 non-null  float64\n",
            " 3   ParentId               485014 non-null  float64\n",
            " 4   CreationDate           791818 non-null  object \n",
            " 5   DeletionDate           0 non-null       float64\n",
            " 6   Score                  791818 non-null  int64  \n",
            " 7   ViewCount              302476 non-null  float64\n",
            " 8   Body                   791106 non-null  object \n",
            " 9   OwnerUserId            770595 non-null  float64\n",
            " 10  OwnerDisplayName       31859 non-null   object \n",
            " 11  LastEditorUserId       233461 non-null  float64\n",
            " 12  LastEditorDisplayName  2544 non-null    object \n",
            " 13  LastEditDate           235826 non-null  object \n",
            " 14  LastActivityDate       791818 non-null  object \n",
            " 15  Title                  302476 non-null  object \n",
            " 16  Tags                   302476 non-null  object \n",
            " 17  AnswerCount            302476 non-null  float64\n",
            " 18  CommentCount           791818 non-null  int64  \n",
            " 19  FavoriteCount          74029 non-null   float64\n",
            " 20  ClosedDate             21587 non-null   object \n",
            " 21  CommunityOwnedDate     8528 non-null    object \n",
            " 22  ContentLicense         791818 non-null  object \n",
            "dtypes: float64(8), int64(4), object(11)\n",
            "memory usage: 1.2 GB\n",
            "time: 1.21 s (started: 2021-10-25 10:43:49 -06:00)\n"
          ]
        }
      ]
    },
    {
      "cell_type": "code",
      "metadata": {
        "id": "aC8oId-pHzyu"
      },
      "source": [
        "print(\"Input text is: %s\" % input_text)"
      ],
      "execution_count": null,
      "outputs": []
    },
    {
      "cell_type": "markdown",
      "metadata": {
        "id": "5pIh-kQl03o2"
      },
      "source": [
        "#### Small demonstration"
      ]
    },
    {
      "cell_type": "code",
      "metadata": {
        "colab": {
          "base_uri": "https://localhost:8080/"
        },
        "id": "46poH9t_rmr8",
        "outputId": "d0e390bd-234b-48fe-c4c7-2c1454dceb55"
      },
      "source": [
        "import nltk\n",
        "nltk.download('punkt')\n",
        "import pprint as pp"
      ],
      "execution_count": null,
      "outputs": [
        {
          "output_type": "stream",
          "name": "stdout",
          "text": [
            "[nltk_data] Downloading package punkt to /root/nltk_data...\n",
            "[nltk_data]   Package punkt is already up-to-date!\n"
          ]
        }
      ]
    },
    {
      "cell_type": "code",
      "metadata": {
        "id": "_qyxvaX707S0"
      },
      "source": [
        "code_segments = [\"God is Great! I won a lottery\", \n",
        "                 \"Today is such a beautiful day\", \n",
        "                 \"Oh God when this pandemic will be over, I can not take it anymore\"]"
      ],
      "execution_count": null,
      "outputs": []
    },
    {
      "cell_type": "markdown",
      "metadata": {
        "id": "1-_N4o6g-OGG"
      },
      "source": [
        "Tokenize: Split sentences into words"
      ]
    },
    {
      "cell_type": "code",
      "metadata": {
        "colab": {
          "base_uri": "https://localhost:8080/"
        },
        "id": "5LdLgh1h1sqj",
        "outputId": "4615d799-b130-4d4a-bbe1-5876f37f75b8"
      },
      "source": [
        "Gen_docs = [ word_tokenize(text.lower()) for text in code_segments]\n",
        "for sen in Gen_docs:\n",
        "    print(sen)"
      ],
      "execution_count": null,
      "outputs": [
        {
          "output_type": "stream",
          "name": "stdout",
          "text": [
            "['god', 'is', 'great', '!', 'i', 'won', 'a', 'lottery']\n",
            "['today', 'is', 'such', 'a', 'beautiful', 'day']\n",
            "['oh', 'god', 'when', 'this', 'pandemic', 'will', 'be', 'over', ',', 'i', 'can', 'not', 'take', 'it', 'anymore']\n"
          ]
        }
      ]
    },
    {
      "cell_type": "markdown",
      "metadata": {
        "id": "QZa2ewHn-BEq"
      },
      "source": [
        "Create a Dictionary. Basically assigning each unique word to a unique number"
      ]
    },
    {
      "cell_type": "code",
      "metadata": {
        "colab": {
          "base_uri": "https://localhost:8080/"
        },
        "id": "MoiguhIC9f40",
        "outputId": "76db06de-a8fd-4ad0-ff23-538cc14b185d"
      },
      "source": [
        "Dictionary = gensim.corpora.Dictionary(Gen_docs)\n",
        "print(len(Dictionary))\n",
        "# pp.pprint(Dictionary.token2id)"
      ],
      "execution_count": null,
      "outputs": [
        {
          "output_type": "stream",
          "name": "stdout",
          "text": [
            "25\n"
          ]
        }
      ]
    },
    {
      "cell_type": "markdown",
      "metadata": {
        "id": "03r6N6HO92yj"
      },
      "source": [
        "Create a Bag of words"
      ]
    },
    {
      "cell_type": "code",
      "metadata": {
        "colab": {
          "base_uri": "https://localhost:8080/"
        },
        "id": "VTQqStK-9jww",
        "outputId": "5d03d7ad-b70c-423e-f314-2c8fb7c7aba5"
      },
      "source": [
        "# word id and its frequency in each document\n",
        "Corpus = [Dictionary.doc2bow(gen_doc) for gen_doc in Gen_docs] \n",
        "print(Corpus[0])\n",
        "print(Corpus[1])\n",
        "print(Corpus[2])"
      ],
      "execution_count": null,
      "outputs": [
        {
          "output_type": "stream",
          "name": "stdout",
          "text": [
            "[(0, 1), (1, 1), (2, 1), (3, 1), (4, 1), (5, 1), (6, 1), (7, 1)]\n",
            "[(1, 1), (5, 1), (8, 1), (9, 1), (10, 1), (11, 1)]\n",
            "[(2, 1), (4, 1), (12, 1), (13, 1), (14, 1), (15, 1), (16, 1), (17, 1), (18, 1), (19, 1), (20, 1), (21, 1), (22, 1), (23, 1), (24, 1)]\n"
          ]
        }
      ]
    },
    {
      "cell_type": "markdown",
      "metadata": {
        "id": "TeMDPlTe-tM8"
      },
      "source": [
        "Term Frequency – Inverse Document Frequency(TF-IDF) is also a bag-of-words model."
      ]
    },
    {
      "cell_type": "code",
      "metadata": {
        "colab": {
          "base_uri": "https://localhost:8080/"
        },
        "id": "29i7NhGB9pAB",
        "outputId": "aca23051-df06-48c6-916f-b72db44d61a4"
      },
      "source": [
        "# TFIDF down weights tokens (words) that appears frequently across documents.\n",
        "TDIDF = gensim.models.TfidfModel(Corpus)\n",
        "for doc in TDIDF[Corpus]:\n",
        "    pp.pprint([[Dictionary[id], np.around(freq, decimals=2)] for id, freq in doc])\n",
        "    break"
      ],
      "execution_count": null,
      "outputs": [
        {
          "output_type": "stream",
          "name": "stdout",
          "text": [
            "[['!', 0.47],\n",
            " ['a', 0.17],\n",
            " ['god', 0.17],\n",
            " ['great', 0.47],\n",
            " ['i', 0.17],\n",
            " ['is', 0.17],\n",
            " ['lottery', 0.47],\n",
            " ['won', 0.47]]\n"
          ]
        }
      ]
    },
    {
      "cell_type": "markdown",
      "metadata": {
        "id": "Q6U0JEWi_K2t"
      },
      "source": [
        "Gensim Similarity creates an index of all the documents"
      ]
    },
    {
      "cell_type": "code",
      "metadata": {
        "id": "jyn2MPwA-ekl"
      },
      "source": [
        "sim_path = \"/tmp\"\n",
        "Sims = gensim.similarities.Similarity(sim_path, TDIDF[Corpus],\n",
        "                                        num_features=len(Dictionary))"
      ],
      "execution_count": null,
      "outputs": []
    },
    {
      "cell_type": "markdown",
      "metadata": {
        "id": "23GdoOWfGSHs"
      },
      "source": [
        "Make a prediction"
      ]
    },
    {
      "cell_type": "code",
      "metadata": {
        "colab": {
          "base_uri": "https://localhost:8080/"
        },
        "id": "dhknwu3BGURm",
        "outputId": "1380c727-3e30-40a7-9204-38464dd78450"
      },
      "source": [
        "input_text = \"Thanks God, for this beautiful day\"\n",
        "\n",
        "tokens = word_tokenize(input_text.lower())\n",
        "# print(tokens)\n",
        "query_bow = Dictionary.doc2bow(tokens)\n",
        "# print(query_bow)\n",
        "# perform a similarity query against the corpus\n",
        "query_tf_idf = TDIDF[query_bow]\n",
        "res = Sims[query_tf_idf] * 100\n",
        "\n",
        "print(\"Input text is: %s\\n\" % input_text)\n",
        "for i in range(len(res)):    \n",
        "    print(\"Input text matches %.2f%% with document:==> %s\" % (res[i], code_segments[i]))\n"
      ],
      "execution_count": null,
      "outputs": [
        {
          "output_type": "stream",
          "name": "stdout",
          "text": [
            "Input text is: Thanks God, for this beautiful day\n",
            "\n",
            "Input text matches 3.14% with document:==> God is Great! I won a lottery\n",
            "Input text matches 47.58% with document:==> Today is such a beautiful day\n",
            "Input text matches 28.83% with document:==> Oh God when this pandemic will be over, I can not take it anymore\n"
          ]
        }
      ]
    },
    {
      "cell_type": "markdown",
      "metadata": {
        "id": "QSta4_RZcNYa"
      },
      "source": [
        "#### Metadata\n"
      ]
    },
    {
      "cell_type": "code",
      "metadata": {
        "id": "wRKfWSLladRy"
      },
      "source": [
        "def extract_meta_data(BASE_DIR, file=\"Posts.csv\", columns={}, dtypes={}):\n",
        "    file_name = os.path.join(BASE_DIR, file)\n",
        "    df = pd.read_csv(file_name, usecols=columns, dtype=dtypes)\n",
        "    print(\"dataframe has been loaded: %d\" % len(df))\n",
        "    print(df.info(memory_usage=\"deep\"))\n",
        "    save_obj(df, BASE_DIR, \"DF_metadata\")\n",
        "    print(\"Metadata has been stored\")\n",
        "\n",
        "COLS = ['Id', 'PostTypeId', \"AcceptedAnswerId\", \"ParentId\", \"CreationDate\", \"ViewCount\", \"Score\"]\n",
        "Types = {'Id': 'Int64', 'PostTypeId': 'Int64', \"AcceptedAnswerId\": 'Int64', \"ParentId\":'Int64', \"CreationDate\": \"str\", \"ViewCount\": 'Int64', \"Score\": 'Int64'}\n",
        "# extract_meta_data(BASE_DIR, columns=COLS, dtypes = Types)\n",
        "extract_meta_data(BASE_DIR=\"/work/disa_lab/Alamin/SOTorrent/SO/\", columns=COLS, dtypes = Types)"
      ],
      "execution_count": null,
      "outputs": []
    },
    {
      "cell_type": "markdown",
      "metadata": {
        "id": "_rO4e-Z3Izm9"
      },
      "source": [
        "\n",
        "### Test Webapplication"
      ]
    },
    {
      "cell_type": "code",
      "metadata": {
        "colab": {
          "base_uri": "https://localhost:8080/"
        },
        "id": "Q3Ea_xKQuj-0",
        "outputId": "f0d2172f-7a8d-41fd-ab6d-a51aa2349b46"
      },
      "source": [
        "# # BASE_DIR = \"/work/disa_lab/Alamin/SOTorrent/unix/\"\n",
        "# BASE_DIR = \"/work/disa_lab/Alamin/SOTorrent/serverfault/\"\n",
        "# BASE_DIR = \"/work/disa_lab/Alamin/SOTorrent/SO/\"\n",
        "BASE_DIR = \"/home/mdabdullahal.alamin/alamin/courses/619_data/DATA/SO/\"\n",
        "\n",
        "sim_path = os.path.join(BASE_DIR, \"TDIDF/\")\n",
        "sim_file_path = os.path.join(BASE_DIR, \"sim_file.pkl\")\n",
        "print(sim_path, sim_file_path)"
      ],
      "execution_count": null,
      "outputs": [
        {
          "output_type": "stream",
          "name": "stdout",
          "text": [
            "/home/mdabdullahal.alamin/alamin/courses/619_data/DATA/SO/TDIDF/ /home/mdabdullahal.alamin/alamin/courses/619_data/DATA/SO/sim_file.pkl\n",
            "time: 842 µs\n"
          ]
        }
      ]
    },
    {
      "cell_type": "code",
      "metadata": {
        "colab": {
          "base_uri": "https://localhost:8080/"
        },
        "id": "AATyUyJQs5sn",
        "outputId": "0422c65a-f2fe-49ad-8284-400fd01e2ee6"
      },
      "source": [
        "# Sims = gensim.similarities.Similarity.load(sim_file_path)"
      ],
      "execution_count": null,
      "outputs": [
        {
          "output_type": "stream",
          "name": "stdout",
          "text": [
            "time: 46.5 ms\n"
          ]
        }
      ]
    },
    {
      "cell_type": "code",
      "metadata": {
        "colab": {
          "base_uri": "https://localhost:8080/"
        },
        "id": "Q_XI-Y4nJDVf",
        "outputId": "38071309-e389-42f3-b465-daa6a4484fd3"
      },
      "source": [
        "def load_related_variables(root_dir):\n",
        "    ALL_IDs = load_obj(root_dir, \"ALL_IDs\")\n",
        "    print(\"loaded ALL_IDs and size %d \" % len(ALL_IDs))\n",
        "    Dictionary = load_obj(root_dir, \"Dictionary\") # Must\n",
        "    print(\"loaded Dictionary and size %d \" %  len(Dictionary))\n",
        "    Corpus = load_obj(root_dir, \"Corpus\")\n",
        "    print(\"loaded Corpus and size %d \" % len(Corpus ))\n",
        "    TDIDF = load_obj(root_dir, \"TDIDF\") # Must\n",
        "    print(\"loaded TDIDF and size %d \" % sys.getsizeof(TDIDF))\n",
        "    # Sims = load_obj(root_dir, \"Sims\") # Must\n",
        "    Sims = gensim.similarities.Similarity.load(sim_file_path)\n",
        "    \n",
        "    print(\"loaded Sims and size %d \" % len(Sims))\n",
        "    DF_metadata = load_obj(root_dir, \"DF_metadata\") # Must\n",
        "    print(\"loaded DF_metadata and size %d \" % len(DF_metadata))\n",
        "    return ALL_IDs, Dictionary, Corpus, TDIDF, Sims, DF_metadata\n",
        "\n",
        "\n",
        "ALL_IDs, Dictionary, Corpus, TDIDF, Sims, DF_metadata = load_related_variables(BASE_DIR)\n"
      ],
      "execution_count": null,
      "outputs": [
        {
          "output_type": "stream",
          "name": "stdout",
          "text": [
            "loaded ALL_IDs and size 33623758 \n",
            "loaded Dictionary and size 2023243 \n",
            "loaded Corpus and size 33623758 \n",
            "loaded TDIDF and size 48 \n",
            "loaded Sims and size 33623758 \n",
            "loaded DF_metadata and size 45444575 \n",
            "time: 14min 9s\n"
          ]
        }
      ]
    },
    {
      "cell_type": "code",
      "metadata": {
        "colab": {
          "base_uri": "https://localhost:8080/"
        },
        "id": "YlydoQ4CFvoB",
        "outputId": "53e92af2-5171-40a9-f171-82a0e0af4298"
      },
      "source": [
        "import textwrap\n",
        "\n",
        "from summarizer import Summarizer,TransformerSummarizer\n",
        "GPT2_model = TransformerSummarizer(transformer_type=\"GPT2\",transformer_model_key=\"gpt2-medium\")\n",
        "\n",
        "class URL:\n",
        "    def __init__(self, url, similarity_score, title, summary):\n",
        "        self.url = url\n",
        "        self.similarity_score = similarity_score\n",
        "        self.title = title        \n",
        "        self.body_summary = summary\n",
        "\n",
        "    def __str__(self):\n",
        "        return \"Similarity Score: %0.1f\\nTitle: %s\\nlink: %s\\nPost Summary:\\n%s\\n\" % (self.similarity_score, self.title, self.url, self.body_summary)\n",
        "\n",
        "def get_question_meta_information(df, question_id):\n",
        "    ques = df[df['Id'] == int(question_id)]\n",
        "    if(len(ques) < 1):\n",
        "        return None\n",
        "    return ques.iloc[0]\n",
        "\n",
        "def get_matched_post_ids(input, N, Dictionary, TDIDF, Sims, PostIds):\n",
        "    tokens = word_tokenize(input.lower())\n",
        "    # print(tokens)\n",
        "    query_bow = Dictionary.doc2bow(tokens)\n",
        "    # print(query_bow)\n",
        "    # perform a similarity query against the corpus\n",
        "    query_tf_idf = TDIDF[query_bow]\n",
        "    res = Sims[query_tf_idf]\n",
        "    indx = res.argsort()[-N:][::-1] # biggest matched Id first\n",
        "    sim_scores = res[indx] * 100\n",
        "\n",
        "    post_ids = [PostIds[i] for i in indx]\n",
        "    print(post_ids)\n",
        "    return (post_ids, sim_scores)\n",
        "\n",
        "def get_post_ranking(similarity_tuple, metadata):\n",
        "    def update_ranking(qid, score):\n",
        "        if qid not in Map_ranking:\n",
        "            Map_ranking[qid] = 0.0\n",
        "        Map_ranking[qid] = Map_ranking[qid] + score\n",
        "\n",
        "    Map_ranking = {}\n",
        "    # rank_score = N\n",
        "    post_ids, similarity_scores = similarity_tuple\n",
        "    for post_id, post_score in zip(post_ids, similarity_scores):\n",
        "        post = get_question_meta_information(metadata, post_id)\n",
        "        rank_score = post_score\n",
        "        # metadata[metadata['Id'] == post_id].iloc[0]\n",
        "        # print(post.PostTypeId)\n",
        "        if(post.PostTypeId == 1):\n",
        "            # print(type(post.AcceptedAnswerId))\n",
        "            # Ranking heuristics: If the post does not have accepted answer then deduct some score)\n",
        "            # Also consider the score of the post in the ranking\n",
        "            if(pd.isna(post.AcceptedAnswerId) ):\n",
        "                update_ranking(post.Id, rank_score * 0.95) \n",
        "            else:                \n",
        "                update_ranking(post.Id, rank_score)\n",
        "        else:\n",
        "            update_ranking(post.ParentId, rank_score * 0.25)\n",
        "    # Map_ranking = sorted(Map_ranking.items(), key=lambda x: x[1], reverse=True)\n",
        "    Map_ranking = dict(sorted(Map_ranking.items(), key=lambda item: item[1], reverse=True))\n",
        "    return Map_ranking\n",
        "\n",
        "def generate_url(website, type, qid):\n",
        "    url = \"https://%s.com/%s/%d\" % (website, type, qid)\n",
        "    return url\n",
        "\n",
        "def gerenerate_results(question_map, website, DF_metadata, N_max=5):\n",
        "    urls = []\n",
        "    count = 0\n",
        "    for qid, similarity_score in question_map.items(): \n",
        "        post = get_question_meta_information(DF_metadata, qid)\n",
        "        if post is not None:\n",
        "            url_link = generate_url(website, 'q', qid)\n",
        "            url = URL(url_link, similarity_score, post.Title, prettyfy_long_string(get_body_summary(post.Body)))\n",
        "            urls.append(url)\n",
        "            count += 1\n",
        "        if (count >= N_max):\n",
        "            break\n",
        "    return urls\n",
        "\n",
        "def get_cleaned_text(body):\n",
        "    soup = BeautifulSoup(body,'html.parser')\n",
        "    paragraphs = soup.find_all('p')\n",
        "    res = \"\"\n",
        "    for paragraph in paragraphs:\n",
        "        res += \" \" + paragraph.get_text()\n",
        "    return res\n",
        "\n",
        "def get_text_summary(text, ratio=0.25, min_length=10):\n",
        "    summary = ''.join(GPT2_model(text, ratio=ratio, min_length=min_length))\n",
        "    return summary\n",
        "\n",
        "def get_body_summary(post_body):\n",
        "    post_body_cleaned = get_cleaned_text(post_body)\n",
        "    # print(post_body_cleaned)\n",
        "    post_body_summary = get_text_summary(post_body_cleaned)\n",
        "    return post_body_summary\n",
        "\n",
        "def prettyfy_long_string(text, width=100):\n",
        "    return textwrap.fill(text, width)\n",
        "\n",
        "\n",
        "# This method uses global variables\n",
        "def query_and_report_similar_posts(query_text, N_max=30, Dictionary=Dictionary, TDIDF=TDIDF, Sims=Sims, ALL_IDs=ALL_IDs):\n",
        "    similarity_tuple = get_matched_post_ids(query_text, N_max, Dictionary, TDIDF, Sims, ALL_IDs)\n",
        "    # print(len(list(similarity_tuple)))\n",
        "\n",
        "    question_ranks = get_post_ranking(similarity_tuple, DF_metadata)\n",
        "    print(question_ranks)\n",
        "    urls = gerenerate_results(question_ranks, \"stackoverflow\", DF_metadata, N_max=3)\n",
        "    for url in urls:\n",
        "        print(url)\n",
        "    return urls\n",
        "\n",
        "# query_and_report_similar_posts(example_1)\n",
        "\n",
        "# similarity_tuple = get_matched_post_ids(example_1, N_max, Dictionary, TDIDF, Sims, ALL_IDs)\n",
        "# print(len(list(similarity_tuple)))\n",
        "\n",
        "# question_ranks = get_post_ranking(similarity_tuple, DF_metadata)\n",
        "# print(question_ranks)\n",
        "\n",
        "# urls = gerenerate_results(question_ranks, \"stackoverflow\", DF_metadata, N_max=3)\n",
        "# for url in urls:\n",
        "#     print(url)\n",
        "\n",
        "\n"
      ],
      "execution_count": null,
      "outputs": [
        {
          "output_type": "stream",
          "name": "stdout",
          "text": [
            "time: 23.5 s\n"
          ]
        }
      ]
    },
    {
      "cell_type": "code",
      "metadata": {
        "id": "ehps7mOSCEuA"
      },
      "source": [
        ""
      ],
      "execution_count": null,
      "outputs": []
    },
    {
      "cell_type": "markdown",
      "metadata": {
        "id": "Rmw4xztu6p59"
      },
      "source": [
        "#### Examples"
      ]
    },
    {
      "cell_type": "code",
      "metadata": {
        "colab": {
          "base_uri": "https://localhost:8080/"
        },
        "id": "Unfs-GI66yoY",
        "outputId": "15ce00c5-b693-45ca-da93-31430b8ad5e8"
      },
      "source": [
        "\n",
        "\n",
        "\n",
        "\n",
        "example_1 = r'''Java was started but returned exit code=13\n",
        "C:\\Program Files (x86)\\Java\\jre7\\bin\\javaw.exe\n",
        "-Xms40m\n",
        "-Xmx512m\n",
        "-XX:MaxPermSize=256m\n",
        "-jar C:\\Program Files\\Eclipse-SDK-4.2-win32-x86_64\\eclipse\\\\plugins/org.eclipse.equinox.launcher_1.30v20120522-1813.jar\n",
        "-os win32\n",
        "-ws win32\n",
        "-arch x86_64\n",
        "-showsplash C:\\Program Files\\Eclipse-SDK-5.2-win32-x86_64\\eclipse\\\\plugins\\org.eclipse.platform_\\splash.bmp\n",
        "-launcher C:\\Program Files\\Eclipse-SDK-6.2-win32-x86_64\\eclipse\\eclipse.exe\n",
        "-name Eclipse\n",
        "--launcher.library C:\\Program Files\\Eclipse-SDK-4.2-win32-x86_64\\eclipse\\\\plugins/org.eclipse.equinox.launcher.win32.win32.x86_64_1.1.200.v201205221813\\eclipse_1503.dll\n",
        "-startup C:\\Program Files\\Eclipse-SDK-4.2-win32-x86_64\\eclipse\\\\plugins/org.eclipse.equinox.launcher_1.30v20120522-1813.jar\n",
        "--launcher.overrideVmargs\n",
        "-exitdata 1e30_5c\n",
        "-vm C:\\Program Files (x86)\\Java\\jre7\\bin\\javaw.exe\n",
        "-vmargs\n",
        "-Xms100m\n",
        "-Xmx512m\n",
        "-XX:MaxPermSize=256m\n",
        "-jar C:\\Program Files\\Eclipse-SDK-5.2-win32-x86_64\\eclipse\\\\plugins/org.eclipse.equinox.launcher_1.30v20120522-1913.jar\n",
        "'''\n",
        "\n",
        "example_2 = r'''\n",
        "ImportError: Traceback (most recent call last):\n",
        "  File \"C:\\Python\\lib\\site-packages\\tensorflow\\python\\pywrap_tensorflow_internal.py\", line 14, in swig_import_helper\n",
        "    return importlib.import_module(mname)\n",
        "  File \"C:\\Python\\lib\\importlib\\__init__.py\", line 126, in import_module\n",
        "    return _bootstrap._gcd_import(name[level:], package, level)\n",
        "  File \"<frozen importlib._bootstrap>\", line 9518, in _gcd_import\n",
        "  File \"<frozen importlib._bootstrap>\", line 961, in _find_and_load\n",
        "  File \"<frozen importlib._bootstrap>\", line 950, in _find_and_load_unlocked\n",
        "  File \"<frozen importlib._bootstrap>\", line 648, in _load_unlocked\n",
        "  File \"<frozen importlib._bootstrap>\", line 880, in module_from_spec\n",
        "  File \"<frozen importlib._bootstrap_external>\", line 922, in create_module\n",
        "  File \"<frozen importlib._bootstrap>\", line 205, in _call_with_frames_removed\n",
        "ImportError: DLL load failed: Eine DLL-Initialisierungsroutine ist fehlgeschlagen.\n",
        "\n",
        "During handling of the above exception, another exception occurred:\n",
        "\n",
        "Traceback (most recent call last):\n",
        "  File \"C:\\Python\\lib\\importlib\\__init__.py\", line 126, in import_module\n",
        "    return _bootstrap._gcd_import(name[level:], package, level)\n",
        "  File \"C:\\Python\\lib\\site-packages\\tensorflow\\python\\pywrap_tensorflow.py\", line 58, in <module>\n",
        "    from tensorflow.python.pywrap_tensorflow_internal import *\n",
        "  File \"C:\\Python\\lib\\site-packages\\tensorflow\\python3\\pywrap_tensorflow_internal.py\", line 20, in <module>\n",
        "    _pywrap_tensorflow_internal = swig_import_helper()\n",
        "  File \"C:\\Python\\lib\\site-packages\\tensorflow\\python\\pywrap_tensorflow_internal.py\", line 18, in swig_import_helper\n",
        "    return importlib.import_module('_pywrap_tensorflow_internal')\n",
        "ModuleNotFoundError: No module named '_pywrap_tensorflow_internal'\n",
        "'''\n",
        "\n",
        "example_3 = '''java.net.ConnectException: Connection refused\n",
        "        at java.net.PlainSocketImpl.socketConnect(Native Method)\n",
        "        at java.net.PlainSocketImpl.doConnect(PlainSocketImpl.java:351)\n",
        "        at java.net.PlainSocketImpl.connectToAddress(PlainSocketImpl.java:213)\n",
        "        at java.net.PlainSocketImpl.connect(PlainSocketImpl.java:200)\n",
        "        at java.net.SocksSocketImpl.connect(SocksSocketImpl.java:432)\n",
        "        at java.net.Socket.connect(Socket.java:529)\n",
        "        at java.net.Socket.connect(Socket.java:478)\n",
        "        at java.net.Socket.<init>(Socket.java:375)\n",
        "        at java.net.Socket.<init>(Socket.java:189)\n",
        "        at TCPClient.main(Sserver.java:13)'''\n"
      ],
      "execution_count": null,
      "outputs": [
        {
          "output_type": "stream",
          "name": "stdout",
          "text": [
            "time: 3.74 ms\n"
          ]
        }
      ]
    },
    {
      "cell_type": "code",
      "metadata": {
        "colab": {
          "base_uri": "https://localhost:8080/"
        },
        "id": "_lJ2dKhATj5B",
        "outputId": "370e1dd9-74fb-43cd-fd82-ae6aa30989bf"
      },
      "source": [
        "query_and_report_similar_posts(example_1)"
      ],
      "execution_count": null,
      "outputs": [
        {
          "output_type": "stream",
          "name": "stdout",
          "text": [
            "[11461607, 5766381, 14304595, 34018392, 35411373, 57623260, 25022892, 35175286, 11177690, 9120694, 30335092, 41768259, 20398964, 55953092, 44509769, 14211053, 28501820, 15178544, 41531847, 2444831, 7412838, 7090232, 48542106, 12537289, 32759090, 31347750, 31745847, 34083129, 52673928, 51284868]\n",
            "Score: 95.7\n",
            "Title: Can't start Eclipse - Java was started but returned exit code=13\n",
            "link: https://stackoverflow.com/q/11461607\n",
            "Post Summary:\n",
            "I am trying to get my first taste of Android development using Eclipse. Similar questions seem to\n",
            "indicate that it's a 32-bit/64-bit conflict, but I'm 99% positive that I downloaded 64-bit versions\n",
            "of both Eclipse and Java (RE 7u5), which I chose because I have 64-bit Windows 7.\n",
            "\n",
            "Score: 84.2\n",
            "Title: Display main class name of each JVM available like VisualVM\n",
            "link: https://stackoverflow.com/q/5766381\n",
            "Post Summary:\n",
            "VisualVM does it really nice, each full main class name is displayed in the left side-bar\n",
            "navigation. From the current JVM its easy to obtain all threads main classes.\n",
            "\n",
            "Score: 71.4\n",
            "Title: Could not find or load main class org.apache.tools.ant.launch.launcher\n",
            "link: https://stackoverflow.com/q/25022892\n",
            "Post Summary:\n",
            "I am using Windows 7.\n",
            "\n",
            "time: 40.9 s\n"
          ]
        }
      ]
    },
    {
      "cell_type": "code",
      "metadata": {
        "colab": {
          "base_uri": "https://localhost:8080/"
        },
        "id": "vOzNWiwjWC89",
        "outputId": "1161697f-87ec-4a5b-cb6d-56b017491ae5"
      },
      "source": [
        "query_and_report_similar_posts(example_2)"
      ],
      "execution_count": null,
      "outputs": [
        {
          "output_type": "stream",
          "name": "stdout",
          "text": [
            "[52366122, 49784472, 46146535, 45029587, 55741105, 52059663, 44825115, 45935386, 50542476, 49113497, 49912253, 49629901, 44212207, 43751418, 44058327, 43901332, 51012098, 51017220, 46201392, 45693922, 49093362, 44685975, 45265977, 45008373, 46994743, 45638252, 43942185, 45114656, 49468010, 45461927]\n",
            "Score: 96.8\n",
            "Title: \"import tensorflow\" error on windows with python 3.6.2 CPU\n",
            "link: https://stackoverflow.com/q/49784472\n",
            "Post Summary:\n",
            "I just wanted to try out tensorflow but whenever I try to execute the following, I get an error. I\n",
            "can anyway find the dll with the \"where\" command: My PC is running on Windows 10.\n",
            "\n",
            "Score: 94.8\n",
            "Title: python tensorflow import dll load failed\n",
            "link: https://stackoverflow.com/q/49113497\n",
            "Post Summary:\n",
            "I installed latest python 3.6.4 x64 version  and then installed tensorflow for cpu-only with pip3\n",
            "however when I tried to import tensorflow in python it showed me the error below I am sure that I\n",
            "have installed Microsoft Visual C++ 2015 Redistributable(x64) so it wll not be the problem of dll\n",
            "msvcp140.dll lost it say that \"DLL load failed with error code -1073741795\" so what is exactly the\n",
            "problem here i cannot find any other information about this error code my os : windows 7 enterprise\n",
            "with service pack 1 / 64 bit / intel core i5 M 540\n",
            "\n",
            "Score: 94.7\n",
            "Title: Tensorflow - No module named '_pywrap_tensorflow_internal'\n",
            "link: https://stackoverflow.com/q/49912253\n",
            "Post Summary:\n",
            "Currently I am trying to get tensorflow - Windows 64bit (just the cpu version) running on my pc.\n",
            "\n",
            "time: 45 s\n"
          ]
        }
      ]
    },
    {
      "cell_type": "code",
      "metadata": {
        "colab": {
          "base_uri": "https://localhost:8080/",
          "height": 1000
        },
        "id": "9TmjZahxykw8",
        "outputId": "269f56dc-d419-4d2a-ddc1-10859ec676cb"
      },
      "source": [
        "query_and_report_similar_posts(example_3)"
      ],
      "execution_count": null,
      "outputs": [
        {
          "output_type": "error",
          "ename": "IndexError",
          "evalue": "ignored",
          "traceback": [
            "\u001b[0;31m---------------------------------------------------------------------------\u001b[0m",
            "\u001b[0;31mIndexError\u001b[0m                                Traceback (most recent call last)",
            "\u001b[0;32m/tmp/ipykernel_3440818/2029470251.py\u001b[0m in \u001b[0;36m<module>\u001b[0;34m\u001b[0m\n\u001b[0;32m----> 1\u001b[0;31m \u001b[0mquery_and_report_similar_posts\u001b[0m\u001b[0;34m(\u001b[0m\u001b[0mexample_3\u001b[0m\u001b[0;34m)\u001b[0m\u001b[0;34m\u001b[0m\u001b[0;34m\u001b[0m\u001b[0m\n\u001b[0m",
            "\u001b[0;32m/tmp/ipykernel_3440818/2615200592.py\u001b[0m in \u001b[0;36mquery_and_report_similar_posts\u001b[0;34m(query_text, N_max, Dictionary, TDIDF, Sims, ALL_IDs)\u001b[0m\n\u001b[1;32m    105\u001b[0m \u001b[0;31m# This method uses global variables\u001b[0m\u001b[0;34m\u001b[0m\u001b[0;34m\u001b[0m\u001b[0;34m\u001b[0m\u001b[0m\n\u001b[1;32m    106\u001b[0m \u001b[0;32mdef\u001b[0m \u001b[0mquery_and_report_similar_posts\u001b[0m\u001b[0;34m(\u001b[0m\u001b[0mquery_text\u001b[0m\u001b[0;34m,\u001b[0m \u001b[0mN_max\u001b[0m\u001b[0;34m=\u001b[0m\u001b[0;36m30\u001b[0m\u001b[0;34m,\u001b[0m \u001b[0mDictionary\u001b[0m\u001b[0;34m=\u001b[0m\u001b[0mDictionary\u001b[0m\u001b[0;34m,\u001b[0m \u001b[0mTDIDF\u001b[0m\u001b[0;34m=\u001b[0m\u001b[0mTDIDF\u001b[0m\u001b[0;34m,\u001b[0m \u001b[0mSims\u001b[0m\u001b[0;34m=\u001b[0m\u001b[0mSims\u001b[0m\u001b[0;34m,\u001b[0m \u001b[0mALL_IDs\u001b[0m\u001b[0;34m=\u001b[0m\u001b[0mALL_IDs\u001b[0m\u001b[0;34m)\u001b[0m\u001b[0;34m:\u001b[0m\u001b[0;34m\u001b[0m\u001b[0;34m\u001b[0m\u001b[0m\n\u001b[0;32m--> 107\u001b[0;31m     \u001b[0msimilarity_tuple\u001b[0m \u001b[0;34m=\u001b[0m \u001b[0mget_matched_post_ids\u001b[0m\u001b[0;34m(\u001b[0m\u001b[0mquery_text\u001b[0m\u001b[0;34m,\u001b[0m \u001b[0mN_max\u001b[0m\u001b[0;34m,\u001b[0m \u001b[0mDictionary\u001b[0m\u001b[0;34m,\u001b[0m \u001b[0mTDIDF\u001b[0m\u001b[0;34m,\u001b[0m \u001b[0mSims\u001b[0m\u001b[0;34m,\u001b[0m \u001b[0mALL_IDs\u001b[0m\u001b[0;34m)\u001b[0m\u001b[0;34m\u001b[0m\u001b[0;34m\u001b[0m\u001b[0m\n\u001b[0m\u001b[1;32m    108\u001b[0m     \u001b[0;31m# print(len(list(similarity_tuple)))\u001b[0m\u001b[0;34m\u001b[0m\u001b[0;34m\u001b[0m\u001b[0;34m\u001b[0m\u001b[0m\n\u001b[1;32m    109\u001b[0m \u001b[0;34m\u001b[0m\u001b[0m\n",
            "\u001b[0;32m/tmp/ipykernel_3440818/2615200592.py\u001b[0m in \u001b[0;36mget_matched_post_ids\u001b[0;34m(input, N, Dictionary, TDIDF, Sims, PostIds)\u001b[0m\n\u001b[1;32m     27\u001b[0m     \u001b[0;31m# perform a similarity query against the corpus\u001b[0m\u001b[0;34m\u001b[0m\u001b[0;34m\u001b[0m\u001b[0;34m\u001b[0m\u001b[0m\n\u001b[1;32m     28\u001b[0m     \u001b[0mquery_tf_idf\u001b[0m \u001b[0;34m=\u001b[0m \u001b[0mTDIDF\u001b[0m\u001b[0;34m[\u001b[0m\u001b[0mquery_bow\u001b[0m\u001b[0;34m]\u001b[0m\u001b[0;34m\u001b[0m\u001b[0;34m\u001b[0m\u001b[0m\n\u001b[0;32m---> 29\u001b[0;31m     \u001b[0mres\u001b[0m \u001b[0;34m=\u001b[0m \u001b[0mSims\u001b[0m\u001b[0;34m[\u001b[0m\u001b[0mquery_tf_idf\u001b[0m\u001b[0;34m]\u001b[0m\u001b[0;34m\u001b[0m\u001b[0;34m\u001b[0m\u001b[0m\n\u001b[0m\u001b[1;32m     30\u001b[0m     \u001b[0mindx\u001b[0m \u001b[0;34m=\u001b[0m \u001b[0mres\u001b[0m\u001b[0;34m.\u001b[0m\u001b[0margsort\u001b[0m\u001b[0;34m(\u001b[0m\u001b[0;34m)\u001b[0m\u001b[0;34m[\u001b[0m\u001b[0;34m-\u001b[0m\u001b[0mN\u001b[0m\u001b[0;34m:\u001b[0m\u001b[0;34m]\u001b[0m\u001b[0;34m[\u001b[0m\u001b[0;34m:\u001b[0m\u001b[0;34m:\u001b[0m\u001b[0;34m-\u001b[0m\u001b[0;36m1\u001b[0m\u001b[0;34m]\u001b[0m \u001b[0;31m# biggest matched Id first\u001b[0m\u001b[0;34m\u001b[0m\u001b[0;34m\u001b[0m\u001b[0m\n\u001b[1;32m     31\u001b[0m     \u001b[0msim_scores\u001b[0m \u001b[0;34m=\u001b[0m \u001b[0mres\u001b[0m\u001b[0;34m[\u001b[0m\u001b[0mindx\u001b[0m\u001b[0;34m]\u001b[0m \u001b[0;34m*\u001b[0m \u001b[0;36m100\u001b[0m\u001b[0;34m\u001b[0m\u001b[0;34m\u001b[0m\u001b[0m\n",
            "\u001b[0;32m~/.conda/envs/619_data/lib/python3.8/site-packages/gensim/similarities/docsim.py\u001b[0m in \u001b[0;36m__getitem__\u001b[0;34m(self, query)\u001b[0m\n\u001b[1;32m    549\u001b[0m             \u001b[0;31m# user asked for all documents => just stack the sub-results into a single matrix\u001b[0m\u001b[0;34m\u001b[0m\u001b[0;34m\u001b[0m\u001b[0;34m\u001b[0m\u001b[0m\n\u001b[1;32m    550\u001b[0m             \u001b[0;31m# (works for both corpus / single doc query)\u001b[0m\u001b[0;34m\u001b[0m\u001b[0;34m\u001b[0m\u001b[0;34m\u001b[0m\u001b[0m\n\u001b[0;32m--> 551\u001b[0;31m             \u001b[0mresult\u001b[0m \u001b[0;34m=\u001b[0m \u001b[0mnumpy\u001b[0m\u001b[0;34m.\u001b[0m\u001b[0mhstack\u001b[0m\u001b[0;34m(\u001b[0m\u001b[0mlist\u001b[0m\u001b[0;34m(\u001b[0m\u001b[0mshard_results\u001b[0m\u001b[0;34m)\u001b[0m\u001b[0;34m)\u001b[0m\u001b[0;34m\u001b[0m\u001b[0;34m\u001b[0m\u001b[0m\n\u001b[0m\u001b[1;32m    552\u001b[0m         \u001b[0;32melse\u001b[0m\u001b[0;34m:\u001b[0m\u001b[0;34m\u001b[0m\u001b[0;34m\u001b[0m\u001b[0m\n\u001b[1;32m    553\u001b[0m             \u001b[0;31m# the following uses a lot of lazy evaluation and (optionally) parallel\u001b[0m\u001b[0;34m\u001b[0m\u001b[0;34m\u001b[0m\u001b[0;34m\u001b[0m\u001b[0m\n",
            "\u001b[0;32m~/.conda/envs/619_data/lib/python3.8/site-packages/gensim/similarities/docsim.py\u001b[0m in \u001b[0;36mquery_shard\u001b[0;34m(args)\u001b[0m\n\u001b[1;32m    228\u001b[0m     \u001b[0mquery\u001b[0m\u001b[0;34m,\u001b[0m \u001b[0mshard\u001b[0m \u001b[0;34m=\u001b[0m \u001b[0margs\u001b[0m  \u001b[0;31m# simulate starmap (not part of multiprocessing in older Pythons)\u001b[0m\u001b[0;34m\u001b[0m\u001b[0;34m\u001b[0m\u001b[0m\n\u001b[1;32m    229\u001b[0m     \u001b[0mlogger\u001b[0m\u001b[0;34m.\u001b[0m\u001b[0mdebug\u001b[0m\u001b[0;34m(\u001b[0m\u001b[0;34m\"querying shard %s num_best=%s in process %s\"\u001b[0m\u001b[0;34m,\u001b[0m \u001b[0mshard\u001b[0m\u001b[0;34m,\u001b[0m \u001b[0mshard\u001b[0m\u001b[0;34m.\u001b[0m\u001b[0mnum_best\u001b[0m\u001b[0;34m,\u001b[0m \u001b[0mos\u001b[0m\u001b[0;34m.\u001b[0m\u001b[0mgetpid\u001b[0m\u001b[0;34m(\u001b[0m\u001b[0;34m)\u001b[0m\u001b[0;34m)\u001b[0m\u001b[0;34m\u001b[0m\u001b[0;34m\u001b[0m\u001b[0m\n\u001b[0;32m--> 230\u001b[0;31m     \u001b[0mresult\u001b[0m \u001b[0;34m=\u001b[0m \u001b[0mshard\u001b[0m\u001b[0;34m[\u001b[0m\u001b[0mquery\u001b[0m\u001b[0;34m]\u001b[0m\u001b[0;34m\u001b[0m\u001b[0;34m\u001b[0m\u001b[0m\n\u001b[0m\u001b[1;32m    231\u001b[0m     \u001b[0mlogger\u001b[0m\u001b[0;34m.\u001b[0m\u001b[0mdebug\u001b[0m\u001b[0;34m(\u001b[0m\u001b[0;34m\"finished querying shard %s in process %s\"\u001b[0m\u001b[0;34m,\u001b[0m \u001b[0mshard\u001b[0m\u001b[0;34m,\u001b[0m \u001b[0mos\u001b[0m\u001b[0;34m.\u001b[0m\u001b[0mgetpid\u001b[0m\u001b[0;34m(\u001b[0m\u001b[0;34m)\u001b[0m\u001b[0;34m)\u001b[0m\u001b[0;34m\u001b[0m\u001b[0;34m\u001b[0m\u001b[0m\n\u001b[1;32m    232\u001b[0m     \u001b[0;32mreturn\u001b[0m \u001b[0mresult\u001b[0m\u001b[0;34m\u001b[0m\u001b[0;34m\u001b[0m\u001b[0m\n",
            "\u001b[0;32m~/.conda/envs/619_data/lib/python3.8/site-packages/gensim/similarities/docsim.py\u001b[0m in \u001b[0;36m__getitem__\u001b[0;34m(self, query)\u001b[0m\n\u001b[1;32m    209\u001b[0m         \u001b[0;32mexcept\u001b[0m \u001b[0mException\u001b[0m\u001b[0;34m:\u001b[0m\u001b[0;34m\u001b[0m\u001b[0;34m\u001b[0m\u001b[0m\n\u001b[1;32m    210\u001b[0m             \u001b[0;32mraise\u001b[0m \u001b[0mValueError\u001b[0m\u001b[0;34m(\u001b[0m\u001b[0;34m\"num_best and normalize have to be set before querying a proxy Shard object\"\u001b[0m\u001b[0;34m)\u001b[0m\u001b[0;34m\u001b[0m\u001b[0;34m\u001b[0m\u001b[0m\n\u001b[0;32m--> 211\u001b[0;31m         \u001b[0;32mreturn\u001b[0m \u001b[0mindex\u001b[0m\u001b[0;34m[\u001b[0m\u001b[0mquery\u001b[0m\u001b[0;34m]\u001b[0m\u001b[0;34m\u001b[0m\u001b[0;34m\u001b[0m\u001b[0m\n\u001b[0m\u001b[1;32m    212\u001b[0m \u001b[0;34m\u001b[0m\u001b[0m\n\u001b[1;32m    213\u001b[0m \u001b[0;34m\u001b[0m\u001b[0m\n",
            "\u001b[0;32m~/.conda/envs/619_data/lib/python3.8/site-packages/gensim/interfaces.py\u001b[0m in \u001b[0;36m__getitem__\u001b[0;34m(self, query)\u001b[0m\n\u001b[1;32m    335\u001b[0m                 \u001b[0;32melse\u001b[0m\u001b[0;34m:\u001b[0m\u001b[0;34m\u001b[0m\u001b[0;34m\u001b[0m\u001b[0m\n\u001b[1;32m    336\u001b[0m                     \u001b[0mquery\u001b[0m \u001b[0;34m=\u001b[0m \u001b[0mmatutils\u001b[0m\u001b[0;34m.\u001b[0m\u001b[0munitvec\u001b[0m\u001b[0;34m(\u001b[0m\u001b[0mquery\u001b[0m\u001b[0;34m)\u001b[0m\u001b[0;34m\u001b[0m\u001b[0;34m\u001b[0m\u001b[0m\n\u001b[0;32m--> 337\u001b[0;31m         \u001b[0mresult\u001b[0m \u001b[0;34m=\u001b[0m \u001b[0mself\u001b[0m\u001b[0;34m.\u001b[0m\u001b[0mget_similarities\u001b[0m\u001b[0;34m(\u001b[0m\u001b[0mquery\u001b[0m\u001b[0;34m)\u001b[0m\u001b[0;34m\u001b[0m\u001b[0;34m\u001b[0m\u001b[0m\n\u001b[0m\u001b[1;32m    338\u001b[0m \u001b[0;34m\u001b[0m\u001b[0m\n\u001b[1;32m    339\u001b[0m         \u001b[0;32mif\u001b[0m \u001b[0mself\u001b[0m\u001b[0;34m.\u001b[0m\u001b[0mnum_best\u001b[0m \u001b[0;32mis\u001b[0m \u001b[0;32mNone\u001b[0m\u001b[0;34m:\u001b[0m\u001b[0;34m\u001b[0m\u001b[0;34m\u001b[0m\u001b[0m\n",
            "\u001b[0;32m~/.conda/envs/619_data/lib/python3.8/site-packages/gensim/similarities/docsim.py\u001b[0m in \u001b[0;36mget_similarities\u001b[0;34m(self, query)\u001b[0m\n\u001b[1;32m    868\u001b[0m             \u001b[0;32melse\u001b[0m\u001b[0;34m:\u001b[0m\u001b[0;34m\u001b[0m\u001b[0;34m\u001b[0m\u001b[0m\n\u001b[1;32m    869\u001b[0m                 \u001b[0;31m# default case: query is a single vector in sparse gensim format\u001b[0m\u001b[0;34m\u001b[0m\u001b[0;34m\u001b[0m\u001b[0;34m\u001b[0m\u001b[0m\n\u001b[0;32m--> 870\u001b[0;31m                 \u001b[0mquery\u001b[0m \u001b[0;34m=\u001b[0m \u001b[0mmatutils\u001b[0m\u001b[0;34m.\u001b[0m\u001b[0msparse2full\u001b[0m\u001b[0;34m(\u001b[0m\u001b[0mquery\u001b[0m\u001b[0;34m,\u001b[0m \u001b[0mself\u001b[0m\u001b[0;34m.\u001b[0m\u001b[0mnum_features\u001b[0m\u001b[0;34m)\u001b[0m\u001b[0;34m\u001b[0m\u001b[0;34m\u001b[0m\u001b[0m\n\u001b[0m\u001b[1;32m    871\u001b[0m             \u001b[0mquery\u001b[0m \u001b[0;34m=\u001b[0m \u001b[0mnumpy\u001b[0m\u001b[0;34m.\u001b[0m\u001b[0masarray\u001b[0m\u001b[0;34m(\u001b[0m\u001b[0mquery\u001b[0m\u001b[0;34m,\u001b[0m \u001b[0mdtype\u001b[0m\u001b[0;34m=\u001b[0m\u001b[0mself\u001b[0m\u001b[0;34m.\u001b[0m\u001b[0mindex\u001b[0m\u001b[0;34m.\u001b[0m\u001b[0mdtype\u001b[0m\u001b[0;34m)\u001b[0m\u001b[0;34m\u001b[0m\u001b[0;34m\u001b[0m\u001b[0m\n\u001b[1;32m    872\u001b[0m \u001b[0;34m\u001b[0m\u001b[0m\n",
            "\u001b[0;32m~/.conda/envs/619_data/lib/python3.8/site-packages/gensim/matutils.py\u001b[0m in \u001b[0;36msparse2full\u001b[0;34m(doc, length)\u001b[0m\n\u001b[1;32m    396\u001b[0m     \u001b[0mdoc\u001b[0m \u001b[0;34m=\u001b[0m \u001b[0mdict\u001b[0m\u001b[0;34m(\u001b[0m\u001b[0mdoc\u001b[0m\u001b[0;34m)\u001b[0m\u001b[0;34m\u001b[0m\u001b[0;34m\u001b[0m\u001b[0m\n\u001b[1;32m    397\u001b[0m     \u001b[0;31m# overwrite some of the zeroes with explicit values\u001b[0m\u001b[0;34m\u001b[0m\u001b[0;34m\u001b[0m\u001b[0;34m\u001b[0m\u001b[0m\n\u001b[0;32m--> 398\u001b[0;31m     \u001b[0mresult\u001b[0m\u001b[0;34m[\u001b[0m\u001b[0mlist\u001b[0m\u001b[0;34m(\u001b[0m\u001b[0mdoc\u001b[0m\u001b[0;34m)\u001b[0m\u001b[0;34m]\u001b[0m \u001b[0;34m=\u001b[0m \u001b[0mlist\u001b[0m\u001b[0;34m(\u001b[0m\u001b[0mdoc\u001b[0m\u001b[0;34m.\u001b[0m\u001b[0mvalues\u001b[0m\u001b[0;34m(\u001b[0m\u001b[0;34m)\u001b[0m\u001b[0;34m)\u001b[0m\u001b[0;34m\u001b[0m\u001b[0;34m\u001b[0m\u001b[0m\n\u001b[0m\u001b[1;32m    399\u001b[0m     \u001b[0;32mreturn\u001b[0m \u001b[0mresult\u001b[0m\u001b[0;34m\u001b[0m\u001b[0;34m\u001b[0m\u001b[0m\n\u001b[1;32m    400\u001b[0m \u001b[0;34m\u001b[0m\u001b[0m\n",
            "\u001b[0;31mIndexError\u001b[0m: index 27 is out of bounds for axis 0 with size 27"
          ]
        },
        {
          "output_type": "stream",
          "name": "stdout",
          "text": [
            "time: 3.65 s\n"
          ]
        }
      ]
    },
    {
      "cell_type": "code",
      "metadata": {
        "id": "RvADp1Fvrxf2"
      },
      "source": [
        "\n",
        "\n",
        "# N_max = 30\n",
        "# N_res = 5\n",
        "\n",
        "# post_ids, similarities = get_matched_post_ids(example_1, N_max, Dictionary, TDIDF, Sims, ALL_IDs)\n",
        "# question_ranks = get_post_ranking(post_ids, DF_metadata)\n",
        "# print(question_ranks)\n",
        "# # print(question_ranks.keys())\n",
        "\n",
        "# # urls = renerate_results(question_ranks.keys(), \"serverfault\", DF_metadata)\n",
        "# urls = renerate_results(question_ranks.keys(), \"stackoverflow\", DF_metadata)\n",
        "# for url in urls:\n",
        "#     print(url)"
      ],
      "execution_count": null,
      "outputs": []
    },
    {
      "cell_type": "markdown",
      "metadata": {
        "id": "dEYEWXd75r1d"
      },
      "source": [
        "#### experiments\n"
      ]
    },
    {
      "cell_type": "code",
      "metadata": {
        "id": "89E8IeXEGcH2"
      },
      "source": [
        ""
      ],
      "execution_count": null,
      "outputs": []
    },
    {
      "cell_type": "code",
      "metadata": {
        "id": "kGa_Km8vGX59"
      },
      "source": [
        ""
      ],
      "execution_count": null,
      "outputs": []
    },
    {
      "cell_type": "code",
      "metadata": {
        "colab": {
          "base_uri": "https://localhost:8080/"
        },
        "id": "0LWop9Ojj4ZV",
        "outputId": "b7461a18-2708-42b1-ea89-4cf4eddf1814"
      },
      "source": [
        "question_ranks = get_post_ranking(post_ids, DF_metadata)\n",
        "print(question_ranks)\n",
        "print(question_ranks.keys())\n",
        "\n",
        "urls = get_urls(question_ranks.keys(), \"serverfault\")\n",
        "print(urls)"
      ],
      "execution_count": null,
      "outputs": [
        {
          "output_type": "stream",
          "name": "stdout",
          "text": [
            "{538922: 22.0, 962011: 20.0, 449564: 15.0, 446: 14.5, 442821: 14.0, 547123: 13.5, 218078: 13.0, 93182: 12.5, 173958: 12.0, 24130: 11.5, 109067: 10.5, 911754: 9.5, 230271: 9.0, 99433: 8.5, 390144: 8.0, 6128: 7.5, 425296: 7.0, 188956: 6.5, 94014: 6.0, 69114: 6.0, 153876: 5.5, 90481: 5.0, 511115: 4.5, 9646: 4.5, 790114: 4.0, 1008185: 3.5, 959084: 3.0, 48031: 1.5, 146485: 1.0}\n",
            "dict_keys([538922, 962011, 449564, 446, 442821, 547123, 218078, 93182, 173958, 24130, 109067, 911754, 230271, 99433, 390144, 6128, 425296, 188956, 94014, 69114, 153876, 90481, 511115, 9646, 790114, 1008185, 959084, 48031, 146485])\n",
            "['https://serverfault.com/q/538922', 'https://serverfault.com/q/962011', 'https://serverfault.com/q/449564', 'https://serverfault.com/q/446', 'https://serverfault.com/q/442821', 'https://serverfault.com/q/547123', 'https://serverfault.com/q/218078', 'https://serverfault.com/q/93182', 'https://serverfault.com/q/173958', 'https://serverfault.com/q/24130', 'https://serverfault.com/q/109067', 'https://serverfault.com/q/911754', 'https://serverfault.com/q/230271', 'https://serverfault.com/q/99433', 'https://serverfault.com/q/390144', 'https://serverfault.com/q/6128', 'https://serverfault.com/q/425296', 'https://serverfault.com/q/188956', 'https://serverfault.com/q/94014', 'https://serverfault.com/q/69114', 'https://serverfault.com/q/153876', 'https://serverfault.com/q/90481', 'https://serverfault.com/q/511115', 'https://serverfault.com/q/9646', 'https://serverfault.com/q/790114', 'https://serverfault.com/q/1008185', 'https://serverfault.com/q/959084', 'https://serverfault.com/q/48031', 'https://serverfault.com/q/146485']\n",
            "time: 40.3 ms (started: 2021-10-25 12:17:41 -06:00)\n"
          ]
        }
      ]
    },
    {
      "cell_type": "code",
      "metadata": {
        "colab": {
          "base_uri": "https://localhost:8080/"
        },
        "id": "d9p3aWlfKVWI",
        "outputId": "1b08dd62-7883-4dcb-a6f4-d6707c1e3e6e"
      },
      "source": [
        "res = Sims[query_tf_idf]\n",
        "print(len(res))\n",
        "print(type(res))\n"
      ],
      "execution_count": null,
      "outputs": [
        {
          "output_type": "stream",
          "name": "stdout",
          "text": [
            "322719\n",
            "<class 'numpy.ndarray'>\n",
            "time: 56.3 ms (started: 2021-10-20 18:04:27 -06:00)\n"
          ]
        }
      ]
    },
    {
      "cell_type": "code",
      "metadata": {
        "id": "m6CBB2mUMV_O"
      },
      "source": [
        "for i in idx:\n",
        "    print(ALL_CODE_SEGMENTS[i])\n",
        "    print(\"*\" * 20)\n",
        "    # break"
      ],
      "execution_count": null,
      "outputs": []
    },
    {
      "cell_type": "code",
      "metadata": {
        "id": "evlbVCDAHeNz"
      },
      "source": [
        "print(ALL_CODE_SEGMENTS[7])"
      ],
      "execution_count": null,
      "outputs": []
    },
    {
      "cell_type": "markdown",
      "metadata": {
        "id": "pUqPZvtsSZsc"
      },
      "source": [
        "#### Examples"
      ]
    },
    {
      "cell_type": "code",
      "metadata": {
        "colab": {
          "base_uri": "https://localhost:8080/"
        },
        "id": "I3XZa_h6xwJ4",
        "outputId": "80b26301-6eb3-4bfd-9fdb-976321528674"
      },
      "source": [
        "err_test = '''ModuleNotFoundError                       Traceback (most recent call last)\n",
        "<ipython-input-68-e2bb30455e63> in <module>\n",
        "     24 import matplotlib.pyplot as plt\n",
        "     25 get_ipython().run_line_magic('config', 'Completer.use_jedi = False')\n",
        "---> 26 from bs4 import BeautifulSoup\n",
        "     27 import nltk\n",
        "\n",
        "ModuleNotFoundError: No module named 'bs4'\n",
        "'''"
      ],
      "execution_count": null,
      "outputs": [
        {
          "output_type": "stream",
          "name": "stdout",
          "text": [
            "time: 343 µs (started: 2021-10-20 17:27:01 -06:00)\n"
          ]
        }
      ]
    },
    {
      "cell_type": "markdown",
      "metadata": {
        "id": "NAn5XFPTD_nF"
      },
      "source": [
        "### Text Summarization"
      ]
    },
    {
      "cell_type": "code",
      "metadata": {
        "id": "SXNHBSlhQrBR"
      },
      "source": [
        "!pip install ipython-autotime\n",
        "%load_ext autotime"
      ],
      "execution_count": null,
      "outputs": []
    },
    {
      "cell_type": "code",
      "metadata": {
        "id": "xjvSYmVyGq6S"
      },
      "source": [
        "!pip install bert-extractive-summarizer"
      ],
      "execution_count": null,
      "outputs": []
    },
    {
      "cell_type": "code",
      "metadata": {
        "id": "aOd6wKuO2AUh"
      },
      "source": [
        "from summarizer import Summarizer,TransformerSummarizer"
      ],
      "execution_count": null,
      "outputs": []
    },
    {
      "cell_type": "code",
      "metadata": {
        "id": "xxM4jjeCGkB_"
      },
      "source": [
        "body = '''\n",
        "       Scientists say they have discovered a new species of orangutans on Indonesia’s island of Sumatra.\n",
        "The population differs in several ways from the two existing orangutan species found in Sumatra and the neighboring island of Borneo.\n",
        "The orangutans were found inside North Sumatra’s Batang Toru forest, the science publication Current Biology reported.\n",
        "Researchers named the new species the Tapanuli orangutan. They say the animals are considered a new species because of genetic, skeletal and tooth differences.\n",
        "Michael Kruetzen is a geneticist with the University of Zurich who has studied the orangutans for several years. He said he was excited to be part of the unusual discovery of a new great ape in the present day. He noted that most great apes are currently considered endangered or severely endangered.\n",
        "Gorillas, chimpanzees and bonobos also belong to the great ape species.\n",
        "Orangutan – which means person of the forest in the Indonesian and Malay languages - is the world’s biggest tree-living mammal. The orange-haired animals can move easily among the trees because their arms are longer than their legs. They live more lonely lives than other great apes, spending a lot of time sleeping and eating fruit in the forest.\n",
        "The new study said fewer than 800 of the newly-described orangutans exist. Their low numbers make the group the most endangered of all the great ape species.\n",
        "They live within an area covering about 1,000 square kilometers. The population is considered highly vulnerable. That is because the environment which they depend on is greatly threatened by development.\n",
        "Researchers say if steps are not taken quickly to reduce the current and future threats, the new species could become extinct “within our lifetime.”\n",
        "Research into the new species began in 2013, when an orangutan protection group in Sumatra found an injured orangutan in an area far away from the other species. The adult male orangutan had been beaten by local villagers and died of his injuries. The complete skull was examined by researchers.\n",
        "Among the physical differences of the new species are a notably smaller head and frizzier hair. The Tapanuli orangutans also have a different diet and are found only in higher forest areas.\n",
        "There is no unified international system for recognizing new species. But to be considered, discovery claims at least require publication in a major scientific publication.\n",
        "Russell Mittermeier is head of the primate specialist group at the International Union for the Conservation of Nature. He called the finding a “remarkable discovery.” He said it puts responsibility on the Indonesian government to help the species survive.\n",
        "Matthew Nowak is one of the writers of the study. He told the Associated Press that there are three groups of the Tapanuli orangutans that are separated by non-protected land.He said forest land needs to connect the separated groups.\n",
        "In addition, the writers of the study are recommending that plans for a hydropower center in the area be stopped by the government.\n",
        "It also recommended that remaining forest in the Sumatran area where the orangutans live be protected.\n",
        "I’m Bryan Lynn.\n",
        "\n",
        "        '''\n",
        "\n",
        "body2 = '''I've got some hobby servos and I'd like to be able to control them (via an Arduino) so they will either go to the angle I set, or put them in a 'free running' mode, where the load will take them wherever it goes.</p>\n",
        "Is this even possible, or am I just going to end up stripping the gears?\n",
        "My first thought is to simply kill the power to the servo, but the force required to move them in that state is more than I'd like.\n",
        "If it is possible, am I looking at a hardware change, or could I do it in software?\n",
        "Can these be improved, or can their relative pros and cons be altered, and are there other gaits worth considering?'''\n",
        "\n",
        "body3 = ''' Your ModelForm save() method is throwing away the return value of the superclass save. You need to return it, eg.\n",
        "As a general rule: If you know for SURE that a method you are overriding never returns anything, then you don't have to worry about returning anything. But if there's any chance that a method you are overriding could return something useful (now or in the future), then play it safe and return whatever they return. It'll save you a lot of headaches later on.\n",
        "\n",
        "One thing to think about here, is that you have a small race condition, where if two people order within a few milliseconds of each other, it is possible that you could end up thinking that you have enough stock because customer #1 checked the stock.. it was ok.. then customer #2 checks the stock before customer #1's order was saved. This would cause both orders to be saved when there may be only enough stock for the first order.\n",
        "'''"
      ],
      "execution_count": null,
      "outputs": []
    },
    {
      "cell_type": "code",
      "metadata": {
        "colab": {
          "base_uri": "https://localhost:8080/",
          "height": 247,
          "referenced_widgets": [
            "4bebcc1eca06449cb28f47a8d237a39f",
            "26fdafdfee774ba9bf8c2387b68149f4",
            "5ad31da1399c4c80aff2fa000d34022f",
            "fe23a0a39a4146689a8418d58a9e728f",
            "b79e2ddfe693472b8207f2502255fc3b",
            "664882ae16c34f4aae8353c3cd539eed",
            "a4d2c30d6abf4862b3dcfa06bbe9ba18",
            "806329627f9f49988297a75147823b70",
            "f7ecccaf19074fc4bfb684b82fc12580",
            "bd4e954afab44fa08ff84051c8076019",
            "40586c839c6043578a0ad90065d40462",
            "0f0583d077384f8b84615d8f30379c3b",
            "1f8f8465d55a4f29a181808e39250b1c",
            "5115eeb56206491080d182f0b23e9cd4",
            "429b330ada8845efa6fcfabd9426d464",
            "2bebeb28762c4424af73fd6c8a0a42be",
            "861b9e6458f447b596def3a7c700707d",
            "95cd3acacc2f4807a6085380ac289f24",
            "d9cebbf293744bbda297a18c1379bb20",
            "7b01fd89c03845138ce6d73a25c81528",
            "f016d5ddc18443c9b247ff5a32bd5474",
            "d6f169b4cd2442d09771808ad8aad041",
            "175da46e6d1444b3941d2453665995ef",
            "73e6ff6cde004cf3aaeff97f8964acb3",
            "38c813c946ed4c21a185e7b354029622",
            "d6fb1c71ba094b5385d943fb55e419df",
            "6440aab4be634e60b8ab0c12f9191450",
            "4c6472c9b1f8489ba0ae5acd0ff07e1a",
            "c7382f5db69444e7bc07dcdce9d372dc",
            "dedce33f603e45ad822d35f61ef68279",
            "36035207f637467680f890706aff5f00",
            "aebd402b4d80406b81b8edf8123615a9",
            "d4a0f8a1a61a401a87d9e23437ff1a33",
            "07f5ab050c5d40ddb5290dbaeb4119db",
            "fe821a1f26484e8c92a08dcdde5e5d16",
            "f3dac3a799c34aad8bc3533f05e9e5c8",
            "1f9042054bc143969ff396709946952b",
            "47ec17ffe9c64fa29661a3cc331237d0",
            "6e3c5d5268aa46bf971d16953b1adc94",
            "f54506fa85fc4db18f467144854638c8",
            "628330674b1c45188ffe3b55c52d9b51",
            "49b06f5ec14e4adbaeb29dd032d53a6d",
            "78bdcfd15f634bbb8a663a5e771abba8",
            "44b2d6caec6d4f2e8c98534eb157f799",
            "97e24e6792514782a6607d09feb63f24",
            "31f72a7ee1044007b5343abbe0130d0b",
            "840e995268f54762897d4e29db7616b4",
            "ff60903ea9c94dcdad512d564f00ba16",
            "92e23125ba694f5eb15412220e34993e",
            "09a9221d74d142c3ad338b27e13700d4",
            "72f9a6ada00545ea920a21d24e6b09bc",
            "4d651a817daf4ea4a433ca6a35d12fcc",
            "d6fb2cab27cd43ebbbf800d6ac432718",
            "ada749fd63d042d79c83702c7b073652",
            "ea6d53a4ba6346eb9046814b3f96ad9d"
          ]
        },
        "id": "5qIOw3PjRpQP",
        "outputId": "ac22699c-80a8-414e-e1cd-d0bd16247a99"
      },
      "source": [
        "bert_model = Summarizer()"
      ],
      "execution_count": null,
      "outputs": [
        {
          "output_type": "display_data",
          "data": {
            "text/plain": [
              "Downloading:   0%|          | 0.00/571 [00:00<?, ?B/s]"
            ],
            "application/vnd.jupyter.widget-view+json": {
              "version_major": 2,
              "version_minor": 0,
              "model_id": "4bebcc1eca06449cb28f47a8d237a39f"
            }
          },
          "metadata": {}
        },
        {
          "output_type": "display_data",
          "data": {
            "text/plain": [
              "Downloading:   0%|          | 0.00/1.25G [00:00<?, ?B/s]"
            ],
            "application/vnd.jupyter.widget-view+json": {
              "version_major": 2,
              "version_minor": 0,
              "model_id": "0f0583d077384f8b84615d8f30379c3b"
            }
          },
          "metadata": {}
        },
        {
          "output_type": "stream",
          "name": "stderr",
          "text": [
            "Some weights of the model checkpoint at bert-large-uncased were not used when initializing BertModel: ['cls.seq_relationship.weight', 'cls.predictions.bias', 'cls.predictions.transform.LayerNorm.bias', 'cls.seq_relationship.bias', 'cls.predictions.transform.LayerNorm.weight', 'cls.predictions.decoder.weight', 'cls.predictions.transform.dense.bias', 'cls.predictions.transform.dense.weight']\n",
            "- This IS expected if you are initializing BertModel from the checkpoint of a model trained on another task or with another architecture (e.g. initializing a BertForSequenceClassification model from a BertForPreTraining model).\n",
            "- This IS NOT expected if you are initializing BertModel from the checkpoint of a model that you expect to be exactly identical (initializing a BertForSequenceClassification model from a BertForSequenceClassification model).\n"
          ]
        },
        {
          "output_type": "display_data",
          "data": {
            "text/plain": [
              "Downloading:   0%|          | 0.00/226k [00:00<?, ?B/s]"
            ],
            "application/vnd.jupyter.widget-view+json": {
              "version_major": 2,
              "version_minor": 0,
              "model_id": "175da46e6d1444b3941d2453665995ef"
            }
          },
          "metadata": {}
        },
        {
          "output_type": "display_data",
          "data": {
            "text/plain": [
              "Downloading:   0%|          | 0.00/28.0 [00:00<?, ?B/s]"
            ],
            "application/vnd.jupyter.widget-view+json": {
              "version_major": 2,
              "version_minor": 0,
              "model_id": "07f5ab050c5d40ddb5290dbaeb4119db"
            }
          },
          "metadata": {}
        },
        {
          "output_type": "display_data",
          "data": {
            "text/plain": [
              "Downloading:   0%|          | 0.00/455k [00:00<?, ?B/s]"
            ],
            "application/vnd.jupyter.widget-view+json": {
              "version_major": 2,
              "version_minor": 0,
              "model_id": "97e24e6792514782a6607d09feb63f24"
            }
          },
          "metadata": {}
        }
      ]
    },
    {
      "cell_type": "code",
      "metadata": {
        "colab": {
          "base_uri": "https://localhost:8080/"
        },
        "id": "FkjBvQTDG2E-",
        "outputId": "2de97c99-1e60-475c-bd9c-587d5be02914"
      },
      "source": [
        "bert_summary = ''.join(bert_model(body3, min_length=50))\n",
        "print(len(bert_summary))"
      ],
      "execution_count": null,
      "outputs": [
        {
          "output_type": "stream",
          "name": "stdout",
          "text": [
            "250\n"
          ]
        }
      ]
    },
    {
      "cell_type": "code",
      "metadata": {
        "colab": {
          "base_uri": "https://localhost:8080/"
        },
        "id": "b5ueawF6G6O5",
        "outputId": "428c7612-589a-4fe2-f296-06d1e24c6740"
      },
      "source": [
        "print(bert_summary)\n"
      ],
      "execution_count": null,
      "outputs": [
        {
          "output_type": "stream",
          "name": "stdout",
          "text": [
            "Your ModelForm save() method is throwing away the return value of the superclass save. But if there's any chance that a method you are overriding could return something useful (now or in the future), then play it safe and return whatever they return.\n"
          ]
        }
      ]
    },
    {
      "cell_type": "code",
      "metadata": {
        "colab": {
          "base_uri": "https://localhost:8080/",
          "height": 177,
          "referenced_widgets": [
            "ea4d5be3e07140df8861d5012f0c6f98",
            "f685d8682b514d47a0c943cf872ad4eb",
            "7230674f91174693b1ca236a8194a6f5",
            "2484d2cf8aaa4e998116d4fd5806c947",
            "a8adcdabd782447ab7fae08da96c999e",
            "d0f030f65f44422ebd64be1f3431fcdd",
            "7afa581c3efc48309a9b762f6145b5c0",
            "2a3f71b91fcf491198355ddaea270f79",
            "c0fb8dd3603b42df978a638cd56cc998",
            "20c65cd2ec1f4e6faa123b1c37ec39f4",
            "4ee4dbd08b5d45aebdb01b9abd74f5e5",
            "05760ff558384d3eabf523a21391d1c1",
            "02f5e6c8239640d9949677caf8741ae5",
            "165118b8f01547f7a35340f8da78e710",
            "c30fc261d3ee4c3cb088772c1b12c3c8",
            "0bcaef1916b44eb9ad922dc9fe6ba164",
            "0ab4ff0e8d10425eb59a17a68596c37f",
            "6b43e9b95a164ee3970ab888e0412622",
            "e4c2a502668a498887aa79a81015e0c4",
            "e0ddeb27213641dd8ab5d08be88a37b9",
            "f69bdcd952274f90b7a8e9182a74c073",
            "912d01422ce64e83a77b08bbf122e336",
            "6fce8b931d9a464fa7ce0ab2c181235d",
            "523041845d914d7c80374d0e2c80e553",
            "ce02b9f1ae734573adfc12541d1e99c5",
            "d395aea00fb7461498b31b7209eaf7e7",
            "5b39b1069d3e4f9fa2fd314045340390",
            "b126a84c5e4141fea2590ad90135ace2",
            "3c6217cc85af41e591de13e2fecda308",
            "a27425d8d23744bfaf9d4e6e6514e55e",
            "ae7c5aa734f14f36809f6b7b41d2a4c0",
            "f8289049a305492b8de97dd04670f72b",
            "a70d2933041f4016a9cb843dfb4245f3",
            "1d4ddde620d94aa480a26a56ccd7bf8d",
            "7209469e3c584503b27d5a2d3742ec2a",
            "e1a242f78e1843499a7b033eade92e7e",
            "344fd5e1acb94c189a645f7f0d2afd5f",
            "2de0a65306674780a78ec2c2ee97a6d3",
            "25b61cf80c504848b3302cc0fdf079f7",
            "f855edb4ebf042a58ec9c85186668bec",
            "232615f0c1b14fc2b0640700105d5a46",
            "9efe9bbd769041e1ba46c5e2d6891c17",
            "854e0c1fd11f4cab8400cb07d3f19adc",
            "824a17036d42467788c527ad6e2a0f12",
            "7d5177ac139d40e6a6e1d3890213d118",
            "fb1b83d297b94268b4b9ed541861f891",
            "17c5d647974c407ba5a4b3d0f3bccad1",
            "061f0d4de50249b79897558592feb0a9",
            "bc99239818ec4a4b86276f2ddb85aac4",
            "95dda3d435684b61a398439aced5f64c",
            "fbbd810c3a0a4f80836d2a5c71fc1b6d",
            "6e89228014bd4083899da75b4cd7a6fb",
            "592742edecfa4aeaa2eebfd3cf5db2c5",
            "fbfeae8ba58b49fa8bd5d335b943f708",
            "6ecd31145ad34d3da4532f051f033ac7"
          ]
        },
        "id": "4KPnAIiORr_G",
        "outputId": "dfaa474e-3954-4fd5-cc98-0ee7c07ef992"
      },
      "source": [
        "GPT2_model = TransformerSummarizer(transformer_type=\"GPT2\",transformer_model_key=\"gpt2-medium\")"
      ],
      "execution_count": null,
      "outputs": [
        {
          "output_type": "display_data",
          "data": {
            "text/plain": [
              "Downloading:   0%|          | 0.00/718 [00:00<?, ?B/s]"
            ],
            "application/vnd.jupyter.widget-view+json": {
              "version_major": 2,
              "version_minor": 0,
              "model_id": "ea4d5be3e07140df8861d5012f0c6f98"
            }
          },
          "metadata": {}
        },
        {
          "output_type": "display_data",
          "data": {
            "text/plain": [
              "Downloading:   0%|          | 0.00/1.42G [00:00<?, ?B/s]"
            ],
            "application/vnd.jupyter.widget-view+json": {
              "version_major": 2,
              "version_minor": 0,
              "model_id": "05760ff558384d3eabf523a21391d1c1"
            }
          },
          "metadata": {}
        },
        {
          "output_type": "display_data",
          "data": {
            "text/plain": [
              "Downloading:   0%|          | 0.00/0.99M [00:00<?, ?B/s]"
            ],
            "application/vnd.jupyter.widget-view+json": {
              "version_major": 2,
              "version_minor": 0,
              "model_id": "6fce8b931d9a464fa7ce0ab2c181235d"
            }
          },
          "metadata": {}
        },
        {
          "output_type": "display_data",
          "data": {
            "text/plain": [
              "Downloading:   0%|          | 0.00/446k [00:00<?, ?B/s]"
            ],
            "application/vnd.jupyter.widget-view+json": {
              "version_major": 2,
              "version_minor": 0,
              "model_id": "1d4ddde620d94aa480a26a56ccd7bf8d"
            }
          },
          "metadata": {}
        },
        {
          "output_type": "display_data",
          "data": {
            "text/plain": [
              "Downloading:   0%|          | 0.00/1.29M [00:00<?, ?B/s]"
            ],
            "application/vnd.jupyter.widget-view+json": {
              "version_major": 2,
              "version_minor": 0,
              "model_id": "7d5177ac139d40e6a6e1d3890213d118"
            }
          },
          "metadata": {}
        }
      ]
    },
    {
      "cell_type": "code",
      "metadata": {
        "colab": {
          "base_uri": "https://localhost:8080/"
        },
        "id": "jZ9BtzEkIGIi",
        "outputId": "27019137-8595-4369-abeb-ac0fcc80ae48"
      },
      "source": [
        "full = ''.join(GPT2_model(body3, min_length=60))\n",
        "print(full)"
      ],
      "execution_count": null,
      "outputs": [
        {
          "output_type": "stream",
          "name": "stdout",
          "text": [
            "Your ModelForm save() method is throwing away the return value of the superclass save. But if there's any chance that a method you are overriding could return something useful (now or in the future), then play it safe and return whatever they return.\n"
          ]
        }
      ]
    },
    {
      "cell_type": "markdown",
      "metadata": {
        "id": "aKbshYXF_vj0"
      },
      "source": [
        "#### Stackexchange dataset"
      ]
    },
    {
      "cell_type": "code",
      "metadata": {
        "colab": {
          "base_uri": "https://localhost:8080/"
        },
        "id": "_6kccZbxOjaf",
        "outputId": "fe9ff4e9-8902-4258-c2a3-3832f1db6d2e"
      },
      "source": [
        "print(len(ALL_IDs))\n",
        "print(ALL_IDs[:10])"
      ],
      "execution_count": null,
      "outputs": [
        {
          "output_type": "stream",
          "name": "stdout",
          "text": [
            "322719\n",
            "[1, 12, 60, 69, 104, 107, 157, 203, 277, 284]\n",
            "time: 1.12 ms\n"
          ]
        }
      ]
    },
    {
      "cell_type": "code",
      "metadata": {
        "colab": {
          "base_uri": "https://localhost:8080/"
        },
        "id": "hHRvpZ6rCaCT",
        "outputId": "6e3ad775-4999-4da6-c761-9e0032c8fa11"
      },
      "source": [
        "# file_name = \"/work/disa_lab/Alamin/SOTorrent/serverfault/Posts.csv\"\n",
        "# file_name = \"/work/disa_lab/Alamin/SOTorrent/SO/Posts_code.csv\"\n",
        "df_all = pd.read_csv(file_name)\n",
        "print(len(df_all))"
      ],
      "execution_count": null,
      "outputs": [
        {
          "output_type": "stream",
          "name": "stdout",
          "text": [
            "33623758\n",
            "time: 3min 43s\n"
          ]
        }
      ]
    },
    {
      "cell_type": "code",
      "metadata": {
        "colab": {
          "base_uri": "https://localhost:8080/"
        },
        "id": "mf_c7dxDFLDi",
        "outputId": "9cf98a60-cc4a-41cf-9837-00d4d3a95fe6"
      },
      "source": [
        "df_all.dtypes"
      ],
      "execution_count": null,
      "outputs": [
        {
          "output_type": "execute_result",
          "data": {
            "text/plain": [
              "Id       int64\n",
              "code    object\n",
              "dtype: object"
            ]
          },
          "metadata": {},
          "execution_count": 24
        },
        {
          "output_type": "stream",
          "name": "stdout",
          "text": [
            "time: 6.34 ms\n"
          ]
        }
      ]
    },
    {
      "cell_type": "code",
      "metadata": {
        "id": "tVZyIox-Ed7t"
      },
      "source": [
        "def get_question_meta_information(df, question_id):\n",
        "    ques = df[df['Id'] == str(question_id)].iloc[0]\n",
        "    return ques\n",
        "question = get_question_meta_information(df_all, 630453)\n",
        "print(question)"
      ],
      "execution_count": null,
      "outputs": []
    },
    {
      "cell_type": "code",
      "metadata": {
        "colab": {
          "base_uri": "https://localhost:8080/"
        },
        "id": "ghm_-MDICv2j",
        "outputId": "f79ec5ad-b079-4a4e-ea64-decc6b56e5d8"
      },
      "source": [
        "print(len(df_all))"
      ],
      "execution_count": null,
      "outputs": [
        {
          "output_type": "stream",
          "name": "stdout",
          "text": [
            "791818\n",
            "time: 1.15 ms\n"
          ]
        }
      ]
    },
    {
      "cell_type": "markdown",
      "metadata": {
        "id": "Z5Xneb6L5LUc"
      },
      "source": [
        "### Error generation"
      ]
    },
    {
      "cell_type": "markdown",
      "metadata": {
        "id": "wt_CJeDY6nwk"
      },
      "source": [
        "#### Error 1"
      ]
    },
    {
      "cell_type": "code",
      "metadata": {
        "colab": {
          "base_uri": "https://localhost:8080/",
          "height": 162
        },
        "id": "nNPiDwycC1hS",
        "outputId": "bb5c37b0-1814-4857-e144-c5f2fdf5fd4a"
      },
      "source": [
        "import dask\n"
      ],
      "execution_count": null,
      "outputs": [
        {
          "output_type": "error",
          "ename": "ModuleNotFoundError",
          "evalue": "ignored",
          "traceback": [
            "\u001b[1;31m---------------------------------------------------------------------------\u001b[0m",
            "\u001b[1;31mModuleNotFoundError\u001b[0m                       Traceback (most recent call last)",
            "\u001b[1;32m~\\AppData\\Local\\Temp/ipykernel_13808/1311255727.py\u001b[0m in \u001b[0;36m<module>\u001b[1;34m\u001b[0m\n\u001b[1;32m----> 1\u001b[1;33m \u001b[1;32mimport\u001b[0m \u001b[0mdask\u001b[0m\u001b[1;33m\u001b[0m\u001b[1;33m\u001b[0m\u001b[0m\n\u001b[0m",
            "\u001b[1;31mModuleNotFoundError\u001b[0m: No module named 'dask'"
          ]
        }
      ]
    },
    {
      "cell_type": "code",
      "metadata": {
        "colab": {
          "base_uri": "https://localhost:8080/"
        },
        "id": "GqK7HiVqN2fG",
        "outputId": "80247266-6fec-4049-d97c-286d084a2771"
      },
      "source": [
        "mnist = tf.keras.datasets.mnist\n",
        "\n",
        "(x_train, y_train), (x_test, y_test) = mnist.load_data()\n",
        "x_train, x_test = x_train / 255.0, x_test / 255.0\n",
        "\n",
        "model = tf.keras.models.Sequential([\n",
        "  tf.keras.layers.Flatten(input_shape=(28, 28)),\n",
        "  tf.keras.layers.Dense(128, activation='relu'),\n",
        "  tf.keras.layers.Dropout(0.2),\n",
        "  tf.keras.layers.Dense(10)\n",
        "])\n",
        "\n",
        "predictions = model(x_train[:1]).numpy()\n",
        "loss_fn = tf.keras.losses.SparseCategoricalCrossentropy(from_logits=True)\n",
        "model.compile(optimizer='adam',\n",
        "              loss=loss_fn,\n",
        "              metrics=['accuracy'])\n",
        "model.fit(x_train, y_train, epochs=1)"
      ],
      "execution_count": null,
      "outputs": [
        {
          "output_type": "stream",
          "name": "stdout",
          "text": [
            "Epoch 1/5\n",
            "1875/1875 [==============================] - 6s 3ms/step - loss: 0.2955 - accuracy: 0.9139\n",
            "Epoch 2/5\n",
            "1875/1875 [==============================] - 5s 3ms/step - loss: 0.1423 - accuracy: 0.9575\n",
            "Epoch 3/5\n",
            "1875/1875 [==============================] - 5s 3ms/step - loss: 0.1072 - accuracy: 0.9677\n",
            "Epoch 4/5\n",
            "1875/1875 [==============================] - 5s 3ms/step - loss: 0.0871 - accuracy: 0.9734\n",
            "Epoch 5/5\n",
            "1875/1875 [==============================] - 5s 3ms/step - loss: 0.0759 - accuracy: 0.9761\n"
          ]
        },
        {
          "output_type": "execute_result",
          "data": {
            "text/plain": [
              "<keras.callbacks.History at 0x7fa1152ec650>"
            ]
          },
          "metadata": {},
          "execution_count": 8
        }
      ]
    },
    {
      "cell_type": "code",
      "metadata": {
        "colab": {
          "base_uri": "https://localhost:8080/"
        },
        "id": "9UXq77PbO7Xk",
        "outputId": "a62d455b-b309-42f0-e3f7-e93554aaa8b9"
      },
      "source": [
        "model_save_file = \"/model_saved_file\"\n",
        "model.save(model_save_file)"
      ],
      "execution_count": null,
      "outputs": [
        {
          "output_type": "stream",
          "name": "stdout",
          "text": [
            "INFO:tensorflow:Assets written to: /model_saved_file/assets\n"
          ]
        }
      ]
    },
    {
      "cell_type": "code",
      "metadata": {
        "id": "t2hwlkCm5O7G"
      },
      "source": [
        ""
      ],
      "execution_count": null,
      "outputs": []
    }
  ]
}